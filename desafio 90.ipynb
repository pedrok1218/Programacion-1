{
 "cells": [
  {
   "cell_type": "markdown",
   "id": "93287ef5",
   "metadata": {},
   "source": [
    "Problemática: Leer un archivo, contar la frecuencia de cada palabra y mostrar las 5 más comunes.\n",
    "\n",
    "Para esto, usaremos la clase Counter del módulo collections de Python, que es ideal para contar frecuencias."
   ]
  },
  {
   "cell_type": "code",
   "execution_count": 1,
   "id": "7999f8f6",
   "metadata": {},
   "outputs": [
    {
     "name": "stdout",
     "output_type": "stream",
     "text": [
      "\n",
      "--- Las 5 Palabras Más Comunes ---\n",
      "- 'perro': 5 veces\n",
      "- 'el': 4 veces\n",
      "- 'ramón': 3 veces\n",
      "- 'no': 2 veces\n",
      "- 'tiene': 2 veces\n"
     ]
    }
   ],
   "source": [
    "from collections import Counter\n",
    "import re # Módulo para expresiones regulares (limpieza de texto)\n",
    "\n",
    "NOMBRE_ARCHIVO_LIBROS_GRANDES = \"libro_grande.txt\"\n",
    "\n",
    "# Crear un archivo de ejemplo con texto repetido\n",
    "texto_ejemplo = \"\"\"\n",
    "El perro de San Roque no tiene rabo porque Ramón Ramírez se lo ha robado. \n",
    "El perro es muy bueno. Ramón robó el perro, pero el perro robado ya no tiene \n",
    "rabo porque Ramón se lo quitó. Perro.\n",
    "\"\"\"\n",
    "with open(NOMBRE_ARCHIVO_LIBROS_GRANDES, \"w\") as f:\n",
    "    f.write(texto_ejemplo)\n",
    "\n",
    "\n",
    "def contar_palabras_comunes(nombre_archivo, n_comunes=5):\n",
    "    \"\"\"\n",
    "    Lee un archivo, cuenta la frecuencia de las palabras y muestra las N más comunes.\n",
    "    \"\"\"\n",
    "    todas_las_palabras = []\n",
    "    try:\n",
    "        with open(nombre_archivo, \"r\") as archivo:\n",
    "            contenido = archivo.read().lower() # Leer todo y pasar a minúsculas\n",
    "            \n",
    "            # Usar regex para encontrar solo palabras (eliminar puntuación)\n",
    "            # Encuentra secuencias de letras y números\n",
    "            palabras = re.findall(r'\\b\\w+\\b', contenido) \n",
    "            \n",
    "            # Filtramos palabras muy cortas que no suelen ser relevantes\n",
    "            todas_las_palabras = [palabra for palabra in palabras if len(palabra) > 1]\n",
    "            \n",
    "    except FileNotFoundError:\n",
    "        print(f\"❌ Error: El archivo '{nombre_archivo}' no fue encontrado.\")\n",
    "        return\n",
    "\n",
    "    # Usar Counter para contar frecuencias\n",
    "    conteo_palabras = Counter(todas_las_palabras)\n",
    "    \n",
    "    # Obtener las N palabras más comunes\n",
    "    mas_comunes = conteo_palabras.most_common(n_comunes)\n",
    "    \n",
    "    print(f\"\\n--- Las {n_comunes} Palabras Más Comunes ---\")\n",
    "    if mas_comunes:\n",
    "        for palabra, frecuencia in mas_comunes:\n",
    "            print(f\"- '{palabra}': {frecuencia} veces\")\n",
    "    else:\n",
    "        print(\"El archivo está vacío o no contiene palabras válidas.\")\n",
    "\n",
    "# Ejemplo de uso:\n",
    "contar_palabras_comunes(NOMBRE_ARCHIVO_LIBROS_GRANDES, 5)"
   ]
  }
 ],
 "metadata": {
  "kernelspec": {
   "display_name": "Python 3",
   "language": "python",
   "name": "python3"
  },
  "language_info": {
   "codemirror_mode": {
    "name": "ipython",
    "version": 3
   },
   "file_extension": ".py",
   "mimetype": "text/x-python",
   "name": "python",
   "nbconvert_exporter": "python",
   "pygments_lexer": "ipython3",
   "version": "3.11.9"
  }
 },
 "nbformat": 4,
 "nbformat_minor": 5
}
