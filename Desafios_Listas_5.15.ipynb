{
 "cells": [
  {
   "cell_type": "markdown",
   "id": "81f2cbbe",
   "metadata": {},
   "source": [
    "## Desafío 72: Buscar un elemento en una lista y devolver su posición\n",
    "Este desafío te pide buscar un código en una lista y, si lo encuentras, devolver su posición. Si no, debes indicar que no se encontró. La solución utiliza el método list.index() de Python, que busca el valor y retorna su índice. Sin embargo, este método genera un ValueError si el elemento no se encuentra. Para manejarlo de forma segura, se utiliza un bloque try...except."
   ]
  },
  {
   "cell_type": "code",
   "execution_count": 1,
   "id": "8e8995dd",
   "metadata": {},
   "outputs": [
    {
     "name": "stdout",
     "output_type": "stream",
     "text": [
      "El código 'C789' se encuentra en la posición 2.\n",
      "El código 'E345' no se encontró en la lista.\n"
     ]
    }
   ],
   "source": [
    "def buscar_y_obtener_posicion(lista_codigos, codigo_buscado):\n",
    "    try:\n",
    "        # Intenta encontrar el índice del código\n",
    "        posicion = lista_codigos.index(codigo_buscado)\n",
    "        print(f\"El código '{codigo_buscado}' se encuentra en la posición {posicion}.\")\n",
    "    except ValueError:\n",
    "        # Maneja el error si el código no está en la lista\n",
    "        print(f\"El código '{codigo_buscado}' no se encontró en la lista.\")\n",
    "\n",
    "# Ejemplo de uso\n",
    "codigos = [\"A123\", \"B456\", \"C789\", \"D012\"]\n",
    "buscar_y_obtener_posicion(codigos, \"C789\")\n",
    "buscar_y_obtener_posicion(codigos, \"E345\")"
   ]
  },
  {
   "cell_type": "markdown",
   "id": "54f92508",
   "metadata": {},
   "source": [
    "## Desafío 73: Eliminar elementos duplicados de una lista\n",
    "Para eliminar elementos duplicados, la forma más eficiente es convertir la lista a un set y luego volver a convertirla a una lista. Un set es una colección de elementos únicos y desordenados, lo que elimina automáticamente los duplicados.## Desafío 73: Eliminar elementos duplicados de una lista\n"
   ]
  },
  {
   "cell_type": "code",
   "execution_count": 2,
   "id": "aa74ce9d",
   "metadata": {},
   "outputs": [
    {
     "name": "stdout",
     "output_type": "stream",
     "text": [
      "Lista original: [1, 2, 3, 2, 4, 1, 5, 3]\n",
      "Lista sin duplicados: [1, 2, 3, 4, 5]\n"
     ]
    },
    {
     "data": {
      "text/plain": [
       "[1, 2, 3, 4, 5]"
      ]
     },
     "execution_count": 2,
     "metadata": {},
     "output_type": "execute_result"
    }
   ],
   "source": [
    "def eliminar_duplicados(lista_original):\n",
    "    # La lista original no se modifica\n",
    "    print(f\"Lista original: {lista_original}\")\n",
    "    \n",
    "    # Convertir a un set para eliminar duplicados\n",
    "    lista_sin_duplicados = list(set(lista_original))\n",
    "    \n",
    "    print(f\"Lista sin duplicados: {lista_sin_duplicados}\")\n",
    "    return lista_sin_duplicados\n",
    "\n",
    "# Ejemplo de uso\n",
    "numeros = [1, 2, 3, 2, 4, 1, 5, 3]\n",
    "eliminar_duplicados(numeros)"
   ]
  },
  {
   "cell_type": "markdown",
   "id": "130c2ef0",
   "metadata": {},
   "source": [
    "## Desafío 74: Sumar elementos de dos listas de diferentes longitudes\n",
    "Este desafío requiere que sumes los elementos de dos listas posición a posición, considerando 0 para los elementos faltantes en la lista más corta. La solución usa la función zip() junto con un bucle for para iterar sobre los elementos de ambas listas al mismo tiempo. Se usa el método append() para agregar el resultado de cada suma a la nueva lista resultados"
   ]
  },
  {
   "cell_type": "code",
   "execution_count": 3,
   "id": "3cc436a9",
   "metadata": {},
   "outputs": [
    {
     "name": "stdout",
     "output_type": "stream",
     "text": [
      "El resultado de la suma de las listas es: [11, 22, 33, 4, 5]\n"
     ]
    }
   ],
   "source": [
    "def sumar_listas_diferentes_longitudes(lista1, lista2):\n",
    "    # Determina la longitud de la lista más larga\n",
    "    max_longitud = max(len(lista1), len(lista2))\n",
    "    \n",
    "    # Asegura que ambas listas tengan la misma longitud, rellenando con 0\n",
    "    lista1.extend([0] * (max_longitud - len(lista1)))\n",
    "    lista2.extend([0] * (max_longitud - len(lista2)))\n",
    "    \n",
    "    resultados = []\n",
    "    \n",
    "    # Suma los elementos correspondientes\n",
    "    for i in range(max_longitud):\n",
    "        suma = lista1[i] + lista2[i]\n",
    "        resultados.append(suma)\n",
    "        \n",
    "    return resultados\n",
    "\n",
    "# Ejemplo de uso\n",
    "lista_a = [10, 20, 30]\n",
    "lista_b = [1, 2, 3, 4, 5]\n",
    "lista_sumada = sumar_listas_diferentes_longitudes(lista_a, lista_b)\n",
    "print(f\"El resultado de la suma de las listas es: {lista_sumada}\")"
   ]
  },
  {
   "cell_type": "markdown",
   "id": "37f43753",
   "metadata": {},
   "source": [
    "## Desafío 75: Crear una lista con list comprehension\n",
    "Las list comprehensions son una forma concisa y elegante de crear listas en Python. Permiten generar una nueva lista aplicando una expresión a cada elemento de una secuencia. En este desafío, se usan para calcular las potencias de 2 para los números del 0 al 9 en una sola línea."
   ]
  },
  {
   "cell_type": "code",
   "execution_count": 4,
   "id": "9e7f4017",
   "metadata": {},
   "outputs": [
    {
     "name": "stdout",
     "output_type": "stream",
     "text": [
      "[1, 2, 4, 8, 16, 32, 64, 128, 256, 512]\n"
     ]
    }
   ],
   "source": [
    "# Crea una lista de potencias de 2\n",
    "potencias = [2**x for x in range(10)]\n",
    "\n",
    "print(potencias)"
   ]
  }
 ],
 "metadata": {
  "kernelspec": {
   "display_name": "Python 3",
   "language": "python",
   "name": "python3"
  },
  "language_info": {
   "codemirror_mode": {
    "name": "ipython",
    "version": 3
   },
   "file_extension": ".py",
   "mimetype": "text/x-python",
   "name": "python",
   "nbconvert_exporter": "python",
   "pygments_lexer": "ipython3",
   "version": "3.11.9"
  }
 },
 "nbformat": 4,
 "nbformat_minor": 5
}
