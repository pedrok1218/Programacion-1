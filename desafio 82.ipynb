{
 "cells": [
  {
   "cell_type": "markdown",
   "id": "0e4b73ad",
   "metadata": {},
   "source": [
    "Problemática: Dada una matriz de calificaciones, implementa una función que busque una calificación específica y devuelva la posición (estudiante y materia)."
   ]
  },
  {
   "cell_type": "code",
   "execution_count": 1,
   "id": "baaae915",
   "metadata": {},
   "outputs": [
    {
     "name": "stdout",
     "output_type": "stream",
     "text": [
      "\n",
      "------------------------------\n",
      "Búsqueda de la calificación: 88\n",
      "¡Calificación 88 encontrada!\n",
      "Estudiante: Beto (Fila 2)\n",
      "Materia: Historia (Columna 2)\n"
     ]
    }
   ],
   "source": [
    "# Matriz: cada fila es un estudiante, cada columna una materia\n",
    "calificaciones = [\n",
    "    [85, 90, 78, 92],  # Estudiante 1 (Ana)\n",
    "    [95, 88, 91, 75],  # Estudiante 2 (Beto)\n",
    "    [70, 79, 83, 94]   # Estudiante 3 (Carlos)\n",
    "]\n",
    "nombres_estudiantes = [\"Ana\", \"Beto\", \"Carlos\"]\n",
    "nombres_materias = [\"Matemáticas\", \"Historia\", \"Ciencias\", \"Lenguaje\"]\n",
    "\n",
    "def busqueda_secuencial_matriz(matriz, nombres, materias, calificacion_buscar):\n",
    "    \"\"\"\n",
    "    Busca una calificación específica en toda la matriz.\n",
    "    \"\"\"\n",
    "    filas = len(matriz)\n",
    "    if filas == 0:\n",
    "        return \"Tabla de calificaciones vacía.\"\n",
    "    \n",
    "    columnas = len(matriz[0])\n",
    "\n",
    "    for i in range(filas):\n",
    "        for j in range(columnas):\n",
    "            if matriz[i][j] == calificacion_buscar:\n",
    "                # Retorna la información de la posición\n",
    "                return (f\"¡Calificación {calificacion_buscar} encontrada!\\n\"\n",
    "                        f\"Estudiante: {nombres[i]} (Fila {i+1})\\n\"\n",
    "                        f\"Materia: {materias[j]} (Columna {j+1})\")\n",
    "    \n",
    "    return f\"Calificación {calificacion_buscar} no encontrada en la tabla.\"\n",
    "\n",
    "# --- Llamada a la función ---\n",
    "calificacion_objetivo = 88\n",
    "resultado = busqueda_secuencial_matriz(calificaciones, nombres_estudiantes, nombres_materias, calificacion_objetivo)\n",
    "print(\"\\n\" + \"-\"*30)\n",
    "print(f\"Búsqueda de la calificación: {calificacion_objetivo}\")\n",
    "print(resultado)"
   ]
  }
 ],
 "metadata": {
  "kernelspec": {
   "display_name": "Python 3",
   "language": "python",
   "name": "python3"
  },
  "language_info": {
   "codemirror_mode": {
    "name": "ipython",
    "version": 3
   },
   "file_extension": ".py",
   "mimetype": "text/x-python",
   "name": "python",
   "nbconvert_exporter": "python",
   "pygments_lexer": "ipython3",
   "version": "3.11.9"
  }
 },
 "nbformat": 4,
 "nbformat_minor": 5
}
