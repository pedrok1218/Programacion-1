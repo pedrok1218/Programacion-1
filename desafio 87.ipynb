{
 "cells": [
  {
   "cell_type": "markdown",
   "id": "ab3aaec1",
   "metadata": {},
   "source": [
    "Problemática: Buscar y mostrar todos los libros escritos por un autor específico en un archivo de texto, línea por línea."
   ]
  },
  {
   "cell_type": "code",
   "execution_count": 1,
   "id": "76a7fbb6",
   "metadata": {},
   "outputs": [
    {
     "name": "stdout",
     "output_type": "stream",
     "text": [
      "\n",
      "--- Libros encontrados para 'Gabriel García Márquez' ---\n",
      "- Cien Años de Soledad\n",
      "- Crónica de una Muerte Anunciada\n",
      "\n",
      "--- Libros encontrados para 'Ray Bradbury' ---\n",
      "🔎 No se encontraron libros de ese autor.\n"
     ]
    }
   ],
   "source": [
    "NOMBRE_ARCHIVO_LIBROS = \"libros_y_autores.txt\"\n",
    "\n",
    "# Crear un archivo de ejemplo (Necesario para que el código de búsqueda funcione)\n",
    "with open(NOMBRE_ARCHIVO_LIBROS, \"w\") as f:\n",
    "    f.write(\"Cien Años de Soledad, Gabriel García Márquez\\n\")\n",
    "    f.write(\"Crónica de una Muerte Anunciada, Gabriel García Márquez\\n\")\n",
    "    f.write(\"1984, George Orwell\\n\")\n",
    "    f.write(\"Rebelión en la Granja, George Orwell\\n\")\n",
    "    f.write(\"Don Quijote de la Mancha, Miguel de Cervantes\\n\")\n",
    "\n",
    "def buscar_libro_por_autor(nombre_archivo, autor_buscar):\n",
    "    \"\"\"\n",
    "    Busca libros en el archivo que coincidan con el autor especificado.\n",
    "    \"\"\"\n",
    "    libros_encontrados = []\n",
    "    autor_buscar = autor_buscar.strip().lower() # Normalizar para búsqueda\n",
    "\n",
    "    try:\n",
    "        with open(nombre_archivo, \"r\") as archivo:\n",
    "            for linea in archivo: # Leer línea por línea\n",
    "                # Dividir el libro y el autor (asumiendo que están separados por coma)\n",
    "                if \",\" in linea:\n",
    "                    partes = linea.strip().split(\",\", 1)\n",
    "                    if len(partes) == 2:\n",
    "                        libro = partes[0].strip()\n",
    "                        autor = partes[1].strip().lower()\n",
    "                        \n",
    "                        if autor == autor_buscar:\n",
    "                            libros_encontrados.append(libro)\n",
    "\n",
    "    except FileNotFoundError:\n",
    "        print(f\"❌ Error: El archivo '{nombre_archivo}' no fue encontrado.\")\n",
    "        return\n",
    "\n",
    "    print(f\"\\n--- Libros encontrados para '{autor_buscar.title()}' ---\")\n",
    "    if libros_encontrados:\n",
    "        for libro in libros_encontrados:\n",
    "            print(f\"- {libro}\")\n",
    "    else:\n",
    "        print(\"🔎 No se encontraron libros de ese autor.\")\n",
    "\n",
    "# Ejemplo de uso:\n",
    "buscar_libro_por_autor(NOMBRE_ARCHIVO_LIBROS, \"gabriel garcía márquez\")\n",
    "buscar_libro_por_autor(NOMBRE_ARCHIVO_LIBROS, \"ray bradbury\")"
   ]
  }
 ],
 "metadata": {
  "kernelspec": {
   "display_name": "Python 3",
   "language": "python",
   "name": "python3"
  },
  "language_info": {
   "codemirror_mode": {
    "name": "ipython",
    "version": 3
   },
   "file_extension": ".py",
   "mimetype": "text/x-python",
   "name": "python",
   "nbconvert_exporter": "python",
   "pygments_lexer": "ipython3",
   "version": "3.11.9"
  }
 },
 "nbformat": 4,
 "nbformat_minor": 5
}
