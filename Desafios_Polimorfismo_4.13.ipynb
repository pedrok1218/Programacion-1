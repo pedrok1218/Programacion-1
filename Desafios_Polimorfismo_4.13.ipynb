{
 "cells": [
  {
   "cell_type": "markdown",
   "id": "01957258",
   "metadata": {},
   "source": [
    "## Desafío 62: Jerarquía de Empleados y Polimorfismo\n",
    "Para este desafío, aplicaremos el polimorfismo en una jerarquía de empleados. El método calcular_salario será la base para el polimorfismo; cada subclase lo sobrescribirá para reflejar su propia lógica salarial.\n"
   ]
  },
  {
   "cell_type": "code",
   "execution_count": 1,
   "id": "e5c41338",
   "metadata": {},
   "outputs": [
    {
     "name": "stdout",
     "output_type": "stream",
     "text": [
      "El salario de Juan es: $55000\n",
      "El salario de Ana es: $25400\n"
     ]
    }
   ],
   "source": [
    "class Empleado:\n",
    "    def __init__(self, nombre, salario_base):\n",
    "        self.nombre = nombre\n",
    "        self.salario_base = salario_base\n",
    "\n",
    "    def calcular_salario(self):\n",
    "        \"\"\"Método base para calcular el salario. Se sobrescribirá en las subclases.\"\"\"\n",
    "        return self.salario_base\n",
    "\n",
    "class TiempoCompleto(Empleado):\n",
    "    def __init__(self, nombre, salario_base, bonificacion):\n",
    "        super().__init__(nombre, salario_base)\n",
    "        self.bonificacion = bonificacion\n",
    "\n",
    "    def calcular_salario(self):\n",
    "        \"\"\"Sobrescribe el método para incluir una bonificación.\"\"\"\n",
    "        return self.salario_base + self.bonificacion\n",
    "\n",
    "class MedioTiempo(Empleado):\n",
    "    def __init__(self, nombre, salario_base, horas_trabajadas):\n",
    "        super().__init__(nombre, salario_base)\n",
    "        self.horas_trabajadas = horas_trabajadas\n",
    "\n",
    "    def calcular_salario(self):\n",
    "        \"\"\"Sobrescribe el método para calcular el salario por horas.\"\"\"\n",
    "        salario_por_hora = 20  # Ejemplo de tarifa por hora\n",
    "        return self.salario_base + (self.horas_trabajadas * salario_por_hora)\n",
    "\n",
    "def imprimir_salario(empleado):\n",
    "    \"\"\"Función polimórfica que llama a calcular_salario.\"\"\"\n",
    "    print(f\"El salario de {empleado.nombre} es: ${empleado.calcular_salario()}\")\n",
    "\n",
    "# Ejemplo de uso\n",
    "emp_completo = TiempoCompleto(\"Juan\", 50000, 5000)\n",
    "emp_medio = MedioTiempo(\"Ana\", 25000, 20)\n",
    "\n",
    "imprimir_salario(emp_completo)\n",
    "imprimir_salario(emp_medio)"
   ]
  },
  {
   "cell_type": "markdown",
   "id": "0359bbae",
   "metadata": {},
   "source": [
    "## Desafío 63: Polimorfismo en Recursos de Biblioteca\n",
    "Para la jerarquía de RecursoBiblioteca, el polimorfismo se manifestará en el método informacion. Cada subclase (Libro y Revista) tendrá su propia implementación de este método, lo que permite que una función genérica maneje ambos tipos de recursos de manera distinta."
   ]
  },
  {
   "cell_type": "code",
   "execution_count": 2,
   "id": "3d0beada",
   "metadata": {},
   "outputs": [
    {
     "name": "stdout",
     "output_type": "stream",
     "text": [
      "Título: El Aleph\n",
      "Autor: Jorge Luis Borges\n",
      "ISBN: 978-987-1110-38-0\n",
      "--------------------\n",
      "Título: National Geographic\n",
      "Número: 250\n",
      "Fecha de Publicación: Noviembre 2023\n"
     ]
    }
   ],
   "source": [
    "class RecursoBiblioteca:\n",
    "    def __init__(self, titulo):\n",
    "        self.titulo = titulo\n",
    "\n",
    "    def informacion(self):\n",
    "        return f\"Título: {self.titulo}\"\n",
    "\n",
    "class Libro(RecursoBiblioteca):\n",
    "    def __init__(self, titulo, autor, isbn):\n",
    "        super().__init__(titulo)\n",
    "        self.autor = autor\n",
    "        self.isbn = isbn\n",
    "\n",
    "    def informacion(self):\n",
    "        return f\"{super().informacion()}\\nAutor: {self.autor}\\nISBN: {self.isbn}\"\n",
    "\n",
    "class Revista(RecursoBiblioteca):\n",
    "    def __init__(self, titulo, numero, fecha_publicacion):\n",
    "        super().__init__(titulo)\n",
    "        self.numero = numero\n",
    "        self.fecha_publicacion = fecha_publicacion\n",
    "\n",
    "    def informacion(self):\n",
    "        return f\"{super().informacion()}\\nNúmero: {self.numero}\\nFecha de Publicación: {self.fecha_publicacion}\"\n",
    "\n",
    "def mostrar_info_recurso(recurso):\n",
    "    \"\"\"Función polimórfica.\"\"\"\n",
    "    print(recurso.informacion())\n",
    "\n",
    "# Ejemplo de uso\n",
    "recurso_libro = Libro(\"El Aleph\", \"Jorge Luis Borges\", \"978-987-1110-38-0\")\n",
    "recurso_revista = Revista(\"National Geographic\", 250, \"Noviembre 2023\")\n",
    "\n",
    "mostrar_info_recurso(recurso_libro)\n",
    "print(\"-\" * 20)\n",
    "mostrar_info_recurso(recurso_revista)"
   ]
  },
  {
   "cell_type": "markdown",
   "id": "67a6ac26",
   "metadata": {},
   "source": [
    "## Desafío 64: Polimorfismo en Usuarios\n",
    "Aquí, el polimorfismo se aplica al método nivel_acceso. Este método tendrá una implementación diferente para cada tipo de usuario, reflejando sus permisos específicos en la biblioteca.\n"
   ]
  },
  {
   "cell_type": "code",
   "execution_count": 3,
   "id": "3e388fb1",
   "metadata": {},
   "outputs": [
    {
     "name": "stdout",
     "output_type": "stream",
     "text": [
      "El nivel de acceso de Sofía es: Acceso de estudiante. Puede prestar hasta 5 libros.\n",
      "El nivel de acceso de Dr. García es: Acceso de profesor. Puede prestar hasta 20 libros y acceder a revistas académicas.\n"
     ]
    }
   ],
   "source": [
    "class Usuario:\n",
    "    def __init__(self, nombre, id_usuario):\n",
    "        self.nombre = nombre\n",
    "        self.id_usuario = id_usuario\n",
    "\n",
    "    def nivel_acceso(self):\n",
    "        return \"Acceso básico a la biblioteca.\"\n",
    "\n",
    "class Estudiante(Usuario):\n",
    "    def __init__(self, nombre, id_usuario, carrera):\n",
    "        super().__init__(nombre, id_usuario)\n",
    "        self.carrera = carrera\n",
    "\n",
    "    def nivel_acceso(self):\n",
    "        return f\"Acceso de estudiante. Puede prestar hasta 5 libros.\"\n",
    "\n",
    "class Profesor(Usuario):\n",
    "    def __init__(self, nombre, id_usuario, departamento):\n",
    "        super().__init__(nombre, id_usuario)\n",
    "        self.departamento = departamento\n",
    "\n",
    "    def nivel_acceso(self):\n",
    "        return f\"Acceso de profesor. Puede prestar hasta 20 libros y acceder a revistas académicas.\"\n",
    "\n",
    "def verificar_acceso(usuario):\n",
    "    print(f\"El nivel de acceso de {usuario.nombre} es: {usuario.nivel_acceso()}\")\n",
    "\n",
    "# Ejemplo de uso\n",
    "usuario_estudiante = Estudiante(\"Sofía\", \"S101\", \"Informática\")\n",
    "usuario_profesor = Profesor(\"Dr. García\", \"P202\", \"Literatura\")\n",
    "\n",
    "verificar_acceso(usuario_estudiante)\n",
    "verificar_acceso(usuario_profesor)"
   ]
  },
  {
   "cell_type": "markdown",
   "id": "e145eec8",
   "metadata": {},
   "source": [
    "## Desafío 65: Polimorfismo en figuras geométricas\n",
    "Este desafío utiliza el polimorfismo para calcular el área de diferentes figuras geométricas. La clase base Figura define un método area que luego se sobrescribe en cada subclase, Circulo y Cuadrado, para realizar el cálculo correcto."
   ]
  },
  {
   "cell_type": "code",
   "execution_count": 4,
   "id": "25317553",
   "metadata": {},
   "outputs": [
    {
     "name": "stdout",
     "output_type": "stream",
     "text": [
      "El área de la figura es: 78.54\n",
      "El área de la figura es: 16.00\n"
     ]
    }
   ],
   "source": [
    "import math\n",
    "\n",
    "class Figura:\n",
    "    def area(self):\n",
    "        raise NotImplementedError(\"Este método debe ser sobrescrito por la subclase.\")\n",
    "\n",
    "class Circulo(Figura):\n",
    "    def __init__(self, radio):\n",
    "        self.radio = radio\n",
    "\n",
    "    def area(self):\n",
    "        return math.pi * self.radio**2\n",
    "\n",
    "class Cuadrado(Figura):\n",
    "    def __init__(self, lado):\n",
    "        self.lado = lado\n",
    "\n",
    "    def area(self):\n",
    "        return self.lado**2\n",
    "\n",
    "def calcular_area(figura):\n",
    "    print(f\"El área de la figura es: {figura.area():.2f}\")\n",
    "\n",
    "# Ejemplo de uso\n",
    "mi_circulo = Circulo(5)\n",
    "mi_cuadrado = Cuadrado(4)\n",
    "\n",
    "calcular_area(mi_circulo)\n",
    "calcular_area(mi_cuadrado)"
   ]
  },
  {
   "cell_type": "markdown",
   "id": "8a65d411",
   "metadata": {},
   "source": [
    "## Desafío 66: Polimorfismo en operaciones matemáticas\n",
    "El polimorfismo es perfecto para manejar operaciones matemáticas. Creamos una clase base Operacion con un método resultado, y las subclases Suma y Multiplicacion sobrescriben este método para realizar la operación que les correspond"
   ]
  },
  {
   "cell_type": "code",
   "execution_count": 5,
   "id": "5b669c6c",
   "metadata": {},
   "outputs": [
    {
     "name": "stdout",
     "output_type": "stream",
     "text": [
      "El resultado de la operación es: 15\n",
      "El resultado de la operación es: 50\n"
     ]
    }
   ],
   "source": [
    "class Operacion:\n",
    "    def resultado(self):\n",
    "        raise NotImplementedError(\"Este método debe ser implementado por la subclase.\")\n",
    "\n",
    "class Suma(Operacion):\n",
    "    def __init__(self, a, b):\n",
    "        self.a = a\n",
    "        self.b = b\n",
    "\n",
    "    def resultado(self):\n",
    "        return self.a + self.b\n",
    "\n",
    "class Multiplicacion(Operacion):\n",
    "    def __init__(self, a, b):\n",
    "        self.a = a\n",
    "        self.b = b\n",
    "\n",
    "    def resultado(self):\n",
    "        return self.a * self.b\n",
    "\n",
    "def ejecutar_operacion(operacion):\n",
    "    print(f\"El resultado de la operación es: {operacion.resultado()}\")\n",
    "\n",
    "# Ejemplo de uso\n",
    "mi_suma = Suma(10, 5)\n",
    "mi_multiplicacion = Multiplicacion(10, 5)\n",
    "\n",
    "ejecutar_operacion(mi_suma)\n",
    "ejecutar_operacion(mi_multiplicacion)"
   ]
  }
 ],
 "metadata": {
  "kernelspec": {
   "display_name": "Python 3",
   "language": "python",
   "name": "python3"
  },
  "language_info": {
   "codemirror_mode": {
    "name": "ipython",
    "version": 3
   },
   "file_extension": ".py",
   "mimetype": "text/x-python",
   "name": "python",
   "nbconvert_exporter": "python",
   "pygments_lexer": "ipython3",
   "version": "3.11.9"
  }
 },
 "nbformat": 4,
 "nbformat_minor": 5
}
