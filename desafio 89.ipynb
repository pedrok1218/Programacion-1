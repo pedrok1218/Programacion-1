{
 "cells": [
  {
   "cell_type": "markdown",
   "id": "a2f00b7d",
   "metadata": {},
   "source": [
    "Problemática: Mostrar los registros de prestamos.txt, permitir seleccionar uno para eliminar y actualizar el archivo. \n",
    "se lee el contenido, se modifica en memoria y se reescribe el archivo completo."
   ]
  },
  {
   "cell_type": "code",
   "execution_count": 3,
   "id": "f67ec5cd",
   "metadata": {},
   "outputs": [
    {
     "name": "stdout",
     "output_type": "stream",
     "text": [
      "\n",
      "--- Registros de Préstamos Actuales ---\n",
      "[1]: Cien Años de Soledad | Ana | 2025-01-10\n",
      "[2]: El Señor de los Anillos | Carlos | 2025-01-15\n",
      "[3]: 1984 | Diana | 2025-01-20\n",
      "✅ Registro eliminado con éxito: Cien Años de Soledad\n"
     ]
    }
   ],
   "source": [
    "NOMBRE_ARCHIVO_PRESTAMOS = \"prestamos.txt\"\n",
    "\n",
    "# Asegurar que el archivo de préstamos tenga contenido (usamos el del Desafío 86)\n",
    "try:\n",
    "    with open(NOMBRE_ARCHIVO_PRESTAMOS, \"w\") as f:\n",
    "        f.write(\"Cien Años de Soledad|Ana|2025-01-10\\n\")\n",
    "        f.write(\"El Señor de los Anillos|Carlos|2025-01-15\\n\")\n",
    "        f.write(\"1984|Diana|2025-01-20\\n\")\n",
    "except Exception:\n",
    "    pass # Ignorar si falla, se manejará como FileNotFound\n",
    "\n",
    "def eliminar_registro_prestamo(nombre_archivo):\n",
    "    \"\"\"\n",
    "    Muestra los registros, permite seleccionar uno para eliminar y actualiza el archivo.\n",
    "    \"\"\"\n",
    "    registros = []\n",
    "    \n",
    "    # 1. Leer y numerar los registros\n",
    "    try:\n",
    "        with open(nombre_archivo, \"r\") as archivo:\n",
    "            for linea in archivo:\n",
    "                registros.append(linea.strip())\n",
    "    except FileNotFoundError:\n",
    "        print(f\"❌ Error: Archivo '{nombre_archivo}' no encontrado o vacío.\")\n",
    "        return\n",
    "\n",
    "    if not registros:\n",
    "        print(\"El archivo de préstamos está vacío.\")\n",
    "        return\n",
    "    \n",
    "    print(\"\\n--- Registros de Préstamos Actuales ---\")\n",
    "    for i, reg in enumerate(registros):\n",
    "        print(f\"[{i + 1}]: {reg.replace('|', ' | ')}\")\n",
    "\n",
    "    # 2. Solicitar el índice a eliminar\n",
    "    try:\n",
    "        seleccion = input(\"Ingrese el número del registro a eliminar (o '0' para cancelar): \")\n",
    "        indice_eliminar = int(seleccion) - 1\n",
    "    except ValueError:\n",
    "        print(\"❌ Entrada inválida. Cancelando eliminación.\")\n",
    "        return\n",
    "\n",
    "    if 0 <= indice_eliminar < len(registros):\n",
    "        registro_eliminado = registros.pop(indice_eliminar)\n",
    "        \n",
    "        # 3. Reescribir el archivo sin el registro eliminado\n",
    "        try:\n",
    "            with open(nombre_archivo, \"w\") as archivo: # Modo 'w' para sobrescribir\n",
    "                for reg in registros:\n",
    "                    archivo.write(reg + \"\\n\")\n",
    "            print(f\"✅ Registro eliminado con éxito: {registro_eliminado.split('|')[0]}\")\n",
    "        except Exception as e:\n",
    "            print(f\"❌ Error al reescribir el archivo: {e}\")\n",
    "    elif indice_eliminar != -1: # Si no es 0\n",
    "        print(\"❌ Número de registro fuera de rango. Cancelando.\")\n",
    "\n",
    "# Ejemplo de uso:\n",
    "eliminar_registro_prestamo(NOMBRE_ARCHIVO_PRESTAMOS)"
   ]
  }
 ],
 "metadata": {
  "kernelspec": {
   "display_name": "Python 3",
   "language": "python",
   "name": "python3"
  },
  "language_info": {
   "codemirror_mode": {
    "name": "ipython",
    "version": 3
   },
   "file_extension": ".py",
   "mimetype": "text/x-python",
   "name": "python",
   "nbconvert_exporter": "python",
   "pygments_lexer": "ipython3",
   "version": "3.11.9"
  }
 },
 "nbformat": 4,
 "nbformat_minor": 5
}
