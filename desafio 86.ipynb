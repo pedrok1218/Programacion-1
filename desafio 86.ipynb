{
 "cells": [
  {
   "cell_type": "markdown",
   "id": "d4c316e7",
   "metadata": {},
   "source": [
    "Problemática: Crea un archivo prestamos.txt y permite agregar registros de préstamos sin sobrescribir el contenido.\n",
    "\n",
    "La clave es usar el modo de agregar (\"a\").\n"
   ]
  },
  {
   "cell_type": "code",
   "execution_count": 1,
   "id": "d5c331a6",
   "metadata": {},
   "outputs": [
    {
     "name": "stdout",
     "output_type": "stream",
     "text": [
      "\n",
      "--- Registrar Nuevo Préstamo ---\n",
      "✅ Préstamo registrado con éxito.\n"
     ]
    }
   ],
   "source": [
    "import datetime\n",
    "\n",
    "NOMBRE_ARCHIVO_PRESTAMOS = \"prestamos.txt\"\n",
    "\n",
    "def agregar_registro_prestamo():\n",
    "    \"\"\"\n",
    "    Solicita datos al usuario y los añade al archivo prestamos.txt \n",
    "    utilizando el modo 'a' (append).\n",
    "    \"\"\"\n",
    "    print(\"\\n--- Registrar Nuevo Préstamo ---\")\n",
    "    libro = input(\"Nombre del libro: \")\n",
    "    prestatario = input(\"Nombre del prestatario: \")\n",
    "    \n",
    "    # Usar la fecha actual por defecto\n",
    "    fecha = datetime.date.today().strftime(\"%Y-%m-%d\") \n",
    "    \n",
    "    # Formato del registro\n",
    "    registro = f\"{libro}|{prestatario}|{fecha}\\n\"\n",
    "    \n",
    "    # Usar 'a' para agregar sin sobrescribir\n",
    "    try:\n",
    "        with open(NOMBRE_ARCHIVO_PRESTAMOS, \"a\") as archivo:\n",
    "            archivo.write(registro)\n",
    "        print(\"✅ Préstamo registrado con éxito.\")\n",
    "    except Exception as e:\n",
    "        print(f\"❌ Error al escribir en el archivo: {e}\")\n",
    "\n",
    "# Ejemplo de uso:\n",
    "# NOTA: Para probar, ejecute esta función varias veces.\n",
    "# Se recomienda crear primero un archivo vacío para evitar errores si no existe.\n",
    "# Puede necesitar crear el archivo manualmente o modificar la lógica si no existe.\n",
    "# Para esta solución, asumimos que el archivo existe o se crea con el modo 'a'.\n",
    "agregar_registro_prestamo()"
   ]
  }
 ],
 "metadata": {
  "kernelspec": {
   "display_name": "Python 3",
   "language": "python",
   "name": "python3"
  },
  "language_info": {
   "codemirror_mode": {
    "name": "ipython",
    "version": 3
   },
   "file_extension": ".py",
   "mimetype": "text/x-python",
   "name": "python",
   "nbconvert_exporter": "python",
   "pygments_lexer": "ipython3",
   "version": "3.11.9"
  }
 },
 "nbformat": 4,
 "nbformat_minor": 5
}
