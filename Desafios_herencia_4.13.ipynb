{
 "cells": [
  {
   "cell_type": "markdown",
   "id": "93a23793",
   "metadata": {},
   "source": [
    "## Desafío 57: Clase Poeta\n",
    "\n",
    "Para este desafío, creamos una clase Poeta que hereda de la clase base Autor. Como un poeta es un tipo de autor, podemos reutilizar su constructor y atributos. La clase Poeta tendrá un nuevo atributo específico llamado tipo_poesia, además de los heredados.\n",
    "\n",
    "Para asegurarnos de que el __init__ de la clase base se inicialice correctamente, usamos la función super().__init__(nombre).."
   ]
  },
  {
   "cell_type": "code",
   "execution_count": 1,
   "id": "a694e0fe",
   "metadata": {},
   "outputs": [
    {
     "name": "stdout",
     "output_type": "stream",
     "text": [
      "Nombre del poeta: Pablo Neruda\n",
      "Tipo de poesía: Odas Elementales\n"
     ]
    }
   ],
   "source": [
    "class Autor:\n",
    "    def __init__(self, nombre):\n",
    "        self.nombre = nombre\n",
    "\n",
    "class Poeta(Autor):\n",
    "    def __init__(self, nombre, tipo_poesia):\n",
    "        super().__init__(nombre)\n",
    "        self.tipo_poesia = tipo_poesia\n",
    "\n",
    "    def mostrar_info(self):\n",
    "        print(f\"Nombre del poeta: {self.nombre}\")\n",
    "        print(f\"Tipo de poesía: {self.tipo_poesia}\")\n",
    "\n",
    "# Ejemplo de uso\n",
    "poeta_neruda = Poeta(\"Pablo Neruda\", \"Odas Elementales\")\n",
    "poeta_neruda.mostrar_info()"
   ]
  },
  {
   "cell_type": "markdown",
   "id": "2f6b1426",
   "metadata": {},
   "source": [
    "## Desafío 58: Jerarquía de clases para libros\n",
    "Similar al desafío anterior, vamos a crear una jerarquía de clases para libros. La clase Libro será la clase base y tendrá atributos como título, autor y género. Luego, crearemos subclases como Novela y LibroDeTexto, que hereden de Libro y agreguen atributos y métodos específicos de su tipo."
   ]
  },
  {
   "cell_type": "code",
   "execution_count": 2,
   "id": "2fe6b4ad",
   "metadata": {},
   "outputs": [
    {
     "name": "stdout",
     "output_type": "stream",
     "text": [
      "Título: Ficciones\n",
      "Autor: Jorge Luis Borges\n",
      "Género: Ficción\n",
      "Premio ganado: Premio Cervantes\n",
      "\n",
      "---\n",
      "Título: Principios de Física\n",
      "Autor: Paul M. Tipler\n",
      "Género: Ciencia\n",
      "Materia: Física\n"
     ]
    }
   ],
   "source": [
    "class Libro:\n",
    "    def __init__(self, titulo, autor, genero):\n",
    "        self.titulo = titulo\n",
    "        self.autor = autor\n",
    "        self.genero = genero\n",
    "\n",
    "    def mostrar_info(self):\n",
    "        print(f\"Título: {self.titulo}\")\n",
    "        print(f\"Autor: {self.autor}\")\n",
    "        print(f\"Género: {self.genero}\")\n",
    "\n",
    "class Novela(Libro):\n",
    "    def __init__(self, titulo, autor, genero, premio):\n",
    "        super().__init__(titulo, autor, genero)\n",
    "        self.premio = premio\n",
    "\n",
    "    def mostrar_info(self):\n",
    "        super().mostrar_info()\n",
    "        print(f\"Premio ganado: {self.premio}\")\n",
    "\n",
    "class LibroDeTexto(Libro):\n",
    "    def __init__(self, titulo, autor, genero, materia):\n",
    "        super().__init__(titulo, autor, genero)\n",
    "        self.materia = materia\n",
    "\n",
    "    def mostrar_info(self):\n",
    "        super().mostrar_info()\n",
    "        print(f\"Materia: {self.materia}\")\n",
    "\n",
    "# Ejemplo de uso\n",
    "libro_ficciones = Novela(\"Ficciones\", \"Jorge Luis Borges\", \"Ficción\", \"Premio Cervantes\")\n",
    "libro_ficciones.mostrar_info()\n",
    "\n",
    "print(\"\\n---\")\n",
    "\n",
    "libro_fisica = LibroDeTexto(\"Principios de Física\", \"Paul M. Tipler\", \"Ciencia\", \"Física\")\n",
    "libro_fisica.mostrar_info()"
   ]
  },
  {
   "cell_type": "markdown",
   "id": "b00f6b61",
   "metadata": {},
   "source": [
    "## Desafío 59: Jerarquía de empleados de biblioteca\n",
    "En este desafío, usaremos herencia múltiple para crear una jerarquía de clases que represente a los empleados de una biblioteca.. Primero, definimos clases base como Empleado y Academico. Luego, la clase BibliotecarioAcademico heredará de ambas, permitiéndole tener atributos de un empleado y de un académico. La función super() es clave para inicializar las clases base correctamente."
   ]
  },
  {
   "cell_type": "code",
   "execution_count": 3,
   "id": "ea9f3cf9",
   "metadata": {},
   "outputs": [
    {
     "name": "stdout",
     "output_type": "stream",
     "text": [
      "Nombre: Elena\n",
      "ID Empleado: E456\n",
      "Especialidad: Literatura Clásica\n"
     ]
    }
   ],
   "source": [
    "class Empleado:\n",
    "    def __init__(self, nombre, id_empleado):\n",
    "        self.nombre = nombre\n",
    "        self.id_empleado = id_empleado\n",
    "\n",
    "class Academico:\n",
    "    def __init__(self, especialidad):\n",
    "        self.especialidad = especialidad\n",
    "\n",
    "class BibliotecarioAcademico(Empleado, Academico):\n",
    "    def __init__(self, nombre, id_empleado, especialidad):\n",
    "        Empleado.__init__(self, nombre, id_empleado)\n",
    "        Academico.__init__(self, especialidad)\n",
    "\n",
    "    def mostrar_info(self):\n",
    "        print(f\"Nombre: {self.nombre}\")\n",
    "        print(f\"ID Empleado: {self.id_empleado}\")\n",
    "        print(f\"Especialidad: {self.especialidad}\")\n",
    "\n",
    "# Ejemplo de uso\n",
    "bibliotecario = BibliotecarioAcademico(\"Elena\", \"E456\", \"Literatura Clásica\")\n",
    "bibliotecario.mostrar_info()"
   ]
  },
  {
   "cell_type": "markdown",
   "id": "b01b1fd0",
   "metadata": {},
   "source": [
    "## Desafío 60: Herencia de métodos y polimorfismo\n",
    "El desafío 60 pide crear una clase AutorCientifico que herede de Autor y agregue una funcionalidad para publicar artículos. Esto demuestra el polimorfismo, que es la capacidad de un método de tener diferentes comportamientos en diferentes clases.\n",
    "\n"
   ]
  },
  {
   "cell_type": "code",
   "execution_count": 4,
   "id": "80b3b520",
   "metadata": {},
   "outputs": [
    {
     "name": "stdout",
     "output_type": "stream",
     "text": [
      "¡El autor científico está en modo libro!\n",
      "Carl Sagan ha escrito un nuevo libro: 'Cosmos'.\n",
      "Carl Sagan ha publicado un artículo de Astrofísica: 'La Vía Láctea'.\n"
     ]
    },
    {
     "data": {
      "text/plain": [
       "'La Vía Láctea'"
      ]
     },
     "execution_count": 4,
     "metadata": {},
     "output_type": "execute_result"
    }
   ],
   "source": [
    "class Autor:\n",
    "    def __init__(self, nombre, nacionalidad):\n",
    "        self.nombre = nombre\n",
    "        self.nacionalidad = nacionalidad\n",
    "        self.libros = []\n",
    "\n",
    "    def escribir_libro(self, titulo):\n",
    "        self.libros.append(titulo)\n",
    "        print(f\"{self.nombre} ha escrito un nuevo libro: '{titulo}'.\")\n",
    "        return titulo\n",
    "\n",
    "class AutorCientifico(Autor):\n",
    "    def __init__(self, nombre, nacionalidad, disciplina):\n",
    "        super().__init__(nombre, nacionalidad)\n",
    "        self.disciplina = disciplina\n",
    "        self.articulos = []\n",
    "\n",
    "    def publicar_articulo(self, titulo_articulo):\n",
    "        self.articulos.append(titulo_articulo)\n",
    "        print(f\"{self.nombre} ha publicado un artículo de {self.disciplina}: '{titulo_articulo}'.\")\n",
    "        return titulo_articulo\n",
    "    \n",
    "    def escribir_libro(self, titulo):\n",
    "        # Sobreescribimos el método de la clase padre\n",
    "        print(f\"¡El autor científico está en modo libro!\")\n",
    "        return super().escribir_libro(titulo)\n",
    "\n",
    "# Ejemplo de uso\n",
    "autor_cientifico = AutorCientifico(\"Carl Sagan\", \"Estadounidense\", \"Astrofísica\")\n",
    "autor_cientifico.escribir_libro(\"Cosmos\")\n",
    "autor_cientifico.publicar_articulo(\"La Vía Láctea\")"
   ]
  },
  {
   "cell_type": "markdown",
   "id": "25e094df",
   "metadata": {},
   "source": [
    "## Desafío 61: Herencia múltiple y composición\n",
    "Este desafío es más complejo, ya que combina la herencia múltiple con la composición. La composición significa que una clase \"tiene\" un objeto de otra clase como uno de sus atributos, lo que permite un diseño flexible. Por ejemplo, un Gerente no solo hereda de Empleado, sino que también \"tiene\" un rol de Administrador.\n"
   ]
  },
  {
   "cell_type": "code",
   "execution_count": 5,
   "id": "dd306b77",
   "metadata": {},
   "outputs": [
    {
     "name": "stdout",
     "output_type": "stream",
     "text": [
      "Soy el gerente Carlos\n",
      "Realizando tareas de administración: ['supervisar personal', 'gestionar presupuesto']\n",
      "Soy el técnico Laura\n",
      "Dando soporte técnico con habilidades en: ['mantenimiento de equipos', 'soporte técnico']\n"
     ]
    }
   ],
   "source": [
    "class Empleado:\n",
    "    def __init__(self, nombre):\n",
    "        self.nombre = nombre\n",
    "\n",
    "class Administrador:\n",
    "    def __init__(self):\n",
    "        self.tareas = [\"supervisar personal\", \"gestionar presupuesto\"]\n",
    "    \n",
    "    def administrar(self):\n",
    "        print(f\"Realizando tareas de administración: {self.tareas}\")\n",
    "\n",
    "class Tecnico:\n",
    "    def __init__(self):\n",
    "        self.habilidades = [\"mantenimiento de equipos\", \"soporte técnico\"]\n",
    "\n",
    "    def dar_soporte(self):\n",
    "        print(f\"Dando soporte técnico con habilidades en: {self.habilidades}\")\n",
    "\n",
    "class Gerente(Empleado, Administrador):\n",
    "    def __init__(self, nombre):\n",
    "        Empleado.__init__(self, nombre)\n",
    "        Administrador.__init__(self) # Composición\n",
    "\n",
    "class TecnicoDeBiblioteca(Empleado, Tecnico):\n",
    "    def __init__(self, nombre):\n",
    "        Empleado.__init__(self, nombre)\n",
    "        Tecnico.__init__(self) # Composición\n",
    "\n",
    "# Ejemplo de uso\n",
    "gerente_ejemplo = Gerente(\"Carlos\")\n",
    "print(f\"Soy el gerente {gerente_ejemplo.nombre}\")\n",
    "gerente_ejemplo.administrar()\n",
    "\n",
    "tecnico_ejemplo = TecnicoDeBiblioteca(\"Laura\")\n",
    "print(f\"Soy el técnico {tecnico_ejemplo.nombre}\")\n",
    "tecnico_ejemplo.dar_soporte()"
   ]
  }
 ],
 "metadata": {
  "kernelspec": {
   "display_name": "Python 3",
   "language": "python",
   "name": "python3"
  },
  "language_info": {
   "codemirror_mode": {
    "name": "ipython",
    "version": 3
   },
   "file_extension": ".py",
   "mimetype": "text/x-python",
   "name": "python",
   "nbconvert_exporter": "python",
   "pygments_lexer": "ipython3",
   "version": "3.11.9"
  }
 },
 "nbformat": 4,
 "nbformat_minor": 5
}
