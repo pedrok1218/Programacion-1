{
 "cells": [
  {
   "cell_type": "markdown",
   "id": "985fffb8",
   "metadata": {},
   "source": [
    "Problemática: Dado un árbol que representa grupos de estudiantes por grado, implementa un recorrido por niveles (Breadth-First Search o BFS) para mostrar los estudiantes de cada grupo, del grado más alto al más bajo.\n",
    "\n",
    "Para este desafío, la estructura del árbol se modificará para incluir una lista de estudiantes en cada nodo (grado). Usaremos una cola para el recorrido por niveles."
   ]
  },
  {
   "cell_type": "code",
   "execution_count": null,
   "id": "fd765d6d",
   "metadata": {},
   "outputs": [
    {
     "name": "stdout",
     "output_type": "stream",
     "text": [
      "--- Recorrido por Niveles (Grado más bajo al más alto) ---\n",
      "Nivel de Profundidad 0:\n",
      "  Grado 5: Juan, Karen\n",
      "Nivel de Profundidad 1:\n",
      "  Grado 8: Hugo, Irene\n",
      "Nivel de Profundidad 2:\n",
      "  Grado 10: Carlos, Diana\n",
      "  Grado 10: Felipe, Gaby\n",
      "Nivel de Profundidad 3:\n",
      "  Grado 12: Alex, Brenda\n"
     ]
    }
   ],
   "source": [
    "\n",
    "\n",
    "from collections import deque\n",
    "\n",
    "class NodoGrado:\n",
    "    \"\"\"Nodo que representa un grado o grupo, conteniendo una lista de estudiantes.\"\"\"\n",
    "    def __init__(self, grado, estudiantes):\n",
    "        self.grado = grado\n",
    "        self.estudiantes = estudiantes\n",
    "        self.hijos = [] # Lista de nodos hijos (subgrupos o grados inferiores)\n",
    "\n",
    "def recorrido_por_niveles_inverso(raiz):\n",
    "    \"\"\"\n",
    "    Realiza un recorrido BFS e imprime los resultados en orden inverso\n",
    "    (del nivel más profundo al más superficial).\n",
    "    \"\"\"\n",
    "    if not raiz:\n",
    "        return\n",
    "\n",
    "    cola = deque([raiz])\n",
    "    niveles = []  # Lista para guardar los resultados de cada nivel\n",
    "\n",
    "    while cola:\n",
    "        nivel_actual = []\n",
    "        elementos_en_nivel = len(cola)\n",
    "\n",
    "        for _ in range(elementos_en_nivel):\n",
    "            nodo = cola.popleft()\n",
    "            \n",
    "            # Guardar la información del nodo\n",
    "            nivel_actual.append({\n",
    "                \"grado\": nodo.grado, \n",
    "                \"estudiantes\": nodo.estudiantes\n",
    "            })\n",
    "\n",
    "            # Añadir hijos a la cola para el siguiente nivel\n",
    "            for hijo in nodo.hijos:\n",
    "                cola.append(hijo)\n",
    "        \n",
    "        # Añadir el nivel completo a la lista (se inserta al principio para inversión)\n",
    "        niveles.insert(0, nivel_actual) \n",
    "\n",
    "    # Imprimir los niveles desde el final (grados más bajos/profundos) al inicio\n",
    "    print(\"--- Recorrido por Niveles (Grado más bajo al más alto) ---\")\n",
    "    for i, nivel in enumerate(niveles):\n",
    "        print(f\"Nivel de Profundidad {i}:\")\n",
    "        for grupo in nivel:\n",
    "            print(f\"  Grado {grupo['grado']}: {', '.join(grupo['estudiantes'])}\")\n",
    "\n",
    "# --- Construcción del Árbol (Ejemplo Jerárquico) ---\n",
    "# Grado 12 (Nivel 0)\n",
    "raiz = NodoGrado(12, [\"Alex\", \"Brenda\"])\n",
    "\n",
    "# Grado 10 (Nivel 1)\n",
    "g10_a = NodoGrado(10, [\"Carlos\", \"Diana\"])\n",
    "g10_b = NodoGrado(10, [\"Felipe\", \"Gaby\"])\n",
    "raiz.hijos.extend([g10_a, g10_b])\n",
    "\n",
    "# Grado 8 (Nivel 2)\n",
    "g8 = NodoGrado(8, [\"Hugo\", \"Irene\"])\n",
    "g10_a.hijos.append(g8)\n",
    "\n",
    "# Grado 5 (Nivel 3)\n",
    "g5 = NodoGrado(5, [\"Juan\", \"Karen\"])\n",
    "g8.hijos.append(g5)\n",
    "\n",
    "\n",
    "# La impresión será: Grado 5 -> Grado 8 -> Grado 10 -> Grado 12\n",
    "# Llamada a la función\n",
    "recorrido_por_niveles_inverso(raiz)"
   ]
  }
 ],
 "metadata": {
  "kernelspec": {
   "display_name": "Python 3",
   "language": "python",
   "name": "python3"
  },
  "language_info": {
   "codemirror_mode": {
    "name": "ipython",
    "version": 3
   },
   "file_extension": ".py",
   "mimetype": "text/x-python",
   "name": "python",
   "nbconvert_exporter": "python",
   "pygments_lexer": "ipython3",
   "version": "3.11.9"
  }
 },
 "nbformat": 4,
 "nbformat_minor": 5
}
