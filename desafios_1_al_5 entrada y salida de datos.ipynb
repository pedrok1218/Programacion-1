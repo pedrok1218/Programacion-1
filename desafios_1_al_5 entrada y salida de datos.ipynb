{
 "cells": [
  {
   "cell_type": "markdown",
   "id": "250bc1b1",
   "metadata": {},
   "source": [
    "# Desafíos del 1 al 5\n",
    "Como he mencionado, aquí realicé los 5 desafíos de 2_5: Entrada y salida de datos."
   ]
  },
  {
   "cell_type": "code",
   "execution_count": null,
   "id": "35a0c123",
   "metadata": {},
   "outputs": [],
   "source": [
    "# Desafío 1: Saludo Personalizado\n",
    "nombre = input(\"¿Cuál es tu nombre? \")\n",
    "ciudad = input(\"¿De qué ciudad eres? \")\n",
    "print(f\"Hola {nombre}, ¡saludos desde {ciudad}!\")"
   ]
  },
  {
   "cell_type": "code",
   "execution_count": null,
   "id": "25528d91",
   "metadata": {},
   "outputs": [],
   "source": [
    "# Desafío 2: Calculadora Simple\n",
    "num1 = float(input(\"Ingresa el primer número: \"))\n",
    "num2 = float(input(\"Ingresa el segundo número: \"))\n",
    "\n",
    "print(f\"Suma: {num1 + num2}\")\n",
    "print(f\"Resta: {num1 - num2}\")\n",
    "print(f\"Multiplicación: {num1 * num2}\")\n",
    "if num2 != 0:\n",
    "    print(f\"División: {num1 / num2}\")\n",
    "else:\n",
    "    print(\"No se puede dividir entre cero.\")"
   ]
  },
  {
   "cell_type": "code",
   "execution_count": null,
   "id": "f996e5d0",
   "metadata": {},
   "outputs": [],
   "source": [
    "# Desafío 3: Formateo de Factura\n",
    "producto = input(\"Nombre del producto: \")\n",
    "cantidad = int(input(\"Cantidad: \"))\n",
    "precio = float(input(\"Precio por unidad: \"))\n",
    "total = cantidad * precio\n",
    "\n",
    "print(\"\\n----- FACTURA -----\")\n",
    "print(f\"Producto: {producto}\")\n",
    "print(f\"Cantidad: {cantidad}\")\n",
    "print(f\"Precio Unitario: ${precio:.2f}\")\n",
    "print(f\"Total: ${total:.2f}\")"
   ]
  },
  {
   "cell_type": "code",
   "execution_count": null,
   "id": "d6675611",
   "metadata": {},
   "outputs": [],
   "source": [
    "# Desafío 4: Conversor de Moneda\n",
    "monto_local = float(input(\"Cantidad en moneda local: \"))\n",
    "tasa = float(input(\"Tasa de cambio: \"))\n",
    "convertido = monto_local * tasa\n",
    "print(f\"Con una tasa de {tasa}, obtendrás {convertido:.2f} en la otra moneda.\")"
   ]
  },
  {
   "cell_type": "code",
   "execution_count": null,
   "id": "bba4f4e5",
   "metadata": {},
   "outputs": [],
   "source": [
    "# Desafío 5: Contador de Palabras\n",
    "texto = input(\"Ingresa un texto: \")\n",
    "cantidad = len(texto.split())\n",
    "print(f\"El texto contiene {cantidad} palabras.\")"
   ]
  }
 ],
 "metadata": {},
 "nbformat": 4,
 "nbformat_minor": 5
}