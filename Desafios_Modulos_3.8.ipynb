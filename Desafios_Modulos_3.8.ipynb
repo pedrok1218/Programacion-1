{
 "cells": [
  {
   "cell_type": "markdown",
   "id": "f52589e7",
   "metadata": {},
   "source": [
    "# Soluciones a los 6 Desafíos"
   ]
  },
  {
   "cell_type": "markdown",
   "id": "5ce0b4be",
   "metadata": {},
   "source": [
    "## Desafío 1\n"
   ]
  },
  {
   "cell_type": "code",
   "execution_count": null,
   "id": "2aabf422",
   "metadata": {},
   "outputs": [],
   "source": [
    "import string\n",
    "\n",
    "# Ejemplos de funciones útiles del módulo string\n",
    "print(\"Letras minúsculas:\", string.ascii_lowercase)\n",
    "print(\"Letras mayúsculas:\", string.ascii_uppercase)\n",
    "print(\"Dígitos:\", string.digits)\n",
    "\n",
    "# Uso práctico: verificar si un texto contiene solo letras o números\n",
    "texto = \"Python3\"\n",
    "solo_letras = all(c in string.ascii_letters for c in texto)\n",
    "print(\"¿El texto contiene solo letras?\", solo_letras)\n"
   ]
  },
  {
   "cell_type": "markdown",
   "id": "652b5715",
   "metadata": {},
   "source": [
    "## Desafío 2\n"
   ]
  },
  {
   "cell_type": "code",
   "execution_count": null,
   "id": "2b5b639e",
   "metadata": {},
   "outputs": [],
   "source": [
    "import random\n",
    "import string\n",
    "\n",
    "def generar_contrasena(longitud=8):\n",
    "    caracteres = string.ascii_letters + string.digits\n",
    "    return ''.join(random.choice(caracteres) for _ in range(longitud))\n",
    "\n",
    "print(\"Contraseña generada:\", generar_contrasena())\n"
   ]
  },
  {
   "cell_type": "markdown",
   "id": "5f095a49",
   "metadata": {},
   "source": [
    "## Desafío 3\n"
   ]
  },
  {
   "cell_type": "code",
   "execution_count": null,
   "id": "94cac380",
   "metadata": {},
   "outputs": [],
   "source": [
    "# módulo personalizado: formato.py\n",
    "# Contiene funciones para dar formato al texto\n",
    "\n",
    "def negrita(texto):\n",
    "    return f\"**{texto}**\"\n",
    "\n",
    "def cursiva(texto):\n",
    "    return f\"*{texto}*\"\n",
    "\n",
    "def subrayado(texto):\n",
    "    return f\"__{texto}__\"\n",
    "\n",
    "# Uso en un programa principal\n",
    "import formato\n",
    "\n",
    "print(formato.negrita(\"Hola\"))\n",
    "print(formato.cursiva(\"Mundo\"))\n",
    "print(formato.subrayado(\"Python\"))\n"
   ]
  },
  {
   "cell_type": "markdown",
   "id": "c59beeba",
   "metadata": {},
   "source": [
    "## Desafío 4\n"
   ]
  },
  {
   "cell_type": "code",
   "execution_count": null,
   "id": "f30101d6",
   "metadata": {},
   "outputs": [],
   "source": [
    "from collections import Counter\n",
    "import matplotlib.pyplot as plt\n",
    "\n",
    "texto = \"Python es divertido y Python es poderoso. Aprender Python es útil.\"\n",
    "palabras = texto.lower().split()\n",
    "\n",
    "conteo = Counter(palabras)\n",
    "mas_comunes = conteo.most_common(10)\n",
    "print(\"Palabras más comunes:\", mas_comunes)\n",
    "\n",
    "# Gráfico de barras\n",
    "pal, frec = zip(*mas_comunes)\n",
    "plt.bar(pal, frec)\n",
    "plt.title(\"Frecuencia de palabras\")\n",
    "plt.show()\n"
   ]
  },
  {
   "cell_type": "markdown",
   "id": "a58d9fde",
   "metadata": {},
   "source": [
    "## Desafío 5\n"
   ]
  },
  {
   "cell_type": "code",
   "execution_count": null,
   "id": "8fc90329",
   "metadata": {},
   "outputs": [],
   "source": [
    "import os\n",
    "\n",
    "# Guardar un archivo\n",
    "with open(\"archivo.txt\", \"w\", encoding=\"utf-8\") as f:\n",
    "    f.write(\"Este es un texto de prueba.\")\n",
    "\n",
    "# Leer un archivo existente\n",
    "if os.path.exists(\"archivo.txt\"):\n",
    "    with open(\"archivo.txt\", \"r\", encoding=\"utf-8\") as f:\n",
    "        contenido = f.read()\n",
    "    print(\"Contenido leído:\", contenido)\n"
   ]
  },
  {
   "cell_type": "markdown",
   "id": "3b3b5237",
   "metadata": {},
   "source": [
    "## Desafío 6\n"
   ]
  },
  {
   "cell_type": "code",
   "execution_count": null,
   "id": "71a2638c",
   "metadata": {},
   "outputs": [],
   "source": [
    "# Desafío 6 no estaba en la lista previa, pero suele ser de integración final.\n",
    "# Ejemplo: unir todo en un pequeño procesador de texto\n",
    "\n",
    "import string, random, os\n",
    "from collections import Counter\n",
    "import matplotlib.pyplot as plt\n",
    "\n",
    "# Generar texto simulado y guardarlo\n",
    "texto = \"Python es genial. Aprender Python abre muchas puertas. Python es popular.\"\n",
    "with open(\"texto.txt\", \"w\", encoding=\"utf-8\") as f:\n",
    "    f.write(texto)\n",
    "\n",
    "# Leerlo y analizar\n",
    "with open(\"texto.txt\", \"r\", encoding=\"utf-8\") as f:\n",
    "    contenido = f.read().lower().split()\n",
    "\n",
    "conteo = Counter(contenido)\n",
    "mas_comunes = conteo.most_common(5)\n",
    "print(\"Palabras más comunes:\", mas_comunes)\n",
    "\n",
    "# Graficar\n",
    "pal, frec = zip(*mas_comunes)\n",
    "plt.bar(pal, frec)\n",
    "plt.title(\"Frecuencia de palabras (top 5)\")\n",
    "plt.show()\n"
   ]
  }
 ],
 "metadata": {
  "language_info": {
   "name": "python"
  }
 },
 "nbformat": 4,
 "nbformat_minor": 5
}
