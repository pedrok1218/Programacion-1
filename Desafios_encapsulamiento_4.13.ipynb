{
 "cells": [
  {
   "cell_type": "markdown",
   "id": "b6b8aecd",
   "metadata": {},
   "source": [
    "## Desafío 52: Clase Libro con atributos privados\n",
    "\n",
    "Para garantizar que los atributos de la clase Libro no sean modificados accidentalmente, los definiremos como privados utilizando el doble guion bajo __. Esto protege los datos y solo permite el acceso a través de los métodos públicos que nosotros definamos. Para manejar el acceso, crearemos métodos get (para obtener el valor) y set (para modificarlo) para el título, el autor y el ISBN.\n",
    "\n"
   ]
  },
  {
   "cell_type": "code",
   "execution_count": 1,
   "id": "9f2a8282",
   "metadata": {},
   "outputs": [
    {
     "name": "stdout",
     "output_type": "stream",
     "text": [
      "Título actual: El laberinto de la soledad\n",
      "Título actualizado a: El Laberinto de la Soledad (edición especial)\n",
      "Nuevo título: El Laberinto de la Soledad (edición especial)\n"
     ]
    }
   ],
   "source": [
    "class Libro:\n",
    "    def __init__(self, titulo, autor, isbn):\n",
    "        self.__titulo = titulo  # Atributo privado\n",
    "        self.__autor = autor    # Atributo privado\n",
    "        self.__isbn = isbn      # Atributo privado\n",
    "\n",
    "    # Métodos Getter para obtener los valores\n",
    "    def get_titulo(self):\n",
    "        return self.__titulo\n",
    "\n",
    "    def get_autor(self):\n",
    "        return self.__autor\n",
    "\n",
    "    def get_isbn(self):\n",
    "        return self.__isbn\n",
    "\n",
    "    # Métodos Setter para modificar los valores\n",
    "    def set_titulo(self, nuevo_titulo):\n",
    "        if nuevo_titulo and isinstance(nuevo_titulo, str):\n",
    "            self.__titulo = nuevo_titulo\n",
    "            print(f\"Título actualizado a: {nuevo_titulo}\")\n",
    "        else:\n",
    "            print(\"Error: El título debe ser una cadena no vacía.\")\n",
    "\n",
    "    def set_autor(self, nuevo_autor):\n",
    "        if nuevo_autor and isinstance(nuevo_autor, str):\n",
    "            self.__autor = nuevo_autor\n",
    "            print(f\"Autor actualizado a: {nuevo_autor}\")\n",
    "        else:\n",
    "            print(\"Error: El autor debe ser una cadena no vacía.\")\n",
    "\n",
    "    def set_isbn(self, nuevo_isbn):\n",
    "        if nuevo_isbn and isinstance(nuevo_isbn, str):\n",
    "            self.__isbn = nuevo_isbn\n",
    "            print(f\"ISBN actualizado a: {nuevo_isbn}\")\n",
    "        else:\n",
    "            print(\"Error: El ISBN debe ser una cadena no vacía.\")\n",
    "\n",
    "# Ejemplo de uso\n",
    "libro = Libro(\"El laberinto de la soledad\", \"Octavio Paz\", \"978-968-16-0158-6\")\n",
    "print(f\"Título actual: {libro.get_titulo()}\")\n",
    "libro.set_titulo(\"El Laberinto de la Soledad (edición especial)\")\n",
    "print(f\"Nuevo título: {libro.get_titulo()}\")"
   ]
  },
  {
   "cell_type": "markdown",
   "id": "cadcd40a",
   "metadata": {},
   "source": [
    "## Desafío 53: Ampliar la clase Autor con una lista privada de libros\n",
    "\n",
    "Al igual que en el desafío anterior, la lista de libros del autor debe ser privada para evitar modificaciones directas desde fuera de la clase. Agregaremos el atributo __libros_escritos a la clase Autor y un método público agregar_libro que controla cómo se añaden los libros a la lista."
   ]
  },
  {
   "cell_type": "code",
   "execution_count": 2,
   "id": "80182386",
   "metadata": {},
   "outputs": [
    {
     "name": "stdout",
     "output_type": "stream",
     "text": [
      "'Cien años de soledad' ha sido agregado a la lista de libros de Gabriel García Márquez.\n",
      "'El amor en los tiempos del cólera' ha sido agregado a la lista de libros de Gabriel García Márquez.\n",
      "Libros de Gabriel García Márquez: ['Cien años de soledad', 'El amor en los tiempos del cólera']\n"
     ]
    }
   ],
   "source": [
    "class Autor:\n",
    "    def __init__(self, nombre=\"\", nacionalidad=\"\"):\n",
    "        self.__nombre = nombre\n",
    "        self.__nacionalidad = nacionalidad\n",
    "        self.__libros_escritos = []  # Atributo privado para la lista de libros\n",
    "\n",
    "    def agregar_libro(self, libro):\n",
    "        \"\"\"Agrega un libro a la lista de libros del autor si no está ya presente.\"\"\"\n",
    "        if libro not in self.__libros_escritos:\n",
    "            self.__libros_escritos.append(libro)\n",
    "            print(f\"'{libro}' ha sido agregado a la lista de libros de {self.__nombre}.\")\n",
    "        else:\n",
    "            print(f\"'{libro}' ya se encuentra en la lista.\")\n",
    "\n",
    "    def get_libros_escritos(self):\n",
    "        \"\"\"Método público para acceder a la lista de libros.\"\"\"\n",
    "        return self.__libros_escritos\n",
    "\n",
    "# Ejemplo de uso\n",
    "autor_gabo = Autor(\"Gabriel García Márquez\", \"Colombiano\")\n",
    "autor_gabo.agregar_libro(\"Cien años de soledad\")\n",
    "autor_gabo.agregar_libro(\"El amor en los tiempos del cólera\")\n",
    "print(f\"Libros de {autor_gabo._Autor__nombre}: {autor_gabo.get_libros_escritos()}\")"
   ]
  },
  {
   "cell_type": "markdown",
   "id": "0dbaa017",
   "metadata": {},
   "source": [
    "## Desafío 54: Usar @property en la clase Autor\n",
    "Los decoradores @property son la forma preferida en Python para implementar getters y setters de manera más elegante y \"Pythonica\". Permiten que los atributos privados se utilicen como si fueran atributos públicos, sin la necesidad de llamar a los métodos get_ o set_ explícitamente."
   ]
  },
  {
   "cell_type": "code",
   "execution_count": 3,
   "id": "2df1fd0c",
   "metadata": {},
   "outputs": [
    {
     "name": "stdout",
     "output_type": "stream",
     "text": [
      "Nombre actual: Miguel de Cervantes\n",
      "Nombre modificado: Miguel de Cervantes Saavedra\n"
     ]
    }
   ],
   "source": [
    "class Autor:\n",
    "    def __init__(self, nombre, nacionalidad):\n",
    "        self.__nombre = nombre\n",
    "        self.__nacionalidad = nacionalidad\n",
    "\n",
    "    @property\n",
    "    def nombre(self):\n",
    "        \"\"\"Getter para el nombre.\"\"\"\n",
    "        return self.__nombre\n",
    "\n",
    "    @nombre.setter\n",
    "    def nombre(self, valor):\n",
    "        \"\"\"Setter para el nombre.\"\"\"\n",
    "        if valor and isinstance(valor, str):\n",
    "            self.__nombre = valor\n",
    "        else:\n",
    "            print(\"Error: El nombre debe ser una cadena no vacía.\")\n",
    "            \n",
    "    @property\n",
    "    def nacionalidad(self):\n",
    "        \"\"\"Getter para la nacionalidad.\"\"\"\n",
    "        return self.__nacionalidad\n",
    "\n",
    "    @nacionalidad.setter\n",
    "    def nacionalidad(self, valor):\n",
    "        \"\"\"Setter para la nacionalidad.\"\"\"\n",
    "        if valor and isinstance(valor, str):\n",
    "            self.__nacionalidad = valor\n",
    "        else:\n",
    "            print(\"Error: La nacionalidad debe ser una cadena no vacía.\")\n",
    "\n",
    "# Ejemplo de uso\n",
    "autor_cervantes = Autor(\"Miguel de Cervantes\", \"Español\")\n",
    "print(f\"Nombre actual: {autor_cervantes.nombre}\")\n",
    "autor_cervantes.nombre = \"Miguel de Cervantes Saavedra\"\n",
    "print(f\"Nombre modificado: {autor_cervantes.nombre}\")"
   ]
  },
  {
   "cell_type": "markdown",
   "id": "44470360",
   "metadata": {},
   "source": [
    "## Desafío 55: Función para obtener títulos de libros de un autor\n",
    "Esta función demuestra el encapsulamiento en acción. No accede directamente a la lista privada de libros del objeto Autor. En su lugar, utiliza el método público get_libros_escritos() (definido en el Desafío 53) para obtener la lista de libros de forma segura.\n"
   ]
  },
  {
   "cell_type": "code",
   "execution_count": 8,
   "id": "257a7d81",
   "metadata": {},
   "outputs": [
    {
     "name": "stdout",
     "output_type": "stream",
     "text": [
      "Los títulos de libros escritos por Pablo Neruda son: ['Veinte poemas de amor y una canción desesperada', 'Canto general']\n"
     ]
    }
   ],
   "source": [
    "class Autor:\n",
    "    def __init__(self, nombre, nacionalidad):\n",
    "        # Usamos __nombre para hacer el atributo \"privado\"\n",
    "        self.__nombre = nombre\n",
    "        self.__nacionalidad = nacionalidad\n",
    "        self.__libros_escritos = []\n",
    "\n",
    "    def agregar_libro(self, titulo_libro):\n",
    "        self.__libros_escritos.append(titulo_libro)\n",
    "\n",
    "    def get_nombre(self):\n",
    "        return self.__nombre\n",
    "\n",
    "    def get_nacionalidad(self):\n",
    "        return self.__nacionalidad\n",
    "\n",
    "    # Este es el método que necesitas añadir para que la función obtener_titulos_de_autor funcione\n",
    "    def get_libros_escritos(self):\n",
    "        return self.__libros_escritos\n",
    "\n",
    "def obtener_titulos_de_autor(autor):\n",
    "    \"\"\"\n",
    "    Toma un objeto Autor y devuelve una lista de los títulos de sus libros.\n",
    "    \"\"\"\n",
    "    # Se accede a la lista de libros a través del método público de la clase Autor.\n",
    "    return autor.get_libros_escritos()\n",
    "\n",
    "# Usando la clase Autor modificada del Desafío 53\n",
    "autor_neruda = Autor(\"Pablo Neruda\", \"Chileno\")\n",
    "autor_neruda.agregar_libro(\"Veinte poemas de amor y una canción desesperada\")\n",
    "autor_neruda.agregar_libro(\"Canto general\")\n",
    "\n",
    "titulos = obtener_titulos_de_autor(autor_neruda)\n",
    "\n",
    "# Usamos el método público get_nombre() para acceder al nombre del autor\n",
    "print(f\"Los títulos de libros escritos por {autor_neruda.get_nombre()} son: {titulos}\")"
   ]
  },
  {
   "cell_type": "markdown",
   "id": "242a015c",
   "metadata": {},
   "source": [
    "## Desafío 56: Encontrar el autor con más libros\n",
    "Para resolver este desafío, cree una función que itera sobre una lista de objetos Autor. Para cada autor, use el método público que nos permite acceder a la lista de libros (get_libros_escritos() del Desafío 53). La función comparará la longitud de cada lista de libros para encontrar al autor que tiene la mayor cantidad."
   ]
  },
  {
   "cell_type": "code",
   "execution_count": 9,
   "id": "6aedde8e",
   "metadata": {},
   "outputs": [
    {
     "name": "stdout",
     "output_type": "stream",
     "text": [
      "El autor con más libros es: Isabel Allende con 3 libros.\n"
     ]
    }
   ],
   "source": [
    "def autor_con_mas_libros(lista_autores):\n",
    "    \"\"\"\n",
    "    Recibe una lista de objetos Autor y devuelve el que ha escrito más libros.\n",
    "    \"\"\"\n",
    "    if not lista_autores:\n",
    "        return None\n",
    "\n",
    "    autor_max = None\n",
    "    max_libros = -1\n",
    "\n",
    "    for autor in lista_autores:\n",
    "        num_libros = len(autor.get_libros_escritos())\n",
    "        if num_libros > max_libros:\n",
    "            max_libros = num_libros\n",
    "            autor_max = autor\n",
    "\n",
    "    return autor_max\n",
    "\n",
    "# Usando la clase Autor modificada del Desafío 53\n",
    "autor_cortazar = Autor(\"Julio Cortázar\", \"Argentino\")\n",
    "autor_cortazar.agregar_libro(\"Rayuela\")\n",
    "autor_cortazar.agregar_libro(\"Bestiario\")\n",
    "\n",
    "autor_allende = Autor(\"Isabel Allende\", \"Chilena\")\n",
    "autor_allende.agregar_libro(\"La casa de los espíritus\")\n",
    "autor_allende.agregar_libro(\"De amor y de sombra\")\n",
    "autor_allende.agregar_libro(\"El plan infinito\")\n",
    "\n",
    "lista = [autor_neruda, autor_cortazar, autor_allende]\n",
    "autor_ganador = autor_con_mas_libros(lista)\n",
    "\n",
    "if autor_ganador:\n",
    "    num_libros = len(autor_ganador.get_libros_escritos())\n",
    "    print(f\"El autor con más libros es: {autor_ganador._Autor__nombre} con {num_libros} libros.\")"
   ]
  }
 ],
 "metadata": {
  "kernelspec": {
   "display_name": "Python 3",
   "language": "python",
   "name": "python3"
  },
  "language_info": {
   "codemirror_mode": {
    "name": "ipython",
    "version": 3
   },
   "file_extension": ".py",
   "mimetype": "text/x-python",
   "name": "python",
   "nbconvert_exporter": "python",
   "pygments_lexer": "ipython3",
   "version": "3.11.9"
  }
 },
 "nbformat": 4,
 "nbformat_minor": 5
}
