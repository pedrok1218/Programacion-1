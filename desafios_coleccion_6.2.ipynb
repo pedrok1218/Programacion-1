{
 "cells": [
  {
   "cell_type": "markdown",
   "id": "88fdf42f",
   "metadata": {},
   "source": [
    "Desafío Extra: Simulación de Lanzamiento de Dados (Anterior)\n",
    "Este desafío, comúnmente asociado al uso de random.choices, simula el lanzamiento de dos dados."
   ]
  },
  {
   "cell_type": "code",
   "execution_count": 1,
   "id": "b232a89d",
   "metadata": {},
   "outputs": [
    {
     "name": "stdout",
     "output_type": "stream",
     "text": [
      "--- Desafío Extra: Lanzamiento de Dos Dados ---\n",
      "Resultados individuales: [3, 4]\n",
      "Suma total obtenida: 7\n"
     ]
    }
   ],
   "source": [
    "import random\n",
    "\n",
    "CARAS_DADO = [1, 2, 3, 4, 5, 6]\n",
    "NUMERO_DE_DADOS = 2\n",
    "\n",
    "def simular_lanzamiento_dados(poblacion, num_dados):\n",
    "    \"\"\"\n",
    "    Simula el lanzamiento de 'num_dados' dados usando random.choices().\n",
    "    La selección es uniforme (justa) ya que no se especifican pesos.\n",
    "    \"\"\"\n",
    "    # Utiliza choices(population, k=n) para seleccionar 'n' elementos con reemplazo.\n",
    "    resultados = random.choices(poblacion, k=num_dados)\n",
    "    return resultados\n",
    "\n",
    "# Ejecución\n",
    "lanzamiento = simular_lanzamiento_dados(CARAS_DADO, NUMERO_DE_DADOS)\n",
    "suma_total = sum(lanzamiento)\n",
    "\n",
    "print(\"--- Desafío Extra: Lanzamiento de Dos Dados ---\")\n",
    "print(f\"Resultados individuales: {lanzamiento}\")\n",
    "print(f\"Suma total obtenida: {suma_total}\")"
   ]
  },
  {
   "cell_type": "markdown",
   "id": "86c0f460",
   "metadata": {},
   "source": [
    "Desafío 93: Gestión de Estudiantes y Notas con Tuplas\n",
    "Utiliza tuplas para garantizar que los registros de notas sean inmutables."
   ]
  },
  {
   "cell_type": "code",
   "execution_count": 2,
   "id": "c9d8def2",
   "metadata": {},
   "outputs": [
    {
     "name": "stdout",
     "output_type": "stream",
     "text": [
      "\n",
      "--- Desafío 93: Gestión de Notas (Tuplas) ---\n",
      "Promedio de Carlos: 9.43\n",
      "Mejor promedio: Carlos con 9.43\n"
     ]
    }
   ],
   "source": [
    "# Lista de registros (Tuplas inmutables: nombre, nota1, nota2, nota3)\n",
    "registros_estudiantes = [\n",
    "    (\"Ana\", 8.5, 9.0, 7.5),\n",
    "    (\"Beto\", 7.0, 6.5, 8.0),\n",
    "    (\"Carlos\", 9.5, 9.0, 9.8),\n",
    "    (\"Diana\", 6.0, 7.0, 6.5)\n",
    "]\n",
    "\n",
    "def calcular_promedio_estudiante(registros, nombre):\n",
    "    \"\"\"Calcula el promedio final de un estudiante específico.\"\"\"\n",
    "    for registro in registros:\n",
    "        if registro[0] == nombre:\n",
    "            # Las notas están en los índices 1, 2 y 3\n",
    "            promedio = sum(registro[1:]) / (len(registro) - 1)\n",
    "            return round(promedio, 2)\n",
    "    return \"Estudiante no encontrado\"\n",
    "\n",
    "def identificar_promedio_mas_alto(registros):\n",
    "    \"\"\"Identifica el promedio más alto entre todos los estudiantes.\"\"\"\n",
    "    max_promedio = -1\n",
    "    mejor_estudiante = \"\"\n",
    "    for nombre, *notas in registros:\n",
    "        promedio = sum(notas) / len(notas)\n",
    "        if promedio > max_promedio:\n",
    "            max_promedio = promedio\n",
    "            mejor_estudiante = nombre\n",
    "    return mejor_estudiante, round(max_promedio, 2)\n",
    "\n",
    "# Ejecución\n",
    "print(\"\\n--- Desafío 93: Gestión de Notas (Tuplas) ---\")\n",
    "print(f\"Promedio de Carlos: {calcular_promedio_estudiante(registros_estudiantes, 'Carlos')}\")\n",
    "mejor_nombre, mejor_nota = identificar_promedio_mas_alto(registros_estudiantes)\n",
    "print(f\"Mejor promedio: {mejor_nombre} con {mejor_nota}\")"
   ]
  },
  {
   "cell_type": "markdown",
   "id": "02c38104",
   "metadata": {},
   "source": [
    "Desafío 94: Inventario de Productos y Precios (Diccionario)\n",
    "Utiliza un diccionario para almacenar productos y sus precios."
   ]
  },
  {
   "cell_type": "code",
   "execution_count": 3,
   "id": "af51205c",
   "metadata": {},
   "outputs": [
    {
     "name": "stdout",
     "output_type": "stream",
     "text": [
      "\n",
      "--- Desafío 94: Inventario (Diccionario) ---\n",
      "Precio de Pan actualizado a $2.5\n",
      "Precio total de la compra: $12.5\n"
     ]
    }
   ],
   "source": [
    "inventario_precios = {\n",
    "    \"Leche\": 1.50,\n",
    "    \"Pan\": 2.20,\n",
    "    \"Huevos\": 3.00,\n",
    "    \"Manzanas\": 0.75\n",
    "}\n",
    "\n",
    "def actualizar_precio(inventario, producto, nuevo_precio):\n",
    "    \"\"\"Actualiza el precio de un producto existente.\"\"\"\n",
    "    if producto in inventario:\n",
    "        inventario[producto] = nuevo_precio\n",
    "        return f\"Precio de {producto} actualizado a ${nuevo_precio}\"\n",
    "    return f\"Producto {producto} no encontrado.\"\n",
    "\n",
    "def calcular_precio_total(inventario, lista_compras):\n",
    "    \"\"\"Calcula el precio total de una lista de compras.\"\"\"\n",
    "    precio_total = 0\n",
    "    for producto, cantidad in lista_compras.items():\n",
    "        if producto in inventario:\n",
    "            precio_total += inventario[producto] * cantidad\n",
    "        else:\n",
    "            print(f\"Advertencia: {producto} no está en el inventario.\")\n",
    "    return round(precio_total, 2)\n",
    "\n",
    "# Ejecución\n",
    "lista_compra_ejemplo = {\"Pan\": 2, \"Huevos\": 1, \"Leche\": 3}\n",
    "print(\"\\n--- Desafío 94: Inventario (Diccionario) ---\")\n",
    "print(actualizar_precio(inventario_precios, \"Pan\", 2.50))\n",
    "total = calcular_precio_total(inventario_precios, lista_compra_ejemplo)\n",
    "print(f\"Precio total de la compra: ${total}\")"
   ]
  },
  {
   "cell_type": "markdown",
   "id": "ff518725",
   "metadata": {},
   "source": [
    "Desafío 95: Filtrado de Datos Clave (Diccionario)\n",
    "Crea un nuevo diccionario que contenga solo las claves esenciales."
   ]
  },
  {
   "cell_type": "code",
   "execution_count": 4,
   "id": "16d6cb45",
   "metadata": {},
   "outputs": [
    {
     "name": "stdout",
     "output_type": "stream",
     "text": [
      "\n",
      "--- Desafío 95: Filtrado de Datos Clave ---\n",
      "{'IP': '192.168.1.10', 'Puerto': 8080, 'Estado': 'Activo', 'ID': 'SRV-001'}\n"
     ]
    }
   ],
   "source": [
    "datos_complejos = {\n",
    "    \"ID\": \"SRV-001\",\n",
    "    \"IP\": \"192.168.1.10\",\n",
    "    \"Puerto\": 8080,\n",
    "    \"RAM_GB\": 16,\n",
    "    \"CPU_Cores\": 4,\n",
    "    \"Estado\": \"Activo\",\n",
    "    \"Uptime_dias\": 35\n",
    "}\n",
    "\n",
    "def filtrar_datos_clave(datos, claves_esenciales):\n",
    "    \"\"\"\n",
    "    Crea un nuevo diccionario que solo contiene las claves esenciales.\n",
    "    \"\"\"\n",
    "    datos_filtrados = {\n",
    "        clave: datos[clave]\n",
    "        for clave in claves_esenciales\n",
    "        if clave in datos\n",
    "    }\n",
    "    return datos_filtrados\n",
    "\n",
    "# Ejecución\n",
    "claves_requeridas = [\"IP\", \"Puerto\", \"Estado\", \"ID\"]\n",
    "datos_servidor_esencial = filtrar_datos_clave(datos_complejos, claves_requeridas)\n",
    "print(\"\\n--- Desafío 95: Filtrado de Datos Clave ---\")\n",
    "print(datos_servidor_esencial)"
   ]
  },
  {
   "cell_type": "markdown",
   "id": "f22e5d5e",
   "metadata": {},
   "source": [
    "Desafío 96: Registro de Tareas con Diccionarios Anidados\n",
    "Utiliza un diccionario anidado para registrar tareas por proyecto."
   ]
  },
  {
   "cell_type": "code",
   "execution_count": 5,
   "id": "647ec837",
   "metadata": {},
   "outputs": [
    {
     "name": "stdout",
     "output_type": "stream",
     "text": [
      "\n",
      "--- Tareas Pendientes en Proyecto_A ---\n",
      "- Implementación API\n",
      "- Tests Unitarios\n"
     ]
    }
   ],
   "source": [
    "registro_proyectos = {\n",
    "    \"Proyecto_A\": {\n",
    "        \"Diseño UI\": \"Completado\",\n",
    "        \"Implementación API\": \"Pendiente\",\n",
    "        \"Tests Unitarios\": \"Pendiente\"\n",
    "    },\n",
    "    \"Proyecto_B\": {\n",
    "        \"Reunión Inicial\": \"Completado\",\n",
    "        \"Documentación\": \"Pendiente\",\n",
    "        \"Configuración DB\": \"Completado\"\n",
    "    }\n",
    "}\n",
    "\n",
    "def mostrar_tareas_pendientes(registro, proyecto):\n",
    "    \"\"\"\n",
    "    Muestra todas las tareas pendientes ('Pendiente') en un proyecto específico.\n",
    "    \"\"\"\n",
    "    if proyecto in registro:\n",
    "        print(f\"\\n--- Tareas Pendientes en {proyecto} ---\")\n",
    "        pendientes = []\n",
    "        for tarea, estado in registro[proyecto].items():\n",
    "            if estado == \"Pendiente\":\n",
    "                pendientes.append(tarea)\n",
    "        \n",
    "        if pendientes:\n",
    "            for tarea in pendientes:\n",
    "                print(f\"- {tarea}\")\n",
    "        else:\n",
    "            print(\"No hay tareas pendientes.\")\n",
    "    else:\n",
    "        print(f\"Proyecto '{proyecto}' no encontrado.\")\n",
    "\n",
    "# Ejecución\n",
    "mostrar_tareas_pendientes(registro_proyectos, \"Proyecto_A\")"
   ]
  },
  {
   "cell_type": "markdown",
   "id": "2cd048fa",
   "metadata": {},
   "source": [
    "Desafío 97: Gestión de Permisos de Usuarios con Conjuntos\n",
    "Utiliza conjuntos para representar y analizar los permisos de diferentes usuarios."
   ]
  },
  {
   "cell_type": "code",
   "execution_count": 6,
   "id": "75a67ec7",
   "metadata": {},
   "outputs": [
    {
     "name": "stdout",
     "output_type": "stream",
     "text": [
      "\n",
      "--- Desafío 97: Gestión de Permisos (Conjuntos) ---\n",
      "Permisos comunes entre Usuario 1 y Usuario 2: {'leer', 'escribir'}\n",
      "¿Usuario 1 tiene el permiso 'configurar'?: True\n"
     ]
    }
   ],
   "source": [
    "permisos_usuario_1 = {\"leer\", \"escribir\", \"eliminar\", \"configurar\"}\n",
    "permisos_usuario_2 = {\"leer\", \"escribir\", \"reportar\"}\n",
    "permisos_usuario_3 = {\"eliminar\", \"reportar\"}\n",
    "\n",
    "def analizar_permisos(user1_perms, user2_perms, permiso_especifico):\n",
    "    \"\"\"\n",
    "    Encuentra permisos comunes y verifica si un usuario tiene un permiso específico.\n",
    "    \"\"\"\n",
    "    # 1. Permisos comunes (Intersección de conjuntos)\n",
    "    comunes = user1_perms.intersection(user2_perms)\n",
    "    \n",
    "    # 2. Verificar permiso específico\n",
    "    tiene_permiso = permiso_especifico in user1_perms\n",
    "\n",
    "    print(\"\\n--- Desafío 97: Gestión de Permisos (Conjuntos) ---\")\n",
    "    print(f\"Permisos comunes entre Usuario 1 y Usuario 2: {comunes}\")\n",
    "    print(f\"¿Usuario 1 tiene el permiso '{permiso_especifico}'?: {tiene_permiso}\")\n",
    "\n",
    "# Ejecución\n",
    "analizar_permisos(permisos_usuario_1, permisos_usuario_2, \"configurar\")"
   ]
  },
  {
   "cell_type": "markdown",
   "id": "303897c0",
   "metadata": {},
   "source": [
    "Desafío 98: Eliminación de Duplicados en una Lista\n",
    "Usa conjuntos para eliminar duplicados eficientemente y devuelve una lista"
   ]
  },
  {
   "cell_type": "code",
   "execution_count": 7,
   "id": "a2dfa396",
   "metadata": {},
   "outputs": [
    {
     "name": "stdout",
     "output_type": "stream",
     "text": [
      "\n",
      "--- Desafío 98: Eliminación de Duplicados (Conjuntos) ---\n",
      "Lista original: [101, 105, 102, 101, 104, 103, 105, 101]\n",
      "Lista de elementos únicos: [101, 102, 103, 104, 105]\n"
     ]
    }
   ],
   "source": [
    "lista_con_duplicados = [101, 105, 102, 101, 104, 103, 105, 101]\n",
    "\n",
    "def eliminar_duplicados(lista):\n",
    "    \"\"\"\n",
    "    Utiliza conjuntos para eliminar duplicados de forma eficiente.\n",
    "    \"\"\"\n",
    "    # Convertir a conjunto para eliminar duplicados\n",
    "    conjunto_unico = set(lista)\n",
    "    # Convertir de nuevo a lista para mantener el formato de salida\n",
    "    lista_unica = list(conjunto_unico)\n",
    "    return lista_unica\n",
    "\n",
    "# Ejecución\n",
    "lista_sin_duplicados = eliminar_duplicados(lista_con_duplicados)\n",
    "print(\"\\n--- Desafío 98: Eliminación de Duplicados (Conjuntos) ---\")\n",
    "print(f\"Lista original: {lista_con_duplicados}\")\n",
    "# Nota: El orden en la lista resultante puede variar porque los conjuntos no tienen orden.\n",
    "print(f\"Lista de elementos únicos: {lista_sin_duplicados}\")"
   ]
  },
  {
   "cell_type": "markdown",
   "id": "ec85fab1",
   "metadata": {},
   "source": [
    "Desafío 99: Análisis Meteorológico Avanzado (Diccionarios y Tuplas)\n",
    "Utiliza un diccionario con tuplas (temperatura, humedad) como valores"
   ]
  },
  {
   "cell_type": "code",
   "execution_count": 8,
   "id": "462383b6",
   "metadata": {},
   "outputs": [
    {
     "name": "stdout",
     "output_type": "stream",
     "text": [
      "\n",
      "--- Desafío 99: Análisis Meteorológico ---\n",
      "Temperatura más alta: Madrid (31.2°C)\n",
      "Temperatura más baja: Londres (18.0°C)\n",
      "Promedio general de humedad: 71.5%\n"
     ]
    }
   ],
   "source": [
    "datos_meteorologicos = {\n",
    "    \"Montevideo\": (25.5, 75),  # (Temperatura, Humedad)\n",
    "    \"Madrid\": (31.2, 55),\n",
    "    \"Londres\": (18.0, 88),\n",
    "    \"Sídney\": (28.9, 68)\n",
    "}\n",
    "\n",
    "def analizar_datos_meteorologicos(datos):\n",
    "    \"\"\"\n",
    "    Identifica extremos de temperatura y calcula el promedio de humedad.\n",
    "    \"\"\"\n",
    "    max_temp = -float('inf')\n",
    "    min_temp = float('inf')\n",
    "    ciudad_max = \"\"\n",
    "    ciudad_min = \"\"\n",
    "    suma_humedad = 0\n",
    "    \n",
    "    for ciudad, (temp, hum) in datos.items():\n",
    "        # Identificar extremos de temperatura\n",
    "        if temp > max_temp:\n",
    "            max_temp = temp\n",
    "            ciudad_max = ciudad\n",
    "        if temp < min_temp:\n",
    "            min_temp = temp\n",
    "            ciudad_min = ciudad\n",
    "            \n",
    "        # Sumar humedad para el promedio\n",
    "        suma_humedad += hum\n",
    "        \n",
    "    # Calcular el promedio general de humedad\n",
    "    promedio_humedad = suma_humedad / len(datos)\n",
    "    \n",
    "    print(\"\\n--- Desafío 99: Análisis Meteorológico ---\")\n",
    "    print(f\"Temperatura más alta: {ciudad_max} ({max_temp}°C)\")\n",
    "    print(f\"Temperatura más baja: {ciudad_min} ({min_temp}°C)\")\n",
    "    print(f\"Promedio general de humedad: {round(promedio_humedad, 2)}%\")\n",
    "\n",
    "# Ejecución\n",
    "analizar_datos_meteorologicos(datos_meteorologicos)"
   ]
  },
  {
   "cell_type": "markdown",
   "id": "4c6d7681",
   "metadata": {},
   "source": [
    "Desafío 100: Análisis Deportivo con Conjuntos\n",
    "Utiliza operaciones de conjuntos (intersection, union, difference) para analizar la participación."
   ]
  },
  {
   "cell_type": "code",
   "execution_count": 9,
   "id": "4970e16d",
   "metadata": {},
   "outputs": [
    {
     "name": "stdout",
     "output_type": "stream",
     "text": [
      "\n",
      "--- Desafío 100: Análisis Deportivo (Conjuntos) ---\n",
      "Total de atletas únicos que compitieron: 7\n",
      "Participaron en TODOS los torneos: {'Beto'}\n",
      "Participaron EXCLUSIVAMENTE en un único torneo: {'Gaby', 'Fernando', 'Diana'}\n"
     ]
    }
   ],
   "source": [
    "torneo_primavera = {\"Ana\", \"Beto\", \"Carlos\", \"Diana\"}\n",
    "torneo_verano = {\"Ana\", \"Beto\", \"Elsa\", \"Fernando\"}\n",
    "torneo_otono = {\"Beto\", \"Carlos\", \"Elsa\", \"Gaby\"}\n",
    "\n",
    "lista_torneos = [torneo_primavera, torneo_verano, torneo_otono]\n",
    "\n",
    "def analizar_participacion_deportiva(torneos):\n",
    "    \"\"\"\n",
    "    Identifica atletas comunes, exclusivos y el total único de participantes.\n",
    "    \"\"\"\n",
    "    # 1. Total de atletas únicos (Unión de todos los conjuntos)\n",
    "    todos_los_atletas = set().union(*torneos)\n",
    "    total_atletas_unicos = len(todos_los_atletas)\n",
    "\n",
    "    # 2. Atletas que participaron en TODOS los torneos (Intersección)\n",
    "    # Se inicializa con el primer torneo y se intersecta con el resto\n",
    "    participantes_en_todos = torneos[0].intersection(*torneos[1:])\n",
    "    \n",
    "    # 3. Atletas que participaron EXCLUSIVAMENTE en un único torneo\n",
    "    # El atleta está en un torneo, pero NO en la unión de los otros\n",
    "    atletas_exclusivos = set()\n",
    "    for i in range(len(torneos)):\n",
    "        torneos_restantes = [t for j, t in enumerate(torneos) if i != j]\n",
    "        union_restantes = set().union(*torneos_restantes)\n",
    "        \n",
    "        # Atletas en el torneo actual (i) menos los que están en la unión de los demás\n",
    "        exclusivos_del_torneo = torneos[i].difference(union_restantes)\n",
    "        atletas_exclusivos.update(exclusivos_del_torneo)\n",
    "        \n",
    "    print(\"\\n--- Desafío 100: Análisis Deportivo (Conjuntos) ---\")\n",
    "    print(f\"Total de atletas únicos que compitieron: {total_atletas_unicos}\")\n",
    "    print(f\"Participaron en TODOS los torneos: {participantes_en_todos}\")\n",
    "    print(f\"Participaron EXCLUSIVAMENTE en un único torneo: {atletas_exclusivos}\")\n",
    "\n",
    "# Ejecución\n",
    "analizar_participacion_deportiva(lista_torneos)"
   ]
  },
  {
   "cell_type": "markdown",
   "id": "0d10b86a",
   "metadata": {},
   "source": [
    "Desafío 101: Historial Médico Inmutable\n",
    "Utiliza una lista de tuplas inmutables."
   ]
  },
  {
   "cell_type": "code",
   "execution_count": 10,
   "id": "fb5b2499",
   "metadata": {},
   "outputs": [
    {
     "name": "stdout",
     "output_type": "stream",
     "text": [
      "\n",
      "--- Desafío 101: Historial Médico Inmutable (Tuplas) ---\n",
      "Historial de María: [('2025-01-01', 'Gripe'), ('2025-01-10', 'Alergia')]\n",
      "Número de diagnósticos distintos registrados: 4\n"
     ]
    }
   ],
   "source": [
    "# Estructura: (fecha, paciente, diagnóstico)\n",
    "historial_medico = [\n",
    "    (\"2025-01-01\", \"María\", \"Gripe\"),\n",
    "    (\"2025-01-05\", \"Juan\", \"Fiebre\"),\n",
    "    (\"2025-01-10\", \"María\", \"Alergia\"),\n",
    "    (\"2025-01-15\", \"Pedro\", \"Gripe\"),\n",
    "    (\"2025-01-20\", \"Juan\", \"Infección\")\n",
    "]\n",
    "\n",
    "def consultar_historial_paciente(historial, paciente):\n",
    "    \"\"\"Consulta el historial completo de un paciente específico.\"\"\"\n",
    "    registros_paciente = [\n",
    "        (fecha, diagnostico)\n",
    "        for fecha, p, diagnostico in historial\n",
    "        if p == paciente\n",
    "    ]\n",
    "    return registros_paciente\n",
    "\n",
    "def contar_diagnosticos_distintos(historial):\n",
    "    \"\"\"Cuenta cuántos diagnósticos distintos han sido registrados en total.\"\"\"\n",
    "    # El diagnóstico es el tercer elemento (índice 2) de cada tupla.\n",
    "    diagnosticos = [reg[2] for reg in historial]\n",
    "    \n",
    "    # Usar un conjunto para obtener los diagnósticos únicos\n",
    "    diagnosticos_unicos = set(diagnosticos)\n",
    "    return len(diagnosticos_unicos)\n",
    "\n",
    "# Ejecución\n",
    "paciente_buscar = \"María\"\n",
    "historial_maria = consultar_historial_paciente(historial_medico, paciente_buscar)\n",
    "num_diagnosticos_distintos = contar_diagnosticos_distintos(historial_medico)\n",
    "\n",
    "print(\"\\n--- Desafío 101: Historial Médico Inmutable (Tuplas) ---\")\n",
    "print(f\"Historial de {paciente_buscar}: {historial_maria}\")\n",
    "print(f\"Número de diagnósticos distintos registrados: {num_diagnosticos_distintos}\")"
   ]
  }
 ],
 "metadata": {
  "kernelspec": {
   "display_name": "Python 3",
   "language": "python",
   "name": "python3"
  },
  "language_info": {
   "codemirror_mode": {
    "name": "ipython",
    "version": 3
   },
   "file_extension": ".py",
   "mimetype": "text/x-python",
   "name": "python",
   "nbconvert_exporter": "python",
   "pygments_lexer": "ipython3",
   "version": "3.11.9"
  }
 },
 "nbformat": 4,
 "nbformat_minor": 5
}
