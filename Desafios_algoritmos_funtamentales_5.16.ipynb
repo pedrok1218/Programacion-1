{
 "cells": [
  {
   "cell_type": "markdown",
   "id": "8fb21464",
   "metadata": {},
   "source": [
    "Desafío 81: Recorrido de Estudiantes por Niveles (Recorrido de Árbol BFS)\n",
    "\n",
    "Problemática: Dado un árbol que representa grupos de estudiantes por grado, implementa un recorrido por niveles (Breadth-First Search o BFS) para mostrar los estudiantes de cada grupo, del grado más alto al más bajo.\n",
    "\n",
    "Para este desafío, la estructura del árbol se modificará para incluir una lista de estudiantes en cada nodo (grado). Usaremos una cola para el recorrido por niveles."
   ]
  },
  {
   "cell_type": "code",
   "execution_count": 1,
   "id": "924d62b3",
   "metadata": {},
   "outputs": [
    {
     "name": "stdout",
     "output_type": "stream",
     "text": [
      "--- Recorrido por Niveles (Grado más bajo al más alto) ---\n",
      "Nivel de Profundidad 0:\n",
      "  Grado 5: Juan, Karen\n",
      "Nivel de Profundidad 1:\n",
      "  Grado 8: Hugo, Irene\n",
      "Nivel de Profundidad 2:\n",
      "  Grado 10: Carlos, Diana\n",
      "  Grado 10: Felipe, Gaby\n",
      "Nivel de Profundidad 3:\n",
      "  Grado 12: Alex, Brenda\n"
     ]
    }
   ],
   "source": [
    "from collections import deque\n",
    "\n",
    "class NodoGrado:\n",
    "    \"\"\"Nodo que representa un grado o grupo, conteniendo una lista de estudiantes.\"\"\"\n",
    "    def __init__(self, grado, estudiantes):\n",
    "        self.grado = grado\n",
    "        self.estudiantes = estudiantes\n",
    "        self.hijos = [] # Lista de nodos hijos (subgrupos o grados inferiores)\n",
    "\n",
    "def recorrido_por_niveles_inverso(raiz):\n",
    "    \"\"\"\n",
    "    Realiza un recorrido BFS e imprime los resultados en orden inverso\n",
    "    (del nivel más profundo al más superficial).\n",
    "    \"\"\"\n",
    "    if not raiz:\n",
    "        return\n",
    "\n",
    "    cola = deque([raiz])\n",
    "    niveles = []  # Lista para guardar los resultados de cada nivel\n",
    "\n",
    "    while cola:\n",
    "        nivel_actual = []\n",
    "        elementos_en_nivel = len(cola)\n",
    "\n",
    "        for _ in range(elementos_en_nivel):\n",
    "            nodo = cola.popleft()\n",
    "            \n",
    "            # Guardar la información del nodo\n",
    "            nivel_actual.append({\n",
    "                \"grado\": nodo.grado, \n",
    "                \"estudiantes\": nodo.estudiantes\n",
    "            })\n",
    "\n",
    "            # Añadir hijos a la cola para el siguiente nivel\n",
    "            for hijo in nodo.hijos:\n",
    "                cola.append(hijo)\n",
    "        \n",
    "        # Añadir el nivel completo a la lista (se inserta al principio para inversión)\n",
    "        niveles.insert(0, nivel_actual) \n",
    "\n",
    "    # Imprimir los niveles desde el final (grados más bajos/profundos) al inicio\n",
    "    print(\"--- Recorrido por Niveles (Grado más bajo al más alto) ---\")\n",
    "    for i, nivel in enumerate(niveles):\n",
    "        print(f\"Nivel de Profundidad {i}:\")\n",
    "        for grupo in nivel:\n",
    "            print(f\"  Grado {grupo['grado']}: {', '.join(grupo['estudiantes'])}\")\n",
    "\n",
    "# --- Construcción del Árbol (Ejemplo Jerárquico) ---\n",
    "# Grado 12 (Nivel 0)\n",
    "raiz = NodoGrado(12, [\"Alex\", \"Brenda\"])\n",
    "\n",
    "# Grado 10 (Nivel 1)\n",
    "g10_a = NodoGrado(10, [\"Carlos\", \"Diana\"])\n",
    "g10_b = NodoGrado(10, [\"Felipe\", \"Gaby\"])\n",
    "raiz.hijos.extend([g10_a, g10_b])\n",
    "\n",
    "# Grado 8 (Nivel 2)\n",
    "g8 = NodoGrado(8, [\"Hugo\", \"Irene\"])\n",
    "g10_a.hijos.append(g8)\n",
    "\n",
    "# Grado 5 (Nivel 3)\n",
    "g5 = NodoGrado(5, [\"Juan\", \"Karen\"])\n",
    "g8.hijos.append(g5)\n",
    "\n",
    "\n",
    "# La impresión será: Grado 5 -> Grado 8 -> Grado 10 -> Grado 12\n",
    "# Llamada a la función\n",
    "recorrido_por_niveles_inverso(raiz)"
   ]
  },
  {
   "cell_type": "markdown",
   "id": "c8c02de8",
   "metadata": {},
   "source": [
    "Desafío 82: Búsqueda Secuencial en una Tabla de Calificaciones\n",
    "\n",
    "Problemática: Dada una matriz de calificaciones, implementa una función que busque una calificación específica y devuelva la posición (estudiante y materia)."
   ]
  },
  {
   "cell_type": "code",
   "execution_count": 2,
   "id": "d6fce277",
   "metadata": {},
   "outputs": [
    {
     "name": "stdout",
     "output_type": "stream",
     "text": [
      "\n",
      "------------------------------\n",
      "Búsqueda de la calificación: 88\n",
      "¡Calificación 88 encontrada!\n",
      "Estudiante: Beto (Fila 2)\n",
      "Materia: Historia (Columna 2)\n"
     ]
    }
   ],
   "source": [
    "# Matriz: cada fila es un estudiante, cada columna una materia\n",
    "calificaciones = [\n",
    "    [85, 90, 78, 92],  # Estudiante 1 (Ana)\n",
    "    [95, 88, 91, 75],  # Estudiante 2 (Beto)\n",
    "    [70, 79, 83, 94]   # Estudiante 3 (Carlos)\n",
    "]\n",
    "nombres_estudiantes = [\"Ana\", \"Beto\", \"Carlos\"]\n",
    "nombres_materias = [\"Matemáticas\", \"Historia\", \"Ciencias\", \"Lenguaje\"]\n",
    "\n",
    "def busqueda_secuencial_matriz(matriz, nombres, materias, calificacion_buscar):\n",
    "    \"\"\"\n",
    "    Busca una calificación específica en toda la matriz.\n",
    "    \"\"\"\n",
    "    filas = len(matriz)\n",
    "    if filas == 0:\n",
    "        return \"Tabla de calificaciones vacía.\"\n",
    "    \n",
    "    columnas = len(matriz[0])\n",
    "\n",
    "    for i in range(filas):\n",
    "        for j in range(columnas):\n",
    "            if matriz[i][j] == calificacion_buscar:\n",
    "                # Retorna la información de la posición\n",
    "                return (f\"¡Calificación {calificacion_buscar} encontrada!\\n\"\n",
    "                        f\"Estudiante: {nombres[i]} (Fila {i+1})\\n\"\n",
    "                        f\"Materia: {materias[j]} (Columna {j+1})\")\n",
    "    \n",
    "    return f\"Calificación {calificacion_buscar} no encontrada en la tabla.\"\n",
    "\n",
    "# --- Llamada a la función ---\n",
    "calificacion_objetivo = 88\n",
    "resultado = busqueda_secuencial_matriz(calificaciones, nombres_estudiantes, nombres_materias, calificacion_objetivo)\n",
    "print(\"\\n\" + \"-\"*30)\n",
    "print(f\"Búsqueda de la calificación: {calificacion_objetivo}\")\n",
    "print(resultado)"
   ]
  },
  {
   "cell_type": "markdown",
   "id": "e18b0edf",
   "metadata": {},
   "source": [
    "Desafío 83: Optimizar la Búsqueda en una Lista Ordenada de Estudiantes\n",
    "\n",
    "Problemática: Tienes una lista ordenada alfabéticamente de estudiantes. Implementa una búsqueda binaria para encontrar un estudiante."
   ]
  },
  {
   "cell_type": "code",
   "execution_count": 3,
   "id": "4ef3a8a5",
   "metadata": {},
   "outputs": [
    {
     "name": "stdout",
     "output_type": "stream",
     "text": [
      "\n",
      "------------------------------\n",
      "Optimización: Búsqueda Binaria\n",
      "Estudiante 'Carlos' encontrado en la posición (índice): 2\n",
      "Estudiante 'Maria' NO encontrado en la lista.\n"
     ]
    }
   ],
   "source": [
    "# Lista ordenada alfabéticamente de estudiantes\n",
    "estudiantes_ordenados = [\"Ana\", \"Beto\", \"Carlos\", \"Diana\", \"Felipe\", \"Gaby\", \"Hugo\"]\n",
    "\n",
    "def busqueda_binaria_estudiante(lista, nombre_buscar):\n",
    "    \"\"\"\n",
    "    Realiza una búsqueda binaria en una lista ordenada.\n",
    "    \"\"\"\n",
    "    bajo = 0\n",
    "    alto = len(lista) - 1\n",
    "\n",
    "    while bajo <= alto:\n",
    "        medio = (bajo + alto) // 2\n",
    "        \n",
    "        if lista[medio] == nombre_buscar:\n",
    "            return f\"Estudiante '{nombre_buscar}' encontrado en la posición (índice): {medio}\"\n",
    "        elif lista[medio] < nombre_buscar:\n",
    "            # Descartar la mitad inferior (el nombre está después)\n",
    "            bajo = medio + 1\n",
    "        else:\n",
    "            # Descartar la mitad superior (el nombre está antes)\n",
    "            alto = medio - 1\n",
    "            \n",
    "    return f\"Estudiante '{nombre_buscar}' NO encontrado en la lista.\"\n",
    "\n",
    "# --- Llamadas a la función ---\n",
    "print(\"\\n\" + \"-\"*30)\n",
    "print(\"Optimización: Búsqueda Binaria\")\n",
    "print(busqueda_binaria_estudiante(estudiantes_ordenados, \"Carlos\"))\n",
    "print(busqueda_binaria_estudiante(estudiantes_ordenados, \"Maria\"))"
   ]
  },
  {
   "cell_type": "markdown",
   "id": "10df1668",
   "metadata": {},
   "source": [
    "Desafío 84: Ordenar Estudiantes por Promedio (Selección Inversa)\n",
    "\n",
    "Problemática: Tienes una lista de estudiantes y sus promedios. Implementa el algoritmo de ordenamiento por selección para ordenar a los estudiantes de mayor a menor promedio (el promedio más alto debe estar primero)."
   ]
  },
  {
   "cell_type": "code",
   "execution_count": 4,
   "id": "ea48021f",
   "metadata": {},
   "outputs": [
    {
     "name": "stdout",
     "output_type": "stream",
     "text": [
      "\n",
      "------------------------------\n",
      "Ordenamiento por Selección (Mayor a Menor Promedio):\n",
      "Estudiante: Beto, Promedio: 9.1\n",
      "Estudiante: Ana, Promedio: 8.5\n",
      "Estudiante: Carlos, Promedio: 7.2\n",
      "Estudiante: Diana, Promedio: 6.8\n"
     ]
    }
   ],
   "source": [
    "# Lista de estudiantes como diccionarios\n",
    "datos_estudiantes = [\n",
    "    {\"nombre\": \"Ana\", \"promedio\": 8.5},\n",
    "    {\"nombre\": \"Carlos\", \"promedio\": 7.2},\n",
    "    {\"nombre\": \"Beto\", \"promedio\": 9.1},\n",
    "    {\"nombre\": \"Diana\", \"promedio\": 6.8}\n",
    "]\n",
    "\n",
    "def ordenamiento_seleccion_inversa(lista):\n",
    "    \"\"\"\n",
    "    Ordenamiento por Selección modificado para ordenar de mayor a menor (descendente).\n",
    "    Busca el elemento MÁS GRANDE y lo coloca al inicio de la sublista no ordenada.\n",
    "    \"\"\"\n",
    "    n = len(lista)\n",
    "    for i in range(n):\n",
    "        # Asumimos que el índice del promedio más alto es 'i'\n",
    "        max_idx = i\n",
    "        \n",
    "        # Buscar el promedio más alto en el resto de la lista no ordenada\n",
    "        for j in range(i + 1, n):\n",
    "            # CLAVE: En lugar de '<' para el mínimo, usamos '>' para el máximo\n",
    "            if lista[j][\"promedio\"] > lista[max_idx][\"promedio\"]:\n",
    "                max_idx = j\n",
    "                \n",
    "        # Intercambiar el estudiante con el promedio más alto (max_idx)\n",
    "        # con el primer elemento no ordenado (i)\n",
    "        lista[i], lista[max_idx] = lista[max_idx], lista[i]\n",
    "\n",
    "# --- Llamada a la función ---\n",
    "ordenamiento_seleccion_inversa(datos_estudiantes)\n",
    "\n",
    "print(\"\\n\" + \"-\"*30)\n",
    "print(\"Ordenamiento por Selección (Mayor a Menor Promedio):\")\n",
    "for estudiante in datos_estudiantes:\n",
    "    print(f\"Estudiante: {estudiante['nombre']}, Promedio: {estudiante['promedio']}\")"
   ]
  },
  {
   "cell_type": "markdown",
   "id": "25c16f2a",
   "metadata": {},
   "source": [
    "Desafío 85: Crear un Árbol de Clasificación de Estudiantes por Rendimiento (BST Inorden)\n",
    "\n",
    "Problemática: Dado un conjunto de estudiantes y sus promedios, crea un Árbol Binario de Búsqueda (BST) basado en los promedios e implementa un recorrido en inorden para mostrarlos en orden ascendente."
   ]
  },
  {
   "cell_type": "code",
   "execution_count": 5,
   "id": "86dc1fa0",
   "metadata": {},
   "outputs": [
    {
     "name": "stdout",
     "output_type": "stream",
     "text": [
      "\n",
      "------------------------------\n",
      "Clasificación por Rendimiento (Recorrido Inorden Ascendente):\n",
      "Nombre: Diana, Promedio: 6.8\n",
      "Nombre: Carlos, Promedio: 7.2\n",
      "Nombre: Ana, Promedio: 8.5\n",
      "Nombre: Beto, Promedio: 9.1\n",
      "Nombre: Elsa, Promedio: 9.5\n"
     ]
    }
   ],
   "source": [
    "# Lista de estudiantes y sus promedios\n",
    "estudiantes_rendimiento = [\n",
    "    {\"nombre\": \"Ana\", \"promedio\": 8.5},\n",
    "    {\"nombre\": \"Carlos\", \"promedio\": 7.2},\n",
    "    {\"nombre\": \"Beto\", \"promedio\": 9.1},\n",
    "    {\"nombre\": \"Diana\", \"promedio\": 6.8},\n",
    "    {\"nombre\": \"Elsa\", \"promedio\": 9.5}\n",
    "]\n",
    "\n",
    "# 1. Definición de la estructura del Nodo para el BST\n",
    "class NodoBST:\n",
    "    def __init__(self, estudiante):\n",
    "        self.estudiante = estudiante\n",
    "        self.izquierda = None\n",
    "        self.derecha = None\n",
    "\n",
    "# 2. Función para construir el BST\n",
    "def insertar(raiz, estudiante):\n",
    "    \"\"\"Inserta un estudiante en el BST basado en su promedio.\"\"\"\n",
    "    \n",
    "    if raiz is None:\n",
    "        return NodoBST(estudiante)\n",
    "\n",
    "    # Criterio de ordenamiento: el promedio\n",
    "    if estudiante[\"promedio\"] < raiz.estudiante[\"promedio\"]:\n",
    "        raiz.izquierda = insertar(raiz.izquierda, estudiante)\n",
    "    elif estudiante[\"promedio\"] > raiz.estudiante[\"promedio\"]:\n",
    "        raiz.derecha = insertar(raiz.derecha, estudiante)\n",
    "    \n",
    "    return raiz\n",
    "\n",
    "# 3. Función para realizar el recorrido en Inorden\n",
    "def recorrido_inorden(raiz):\n",
    "    \"\"\"\n",
    "    Realiza un recorrido en inorden (Izquierda -> Raíz -> Derecha).\n",
    "    En un BST, esto produce un orden ascendente de promedios.\n",
    "    \"\"\"\n",
    "    if raiz:\n",
    "        # 1. Recorrer la izquierda (los menores promedios)\n",
    "        recorrido_inorden(raiz.izquierda)\n",
    "        \n",
    "        # 2. Visitar la Raíz (el promedio intermedio)\n",
    "        print(f\"Nombre: {raiz.estudiante['nombre']}, Promedio: {raiz.estudiante['promedio']}\")\n",
    "        \n",
    "        # 3. Recorrer la derecha (los mayores promedios)\n",
    "        recorrido_inorden(raiz.derecha)\n",
    "\n",
    "# --- Proceso de Ejecución ---\n",
    "raiz_academica = None\n",
    "for estudiante in estudiantes_rendimiento:\n",
    "    raiz_academica = insertar(raiz_academica, estudiante)\n",
    "\n",
    "print(\"\\n\" + \"-\"*30)\n",
    "print(\"Clasificación por Rendimiento (Recorrido Inorden Ascendente):\")\n",
    "recorrido_inorden(raiz_academica)"
   ]
  }
 ],
 "metadata": {
  "kernelspec": {
   "display_name": "Python 3",
   "language": "python",
   "name": "python3"
  },
  "language_info": {
   "codemirror_mode": {
    "name": "ipython",
    "version": 3
   },
   "file_extension": ".py",
   "mimetype": "text/x-python",
   "name": "python",
   "nbconvert_exporter": "python",
   "pygments_lexer": "ipython3",
   "version": "3.11.9"
  }
 },
 "nbformat": 4,
 "nbformat_minor": 5
}
