{
 "cells": [
  {
   "cell_type": "markdown",
   "id": "010898bf",
   "metadata": {},
   "source": [
    "Problemática: Tienes una lista ordenada alfabéticamente de estudiantes. Implementa una búsqueda binaria para encontrar un estudiante."
   ]
  },
  {
   "cell_type": "code",
   "execution_count": 1,
   "id": "fefa9997",
   "metadata": {},
   "outputs": [
    {
     "name": "stdout",
     "output_type": "stream",
     "text": [
      "\n",
      "------------------------------\n",
      "Optimización: Búsqueda Binaria\n",
      "Estudiante 'Carlos' encontrado en la posición (índice): 2\n",
      "Estudiante 'Maria' NO encontrado en la lista.\n"
     ]
    }
   ],
   "source": [
    "# Lista ordenada alfabéticamente de estudiantes\n",
    "estudiantes_ordenados = [\"Ana\", \"Beto\", \"Carlos\", \"Diana\", \"Felipe\", \"Gaby\", \"Hugo\"]\n",
    "\n",
    "def busqueda_binaria_estudiante(lista, nombre_buscar):\n",
    "    \"\"\"\n",
    "    Realiza una búsqueda binaria en una lista ordenada.\n",
    "    \"\"\"\n",
    "    bajo = 0\n",
    "    alto = len(lista) - 1\n",
    "\n",
    "    while bajo <= alto:\n",
    "        medio = (bajo + alto) // 2\n",
    "        \n",
    "        if lista[medio] == nombre_buscar:\n",
    "            return f\"Estudiante '{nombre_buscar}' encontrado en la posición (índice): {medio}\"\n",
    "        elif lista[medio] < nombre_buscar:\n",
    "            # Descartar la mitad inferior (el nombre está después)\n",
    "            bajo = medio + 1\n",
    "        else:\n",
    "            # Descartar la mitad superior (el nombre está antes)\n",
    "            alto = medio - 1\n",
    "            \n",
    "    return f\"Estudiante '{nombre_buscar}' NO encontrado en la lista.\"\n",
    "\n",
    "# --- Llamadas a la función ---\n",
    "print(\"\\n\" + \"-\"*30)\n",
    "print(\"Optimización: Búsqueda Binaria\")\n",
    "print(busqueda_binaria_estudiante(estudiantes_ordenados, \"Carlos\"))\n",
    "print(busqueda_binaria_estudiante(estudiantes_ordenados, \"Maria\"))"
   ]
  }
 ],
 "metadata": {
  "kernelspec": {
   "display_name": "Python 3",
   "language": "python",
   "name": "python3"
  },
  "language_info": {
   "codemirror_mode": {
    "name": "ipython",
    "version": 3
   },
   "file_extension": ".py",
   "mimetype": "text/x-python",
   "name": "python",
   "nbconvert_exporter": "python",
   "pygments_lexer": "ipython3",
   "version": "3.11.9"
  }
 },
 "nbformat": 4,
 "nbformat_minor": 5
}
