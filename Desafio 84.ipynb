{
 "cells": [
  {
   "cell_type": "markdown",
   "id": "f708fa4e",
   "metadata": {},
   "source": [
    "Problemática: Tienes una lista de estudiantes y sus promedios. Implementa el algoritmo de ordenamiento por selección para ordenar a los estudiantes de mayor a menor promedio"
   ]
  },
  {
   "cell_type": "code",
   "execution_count": 1,
   "id": "e1c0f5eb",
   "metadata": {},
   "outputs": [
    {
     "name": "stdout",
     "output_type": "stream",
     "text": [
      "\n",
      "------------------------------\n",
      "Ordenamiento por Selección (Mayor a Menor Promedio):\n",
      "Estudiante: Beto, Promedio: 9.1\n",
      "Estudiante: Ana, Promedio: 8.5\n",
      "Estudiante: Carlos, Promedio: 7.2\n",
      "Estudiante: Diana, Promedio: 6.8\n"
     ]
    }
   ],
   "source": [
    "# Lista de estudiantes como diccionarios\n",
    "datos_estudiantes = [\n",
    "    {\"nombre\": \"Ana\", \"promedio\": 8.5},\n",
    "    {\"nombre\": \"Carlos\", \"promedio\": 7.2},\n",
    "    {\"nombre\": \"Beto\", \"promedio\": 9.1},\n",
    "    {\"nombre\": \"Diana\", \"promedio\": 6.8}\n",
    "]\n",
    "\n",
    "def ordenamiento_seleccion_inversa(lista):\n",
    "    \"\"\"\n",
    "    Ordenamiento por Selección modificado para ordenar de mayor a menor (descendente).\n",
    "    Busca el elemento MÁS GRANDE y lo coloca al inicio de la sublista no ordenada.\n",
    "    \"\"\"\n",
    "    n = len(lista)\n",
    "    for i in range(n):\n",
    "        # Asumimos que el índice del promedio más alto es 'i'\n",
    "        max_idx = i\n",
    "        \n",
    "        # Buscar el promedio más alto en el resto de la lista no ordenada\n",
    "        for j in range(i + 1, n):\n",
    "            # CLAVE: En lugar de '<' para el mínimo, usamos '>' para el máximo\n",
    "            if lista[j][\"promedio\"] > lista[max_idx][\"promedio\"]:\n",
    "                max_idx = j\n",
    "                \n",
    "        # Intercambiar el estudiante con el promedio más alto (max_idx)\n",
    "        # con el primer elemento no ordenado (i)\n",
    "        lista[i], lista[max_idx] = lista[max_idx], lista[i]\n",
    "\n",
    "# --- Llamada a la función ---\n",
    "ordenamiento_seleccion_inversa(datos_estudiantes)\n",
    "\n",
    "print(\"\\n\" + \"-\"*30)\n",
    "print(\"Ordenamiento por Selección (Mayor a Menor Promedio):\")\n",
    "for estudiante in datos_estudiantes:\n",
    "    print(f\"Estudiante: {estudiante['nombre']}, Promedio: {estudiante['promedio']}\")"
   ]
  }
 ],
 "metadata": {
  "kernelspec": {
   "display_name": "Python 3",
   "language": "python",
   "name": "python3"
  },
  "language_info": {
   "codemirror_mode": {
    "name": "ipython",
    "version": 3
   },
   "file_extension": ".py",
   "mimetype": "text/x-python",
   "name": "python",
   "nbconvert_exporter": "python",
   "pygments_lexer": "ipython3",
   "version": "3.11.9"
  }
 },
 "nbformat": 4,
 "nbformat_minor": 5
}
