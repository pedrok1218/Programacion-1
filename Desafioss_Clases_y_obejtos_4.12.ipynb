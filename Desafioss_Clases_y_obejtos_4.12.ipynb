{
 "cells": [
  {
   "cell_type": "markdown",
   "id": "52b73d48",
   "metadata": {},
   "source": [
    "## Desafío 47: Ampliar la clase Autor\n",
    "\n",
    "Para ampliar la clase Autor y que pueda manejar una lista de libros, agregaremos un nuevo atributo llamado libros_escritos en el constructor. Este atributo será una lista vacía por defecto. Luego, implementaremos los métodos agregar_libro y eliminar_libro para gestionar esta lista. Estos métodos encapsulan la lógica de la clase, lo que mejora la estructura del código.\n"
   ]
  },
  {
   "cell_type": "code",
   "execution_count": 1,
   "id": "2c846f70",
   "metadata": {},
   "outputs": [
    {
     "name": "stdout",
     "output_type": "stream",
     "text": [
      "'La tregua' ha sido agregado a la lista de libros de Mario Benedetti.\n",
      "'Gracias por el fuego' ha sido agregado a la lista de libros de Mario Benedetti.\n",
      "'La tregua' ha sido eliminado de la lista de libros de Mario Benedetti.\n"
     ]
    }
   ],
   "source": [
    "class Autor:\n",
    "    def __init__(self, nombre=\"\", nacionalidad=\"\"):\n",
    "        self.nombre = nombre\n",
    "        self.nacionalidad = nacionalidad\n",
    "        self.libros_escritos = [] # Atributo para almacenar los libros\n",
    "\n",
    "    def agregar_libro(self, libro):\n",
    "        \"\"\"Agrega un libro a la lista de libros del autor.\"\"\"\n",
    "        if libro not in self.libros_escritos:\n",
    "            self.libros_escritos.append(libro)\n",
    "            print(f\"'{libro}' ha sido agregado a la lista de libros de {self.nombre}.\")\n",
    "\n",
    "    def eliminar_libro(self, libro):\n",
    "        \"\"\"Elimina un libro de la lista de libros del autor.\"\"\"\n",
    "        if libro in self.libros_escritos:\n",
    "            self.libros_escritos.remove(libro)\n",
    "            print(f\"'{libro}' ha sido eliminado de la lista de libros de {self.nombre}.\")\n",
    "        else:\n",
    "            print(f\"'{libro}' no se encuentra en la lista.\")\n",
    "\n",
    "# Ejemplo de uso\n",
    "autor_benedetti = Autor(\"Mario Benedetti\", \"Uruguayo\")\n",
    "autor_benedetti.agregar_libro(\"La tregua\")\n",
    "autor_benedetti.agregar_libro(\"Gracias por el fuego\")\n",
    "autor_benedetti.eliminar_libro(\"La tregua\")"
   ]
  },
  {
   "cell_type": "markdown",
   "id": "6b0d26c9",
   "metadata": {},
   "source": [
    "## Desafío 48: Crear la clase Libro y relacionarla con Autor\n",
    "\n",
    "Para resolver este desafío, primero crearemos la clase Libro con sus propios atributos (titulo, genero, isbn). Luego, para establecer una relación con la clase Autor, agregaremos un atributo llamado autor en la clase Libro. Este atributo no será una cadena de texto, sino un objeto Autor completo.\n",
    "\n",
    "Esta relación es un ejemplo de composición, donde un objeto (Libro) \"tiene un\" objeto de otra clase (Autor). Esto permite un diseño más robusto, ya que un libro ahora no solo tiene el nombre del autor, sino que tiene acceso a toda la información y métodos del objeto Autor."
   ]
  },
  {
   "cell_type": "code",
   "execution_count": 2,
   "id": "18ec2083",
   "metadata": {},
   "outputs": [
    {
     "name": "stdout",
     "output_type": "stream",
     "text": [
      "Título: Cien años de soledad\n",
      "Género: Realismo mágico\n",
      "ISBN: 978-0-307-47493-9\n",
      "Autor: Gabriel García Márquez\n"
     ]
    }
   ],
   "source": [
    "class Libro:\n",
    "    def __init__(self, titulo, genero, isbn, autor):\n",
    "        self.titulo = titulo\n",
    "        self.genero = genero\n",
    "        self.isbn = isbn\n",
    "        self.autor = autor # Atributo que es un objeto de la clase Autor\n",
    "\n",
    "    def mostrar_info(self):\n",
    "        \"\"\"Muestra los detalles del libro y su autor.\"\"\"\n",
    "        print(f\"Título: {self.titulo}\")\n",
    "        print(f\"Género: {self.genero}\")\n",
    "        print(f\"ISBN: {self.isbn}\")\n",
    "        print(f\"Autor: {self.autor.nombre}\")\n",
    "\n",
    "# Ejemplo de uso\n",
    "autor_gabo = Autor(\"Gabriel García Márquez\", \"Colombiano\")\n",
    "libro_cien = Libro(\"Cien años de soledad\", \"Realismo mágico\", \"978-0-307-47493-9\", autor_gabo)\n",
    "\n",
    "libro_cien.mostrar_info()"
   ]
  },
  {
   "cell_type": "markdown",
   "id": "26aeaec9",
   "metadata": {},
   "source": [
    "## Desafío 49: Implementar una clase Biblioteca\n",
    "\n",
    "Una clase Biblioteca es la forma ideal de gestionar múltiples autores y libros. Para almacenar estos objetos de manera eficiente, podemos usar diccionarios. Un diccionario es una estructura de datos clave-valor que permite un acceso muy rápido a los objetos.\n",
    "\n",
    "En la solución, la clase Biblioteca tendrá dos diccionarios: uno para los autores (autores_registrados) y otro para los libros (catalogo_libros). La clave del diccionario será un identificador único, como el nombre del autor o el ISBN del libro, para facilitar la búsqueda."
   ]
  },
  {
   "cell_type": "code",
   "execution_count": 3,
   "id": "bdf73b92",
   "metadata": {},
   "outputs": [
    {
     "name": "stdout",
     "output_type": "stream",
     "text": [
      "--- Catálogo de la Biblioteca ---\n",
      "Título: Ficciones, Autor: Jorge Luis Borges\n"
     ]
    }
   ],
   "source": [
    "class Biblioteca:\n",
    "    def __init__(self):\n",
    "        self.autores_registrados = {}\n",
    "        self.catalogo_libros = {}\n",
    "\n",
    "    def registrar_autor(self, autor):\n",
    "        \"\"\"Registra un objeto Autor en la biblioteca.\"\"\"\n",
    "        self.autores_registrados[autor.nombre] = autor\n",
    "\n",
    "    def agregar_libro(self, libro):\n",
    "        \"\"\"Agrega un objeto Libro al catálogo.\"\"\"\n",
    "        self.catalogo_libros[libro.isbn] = libro\n",
    "\n",
    "    def mostrar_catalogo(self):\n",
    "        \"\"\"Muestra todos los libros y sus autores en la biblioteca.\"\"\"\n",
    "        print(\"--- Catálogo de la Biblioteca ---\")\n",
    "        for libro_id in self.catalogo_libros:\n",
    "            libro = self.catalogo_libros[libro_id]\n",
    "            print(f\"Título: {libro.titulo}, Autor: {libro.autor.nombre}\")\n",
    "\n",
    "# Ejemplo de uso\n",
    "biblioteca_central = Biblioteca()\n",
    "autor_jorge = Autor(\"Jorge Luis Borges\", \"Argentino\")\n",
    "libro_ficciones = Libro(\"Ficciones\", \"Cuento\", \"978-84-206-3312-3\", autor_jorge)\n",
    "\n",
    "biblioteca_central.registrar_autor(autor_jorge)\n",
    "biblioteca_central.agregar_libro(libro_ficciones)\n",
    "biblioteca_central.mostrar_catalogo()"
   ]
  },
  {
   "cell_type": "markdown",
   "id": "13162857",
   "metadata": {},
   "source": [
    "## Desafío 50: Atributos y métodos adicionales para la clase Autor\n",
    "\n",
    "Para hacer la clase Autor más completa, podríamos considerar otros atributos y comportamientos relevantes para un autor en un contexto literario.\n",
    "\n",
    "Atributos:\n",
    "\n",
    "fecha_nacimiento: Para almacenar la fecha de nacimiento.\n",
    "\n",
    "premios: Una lista de los premios literarios que ha ganado.\n",
    "\n",
    "biografia: Una breve descripción de su vida y obra.\n",
    "\n",
    "Métodos:\n",
    "\n",
    "obtener_edad(): Un método para calcular la edad del autor a partir de la fecha de nacimiento.\n",
    "\n",
    "agregar_premio(): Para añadir premios a la lista premios.\n",
    "\n",
    "biografia_completa(): Un método que devuelva o imprima la biografía del autor."
   ]
  },
  {
   "cell_type": "markdown",
   "id": "427c6d55",
   "metadata": {},
   "source": [
    "## Desafío 51: Función de búsqueda en una Biblioteca\n",
    "\n",
    "Este desafío pide implementar una función de búsqueda. Utilizando la estructura de la clase Biblioteca del Desafío 49, es sencillo implementar un método de búsqueda que aproveche los diccionarios.\n",
    "\n",
    "A continuación, se muestra cómo agregar un método de búsqueda a la clase Biblioteca para encontrar un libro por su ISBN o un autor por su nombre."
   ]
  },
  {
   "cell_type": "code",
   "execution_count": 4,
   "id": "b18257e2",
   "metadata": {},
   "outputs": [
    {
     "name": "stdout",
     "output_type": "stream",
     "text": [
      "Libro encontrado: Veinte poemas de amor y una canción desesperada de Pablo Neruda\n",
      "Autor encontrado: Pablo Neruda\n"
     ]
    }
   ],
   "source": [
    "class Biblioteca:\n",
    "    def __init__(self):\n",
    "        self.autores_registrados = {}\n",
    "        self.catalogo_libros = {}\n",
    "\n",
    "    def registrar_autor(self, autor):\n",
    "        self.autores_registrados[autor.nombre] = autor\n",
    "\n",
    "    def agregar_libro(self, libro):\n",
    "        self.catalogo_libros[libro.isbn] = libro\n",
    "\n",
    "    def buscar_libro_por_isbn(self, isbn):\n",
    "        \"\"\"Busca un libro en el catálogo por su ISBN.\"\"\"\n",
    "        if isbn in self.catalogo_libros:\n",
    "            return self.catalogo_libros[isbn]\n",
    "        return None\n",
    "\n",
    "    def buscar_autor_por_nombre(self, nombre):\n",
    "        \"\"\"Busca un autor registrado por su nombre.\"\"\"\n",
    "        if nombre in self.autores_registrados:\n",
    "            return self.autores_registrados[nombre]\n",
    "        return None\n",
    "\n",
    "# Ejemplo de uso de la búsqueda\n",
    "biblioteca_final = Biblioteca()\n",
    "autor_pablo = Autor(\"Pablo Neruda\", \"Chileno\")\n",
    "libro_poemas = Libro(\"Veinte poemas de amor y una canción desesperada\", \"Poesía\", \"978-956-11-2051-4\", autor_pablo)\n",
    "\n",
    "biblioteca_final.registrar_autor(autor_pablo)\n",
    "biblioteca_final.agregar_libro(libro_poemas)\n",
    "\n",
    "libro_encontrado = biblioteca_final.buscar_libro_por_isbn(\"978-956-11-2051-4\")\n",
    "if libro_encontrado:\n",
    "    print(f\"Libro encontrado: {libro_encontrado.titulo} de {libro_encontrado.autor.nombre}\")\n",
    "else:\n",
    "    print(\"Libro no encontrado.\")\n",
    "\n",
    "autor_encontrado = biblioteca_final.buscar_autor_por_nombre(\"Pablo Neruda\")\n",
    "if autor_encontrado:\n",
    "    print(f\"Autor encontrado: {autor_encontrado.nombre}\")\n",
    "else:\n",
    "    print(\"Autor no encontrado.\")"
   ]
  }
 ],
 "metadata": {
  "kernelspec": {
   "display_name": "Python 3",
   "language": "python",
   "name": "python3"
  },
  "language_info": {
   "codemirror_mode": {
    "name": "ipython",
    "version": 3
   },
   "file_extension": ".py",
   "mimetype": "text/x-python",
   "name": "python",
   "nbconvert_exporter": "python",
   "pygments_lexer": "ipython3",
   "version": "3.11.9"
  }
 },
 "nbformat": 4,
 "nbformat_minor": 5
}
