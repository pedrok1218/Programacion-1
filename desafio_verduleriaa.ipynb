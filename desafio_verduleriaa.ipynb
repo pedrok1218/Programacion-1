{
 "cells": [
  {
   "cell_type": "code",
   "execution_count": null,
   "id": "36c91846",
   "metadata": {},
   "outputs": [],
   "source": [
    "# Este es el inventario inicial de la verdulería\n",
    "inventario = [\"manzanas\", \"bananas\", \"zanahorias\", \"espinacas\", \"brocoli\", \"cebolla\", \"kiwis\"]"
   ]
  },
  {
   "cell_type": "code",
   "execution_count": null,
   "id": "adece005",
   "metadata": {},
   "outputs": [],
   "source": [
    "# Pregunta 1: Quiero saber cuántos productos tengo\n",
    "print(\"Cantidad de productos:\", len(inventario))"
   ]
  },
  {
   "cell_type": "code",
   "execution_count": null,
   "id": "843de851",
   "metadata": {},
   "outputs": [],
   "source": [
    "# Pregunta 2: Quiero ver qué producto está en la tercera posición\n",
    "# (Recuerdo que en Python se empieza a contar desde 0, así que la tercera posición es el índice 2)\n",
    "print(\"Producto en la tercera posición:\", inventario[2])"
   ]
  },
  {
   "cell_type": "code",
   "execution_count": null,
   "id": "d40ccd0c",
   "metadata": {},
   "outputs": [],
   "source": [
    "# Pregunta 3: Un cliente se llevó todas las bananas, así que las tengo que sacar del inventario\n",
    "inventario.remove(\"bananas\")"
   ]
  },
  {
   "cell_type": "code",
   "execution_count": null,
   "id": "a0c8ea4e",
   "metadata": {},
   "outputs": [],
   "source": [
    "# Pregunta 4: Me llegaron nuevos productos, así que los agrego al inventario\n",
    "nuevos_productos = [\"frutillas\", \"apio\", \"papas\"]\n",
    "inventario.extend(nuevos_productos)"
   ]
  },
  {
   "cell_type": "code",
   "execution_count": null,
   "id": "1e0fa3f2",
   "metadata": {},
   "outputs": [],
   "source": [
    "# Pregunta 5: Quiero revisar si las papas ya están en el inventario\n",
    "print(\"¿Papas están en el inventario?\", \"papas\" in inventario)"
   ]
  },
  {
   "cell_type": "code",
   "execution_count": null,
   "id": "b8930e0f",
   "metadata": {},
   "outputs": [],
   "source": [
    "# Pregunta 6: Sólo tengo espacio para 7 productos y quiero agregar \"dragonfruit\"\n",
    "# Así que decido sacar el primer producto para hacer espacio\n",
    "inventario.pop(0)\n",
    "inventario.append(\"dragonfruit\")"
   ]
  },
  {
   "cell_type": "code",
   "execution_count": null,
   "id": "6e0248eb",
   "metadata": {},
   "outputs": [],
   "source": [
    "# Pregunta 7: Me parece que sería más fácil si todo está en orden alfabético\n",
    "inventario.sort()"
   ]
  },
  {
   "cell_type": "code",
   "execution_count": null,
   "id": "799c7979",
   "metadata": {},
   "outputs": [],
   "source": [
    "# Pregunta 8: Un empleado nuevo necesita una copia del inventario\n",
    "# Le doy una copia para que si él cambia algo, no afecte al original\n",
    "copia_empleado = inventario.copy()"
   ]
  },
  {
   "cell_type": "code",
   "execution_count": null,
   "id": "1fdb669c",
   "metadata": {},
   "outputs": [],
   "source": [
    "# Ahora muestro cómo quedó todo al final\n",
    "print(\"Inventario final:\", inventario)\n",
    "print(\"Copia del empleado:\", copia_empleado)"
   ]
  }
 ],
 "metadata": {},
 "nbformat": 4,
 "nbformat_minor": 5
}