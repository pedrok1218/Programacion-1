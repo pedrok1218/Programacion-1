{
 "cells": [
  {
   "cell_type": "markdown",
   "id": "e589e03c",
   "metadata": {},
   "source": [
    "##  Desafío 1: Calificaciones aprobadas\n",
    "**¿Qué pide el enunciado?**\n",
    "\n",
    "Contar cuántos estudiantes aprobaron y cuántos no, considerando como aprobado una calificación de 7 o más.\n",
    "\n",
    "**¿Qué estructuras de control y operadores usaste?**\n",
    "\n",
    "Utilicé un bucle `for` para recorrer las calificaciones y un condicional `if-else` para clasificar las notas. También usé operadores de comparación `>=` y contadores.\n",
    "\n",
    "**¿Qué dificultades encontraste y cómo las resolviste?**\n",
    "\n",
    "No tuve mayores dificultades, pero era importante tener bien organizados los datos, especialmente con nombres repetidos como \"María\"."
   ]
  },
  {
   "cell_type": "code",
   "execution_count": null,
   "id": "1aa11824",
   "metadata": {},
   "outputs": [],
   "source": [
    "# Lista de estudiantes con sus calificaciones\n",
    "estudiantes = [\n",
    "    (\"Juan\", 8),\n",
    "    (\"Maria\", 12),\n",
    "    (\"Pedro\", 5),\n",
    "    (\"Ana\", 5),\n",
    "    (\"Carlos\", 8),\n",
    "    (\"Paula\", 2),\n",
    "    (\"Agustín\", 8),\n",
    "    (\"Lucas\", 9),\n",
    "    (\"Antonhy\", 12),\n",
    "    (\"María\", 11)  # Segunda María\n",
    "]\n",
    "\n",
    "aprobados = 0\n",
    "no_aprobados = 0\n",
    "\n",
    "# Recorremos la lista de calificaciones\n",
    "for nombre, nota in estudiantes:\n",
    "    if nota >= 7:\n",
    "        aprobados += 1\n",
    "    else:\n",
    "        no_aprobados += 1\n",
    "\n",
    "print(f\"La cantidad de aprobados es: {aprobados}\")\n",
    "print(f\"La cantidad de no aprobados es: {no_aprobados}\")"
   ]
  },
  {
   "cell_type": "markdown",
   "id": "fe7636e9",
   "metadata": {},
   "source": [
    "Para resolver este desafío, lo primero que hice fue definir una lista llamada `estudiantes`, que contiene el nombre del estudiante y su calificación. Luego, coloqué dos contadores, `aprobados` y `no_aprobados`, ambos en cero. Lo siguiente fue recorrer la lista `estudiantes` usando un bucle `for`. En cada iteración, desempaqué el nombre y la nota de cada estudiante. Después, usé una estructura condicional `if-else`: si la nota era mayor o igual a 7, incrementaba el contador `aprobados`; de lo contrario, incrementaba `no_aprobados`. Finalmente, imprimí los resultados de ambos contadores para saber cuántos estudiantes aprobaron y cuántos no."
   ]
  },
  {
   "cell_type": "markdown",
   "id": "7ab474cb",
   "metadata": {},
   "source": [
    "##  Desafío 2: Mejora del cálculo\n",
    "**¿Qué pide el enunciado?**\n",
    "\n",
    "Modificar el código para que se ingresen todas las calificaciones en una sola línea separadas por comas, y luego calcular el promedio.\n",
    "\n",
    "**¿Qué estructuras de control y operadores usaste?**\n",
    "\n",
    "Utilicé la función `input`, la función `split` para separar las calificaciones, comprensión de listas para convertirlas en números y las funciones `sum` y `len` para calcular el promedio.\n",
    "\n",
    "**¿Qué dificultades encontraste y cómo las resolviste?**\n",
    "\n",
    "La principal dificultad fue limpiar los espacios después de cada coma. Se resolvió usando `strip()` dentro de la comprensión de listas."
   ]
  },
  {
   "cell_type": "code",
   "execution_count": null,
   "id": "23459d41",
   "metadata": {},
   "outputs": [],
   "source": [
    "# Lista directa de calificaciones extraída de los estudiantes\n",
    "calificaciones = [8, 12, 5, 5, 8, 2, 8, 9, 12, 11]\n",
    "\n",
    "# Calcular promedio\n",
    "promedio = sum(calificaciones) / len(calificaciones)\n",
    "print(f\"El promedio de las calificaciones es: {promedio:.2f}\")"
   ]
  },
  {
   "cell_type": "markdown",
   "id": "65deade1",
   "metadata": {},
   "source": [
    "Para este segundo desafío empecé con una lista `calificaciones` directamente extraída de los datos de los estudiantes. Para obtener el promedio, simplemente sumé todos los elementos de la lista usando `sum()` y después dividí el resultado por la cantidad de elementos en la lista, que obtuve con `len()`. Finalmente, imprimí el promedio, asegurándome de formatearlo para mostrar solo dos decimales usando `:.2f`."
   ]
  },
  {
   "cell_type": "markdown",
   "id": "8f1aa127",
   "metadata": {},
   "source": [
    "Enlace al repositorio: https://github.com/pedrok1218/Programacion-1"
   ]
  }
 ],
 "metadata": {
  "kernelspec": {
   "display_name": "Python 3",
   "language": "python",
   "name": "python3"
  },
  "language_info": {
   "name": "python",
   "version": "3.13.2"
  }
 },
 "nbformat": 4,
 "nbformat_minor": 5
}
