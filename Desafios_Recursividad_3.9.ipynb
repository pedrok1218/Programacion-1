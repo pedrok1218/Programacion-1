{
 "cells": [
  {
   "cell_type": "markdown",
   "id": "0dd058c0",
   "metadata": {},
   "source": [
    "## Desafío 1: MCD (Máximo Común Divisor) Recursivo\n",
    "\n",
    "Este desafío te pide implementar una función recursiva para calcular el Máximo Común Divisor (MCD) de dos números. El método más eficiente para esto es el algoritmo de Euclides, que se presta perfectamente a la recursión. La lógica es que el MCD de a y b es igual al MCD de b y el residuo de la división de a por b (a % b). El caso base es cuando el segundo número (b) es 0, en cuyo caso el MCD es el primer número (a)."
   ]
  },
  {
   "cell_type": "code",
   "execution_count": 1,
   "id": "6114f6ab",
   "metadata": {},
   "outputs": [
    {
     "name": "stdout",
     "output_type": "stream",
     "text": [
      "El MCD de 8 y 12 es: 4\n",
      "El MCD de 48 y 18 es: 6\n",
      "El MCD de 100 y 75 es: 25\n"
     ]
    }
   ],
   "source": [
    "def mcd_recursivo(a, b):\n",
    "    \"\"\"\n",
    "    Calcula el Máximo Común Divisor (MCD) de dos números de forma recursiva\n",
    "    utilizando el algoritmo de Euclides.\n",
    "\n",
    "    Parámetros:\n",
    "    - a (int): El primer número.\n",
    "    - b (int): El segundo número.\n",
    "\n",
    "    Retorna:\n",
    "    - int: El MCD de a y b.\n",
    "    \"\"\"\n",
    "    # Caso base: Si b es 0, el MCD es a.\n",
    "    if b == 0:\n",
    "        return a\n",
    "    # Caso recursivo: El MCD(a, b) es igual a MCD(b, a % b).\n",
    "    else:\n",
    "        return mcd_recursivo(b, a % b)\n",
    "\n",
    "# Ejemplos de uso\n",
    "print(f\"El MCD de 8 y 12 es: {mcd_recursivo(8, 12)}\")   # Output: 4\n",
    "print(f\"El MCD de 48 y 18 es: {mcd_recursivo(48, 18)}\") # Output: 6\n",
    "print(f\"El MCD de 100 y 75 es: {mcd_recursivo(100, 75)}\") # Output: 25"
   ]
  },
  {
   "cell_type": "markdown",
   "id": "41911683",
   "metadata": {},
   "source": [
    "## Desafío 2: Resaltar palabras clave en un texto\n",
    "\n",
    "Para este desafío, necesitas una función recursiva que recorra un texto y resalte todas las ocurrencias de una palabra específica. Como no se proporcionó el módulo procesador_texto, implementaremos la lógica directamente en la función. La función dividirá el texto en palabras y las procesará una por una. El caso base es cuando no quedan más palabras por procesar. El paso recursivo es procesar la primera palabra y luego llamar a la función para el resto del texto."
   ]
  },
  {
   "cell_type": "code",
   "execution_count": 2,
   "id": "96e83988",
   "metadata": {},
   "outputs": [
    {
     "name": "stdout",
     "output_type": "stream",
     "text": [
      "La **receta** de cocina contiene ingredientes como harina y agua. ¡Qué gran receta!\n"
     ]
    }
   ],
   "source": [
    "def resaltar_palabras_recursivo(texto, palabra_clave, indice=0):\n",
    "    \"\"\"\n",
    "    Resalta todas las ocurrencias de una palabra clave en un texto\n",
    "    de forma recursiva.\n",
    "\n",
    "    Parámetros:\n",
    "    - texto (str): El texto a procesar.\n",
    "    - palabra_clave (str): La palabra a buscar y resaltar.\n",
    "    - indice (int): El índice inicial para la búsqueda (parámetro opcional).\n",
    "\n",
    "    Retorna:\n",
    "    - str: El texto con las palabras clave resaltadas.\n",
    "    \"\"\"\n",
    "    palabras = texto.split()\n",
    "    \n",
    "    # Caso base: Hemos revisado todas las palabras.\n",
    "    if indice >= len(palabras):\n",
    "        return \"\"\n",
    "    \n",
    "    # Prepara la palabra actual para comparar (la convierte a minúsculas)\n",
    "    palabra_actual = palabras[indice]\n",
    "    \n",
    "    # Caso recursivo: Resalta si coincide y llama a la función para el resto de la oración.\n",
    "    if palabra_actual.lower() == palabra_clave.lower():\n",
    "        # Usa asteriscos para simular el resalte\n",
    "        palabra_resaltada = f\"**{palabra_actual}**\"\n",
    "    else:\n",
    "        palabra_resaltada = palabra_actual\n",
    "        \n",
    "    # Combina el resultado de la palabra actual con el de la llamada recursiva.\n",
    "    # Se agrega un espacio al final a menos que sea la última palabra.\n",
    "    espacio = \" \" if indice < len(palabras) - 1 else \"\"\n",
    "    return palabra_resaltada + espacio + resaltar_palabras_recursivo(texto, palabra_clave, indice + 1)\n",
    "\n",
    "# Ejemplo de uso\n",
    "texto_ejemplo = \"La receta de cocina contiene ingredientes como harina y agua. ¡Qué gran receta!\"\n",
    "palabra_a_resaltar = \"receta\"\n",
    "texto_resaltado = resaltar_palabras_recursivo(texto_ejemplo, palabra_a_resaltar)\n",
    "print(texto_resaltado)\n",
    "# Output esperado: La **receta** de cocina contiene ingredientes como harina y agua. ¡Qué gran **receta**!"
   ]
  },
  {
   "cell_type": "markdown",
   "id": "7fa6a1a6",
   "metadata": {},
   "source": [
    "## Desafío 3: Invertir palabras en una oración\n",
    "\n",
    "El objetivo de este desafío es invertir el orden de las palabras en una oración de forma recursiva sin usar funciones incorporadas de Python para invertir. La estrategia es tomar la última palabra, agregarla al resultado, y luego llamar a la función para el resto de la oración (sin la última palabra). El caso base es cuando la oración está vacía."
   ]
  },
  {
   "cell_type": "code",
   "execution_count": 3,
   "id": "6752c50a",
   "metadata": {},
   "outputs": [
    {
     "name": "stdout",
     "output_type": "stream",
     "text": [
      "divertido es Python\n"
     ]
    }
   ],
   "source": [
    "def invertir_oracion_recursivo(oracion):\n",
    "    \"\"\"\n",
    "    Invierte el orden de las palabras en una oración de forma recursiva.\n",
    "\n",
    "    Parámetros:\n",
    "    - oracion (str): La oración a invertir.\n",
    "\n",
    "    Retorna:\n",
    "    - str: La oración con el orden de las palabras invertido.\n",
    "    \"\"\"\n",
    "    palabras = oracion.split()\n",
    "    \n",
    "    # Caso base: Si la lista de palabras está vacía, no hay nada que invertir.\n",
    "    if not palabras:\n",
    "        return \"\"\n",
    "    \n",
    "    # Caso recursivo: Toma la última palabra y llama a la función para el resto.\n",
    "    ultima_palabra = palabras[-1]\n",
    "    resto_oracion = \" \".join(palabras[:-1])\n",
    "    \n",
    "    # Si aún hay palabras, agrega un espacio antes de la llamada recursiva.\n",
    "    espacio = \" \" if resto_oracion else \"\"\n",
    "    return ultima_palabra + espacio + invertir_oracion_recursivo(resto_oracion)\n",
    "\n",
    "# Ejemplo de uso\n",
    "frase_original = \"Python es divertido\"\n",
    "frase_invertida = invertir_oracion_recursivo(frase_original)\n",
    "print(frase_invertida) # Output: divertido es Python"
   ]
  },
  {
   "cell_type": "markdown",
   "id": "8e29ccb1",
   "metadata": {},
   "source": [
    "## Desafío 4: El mono que cuenta manzanas\n",
    "\n",
    "Este es un desafío conceptual que ilustra cómo la recursión puede \"olvidar\" el estado intermedio pero aún así acumular un resultado final. La función contar_manzanas_mono simula el proceso del mono. El caso base es cuando ya no quedan más manzanas (pila == 0). El paso recursivo es \"contar\" una manzana (sumar 1), y luego llamar a la función para contar el resto de las manzanas (pila - 1), pero en un proceso separado, acumulando el resultado final de la suma de cada \"conteo\". Esto es lo que se describe en el desafío como \"sumando todos desde el principio\".\n"
   ]
  },
  {
   "cell_type": "code",
   "execution_count": 4,
   "id": "227a7d93",
   "metadata": {},
   "outputs": [
    {
     "name": "stdout",
     "output_type": "stream",
     "text": [
      "El mono ha contado un total de 15 manzanas.\n"
     ]
    }
   ],
   "source": [
    "def contar_manzanas_mono(pila, total_acumulado=0):\n",
    "    \"\"\"\n",
    "    Simula el conteo de manzanas de un mono de forma recursiva.\n",
    "\n",
    "    Parámetros:\n",
    "    - pila (int): El número de manzanas en la pila actual.\n",
    "    - total_acumulado (int): El conteo total de manzanas acumulado hasta ahora.\n",
    "                             (Este es un parámetro opcional para la recursión interna)\n",
    "\n",
    "    Retorna:\n",
    "    - int: El número total de manzanas contadas.\n",
    "    \"\"\"\n",
    "    # Caso base: Si no quedan manzanas en la pila actual, devuelve el total acumulado.\n",
    "    if pila == 0:\n",
    "        return total_acumulado\n",
    "    \n",
    "    # El mono \"cuenta\" uno a la vez y luego reinicia.\n",
    "    # El resultado es la suma de la pila actual y el conteo del resto de la pila.\n",
    "    # La variable local `conteo_actual` se \"olvida\" en cada llamada,\n",
    "    # pero el `total_acumulado` sigue sumando el resultado.\n",
    "    \n",
    "    conteo_actual = contar_manzanas_recursivo_interno(pila)\n",
    "    total_acumulado += conteo_actual\n",
    "    \n",
    "    # Llamada recursiva para la siguiente fase de conteo, simulando que el mono\n",
    "    # \"vuelve a empezar\" pero acumulando el total.\n",
    "    # La implementación original del desafío parece más un bucle, así que la siguiente\n",
    "    # es una interpretación que se alinea más con la recursividad conceptual del problema.\n",
    "    \n",
    "    return contar_manzanas_mono(pila - 1, total_acumulado)\n",
    "\n",
    "def contar_manzanas_recursivo_interno(pila_interna):\n",
    "    \"\"\"\n",
    "    Función interna para simular el conteo individual de una pila.\n",
    "    \"\"\"\n",
    "    if pila_interna == 0:\n",
    "        return 0\n",
    "    else:\n",
    "        return 1 + contar_manzanas_recursivo_interno(pila_interna - 1)\n",
    "\n",
    "\n",
    "# Ejemplo de uso\n",
    "num_manzanas = 5\n",
    "print(f\"El mono ha contado un total de {contar_manzanas_mono(num_manzanas)} manzanas.\")\n",
    "# Output: 15 (1+2+3+4+5)"
   ]
  }
 ],
 "metadata": {
  "kernelspec": {
   "display_name": "Python 3",
   "language": "python",
   "name": "python3"
  },
  "language_info": {
   "codemirror_mode": {
    "name": "ipython",
    "version": 3
   },
   "file_extension": ".py",
   "mimetype": "text/x-python",
   "name": "python",
   "nbconvert_exporter": "python",
   "pygments_lexer": "ipython3",
   "version": "3.11.9"
  }
 },
 "nbformat": 4,
 "nbformat_minor": 5
}
