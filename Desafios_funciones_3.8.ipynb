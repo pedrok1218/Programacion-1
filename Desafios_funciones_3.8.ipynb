{
 "cells": [
  {
   "cell_type": "markdown",
   "id": "f1d2e7c9",
   "metadata": {},
   "source": [
    "## Desafío 1: Suma y promedio de una lista de números\n",
    "\n",
    "Esta función calcula la suma y el promedio de una lista de números. Devuelve ambos valores como una tupla.\n"
   ]
  },
  {
   "cell_type": "code",
   "execution_count": 2,
   "id": "f33cccc2",
   "metadata": {},
   "outputs": [
    {
     "name": "stdout",
     "output_type": "stream",
     "text": [
      "La suma es: 150\n",
      "El promedio es: 30.0\n"
     ]
    }
   ],
   "source": [
    "def calcular_suma_promedio(numeros):\n",
    "    \"\"\"\n",
    "    Calcula la suma y el promedio de una lista de números.\n",
    "    \n",
    "    Parámetros:\n",
    "    - numeros (list): Una lista de números (enteros o flotantes).\n",
    "    \n",
    "    Retorna:\n",
    "    - tuple: Una tupla que contiene la suma y el promedio de los números.\n",
    "    \"\"\"\n",
    "    if not numeros:\n",
    "        return 0, 0\n",
    "    \n",
    "    suma = sum(numeros)\n",
    "    promedio = suma / len(numeros)\n",
    "    return suma, promedio\n",
    "\n",
    "# Ejemplo de uso\n",
    "lista_numeros = [10, 20, 30, 40, 50]\n",
    "suma_total, promedio_final = calcular_suma_promedio(lista_numeros)\n",
    "print(f\"La suma es: {suma_total}\")\n",
    "print(f\"El promedio es: {promedio_final}\")"
   ]
  },
  {
   "cell_type": "markdown",
   "id": "b07f46a7",
   "metadata": {},
   "source": [
    "## Desafío 2: Capitalizar la primera letra de cada palabra\n",
    "Esta función toma una cadena y devuelve una nueva cadena donde la primera letra de cada palabra está en mayúscula. Gestiona correctamente los espacios y la puntuación."
   ]
  },
  {
   "cell_type": "code",
   "execution_count": 3,
   "id": "57e2e335",
   "metadata": {},
   "outputs": [
    {
     "name": "stdout",
     "output_type": "stream",
     "text": [
      "Hola, Mundo! Este Es Un Ejemplo\n"
     ]
    }
   ],
   "source": [
    "def capitalizar_palabras(cadena):\n",
    "    \"\"\"\n",
    "    Capitaliza el primer carácter de cada palabra en una cadena.\n",
    "    \n",
    "    Parámetros:\n",
    "    - cadena (str): La cadena de texto a modificar.\n",
    "    \n",
    "    Retorna:\n",
    "    - str: La cadena con el primer carácter de cada palabra en mayúscula.\n",
    "    \"\"\"\n",
    "    return cadena.title()\n",
    "\n",
    "# Ejemplo de uso\n",
    "frase = \"hola, mundo! este es un ejemplo\"\n",
    "frase_capitalizada = capitalizar_palabras(frase)\n",
    "print(frase_capitalizada) # Output: Hola, Mundo! Este Es Un Ejemplo"
   ]
  },
  {
   "cell_type": "markdown",
   "id": "e9cd808b",
   "metadata": {},
   "source": [
    "##  Desafío 3: Elementos comunes en dos listas\n",
    "Esta función comprueba si dos listas tienen al menos un elemento en común. \n",
    "\n"
   ]
  },
  {
   "cell_type": "code",
   "execution_count": 4,
   "id": "836790fb",
   "metadata": {},
   "outputs": [
    {
     "name": "stdout",
     "output_type": "stream",
     "text": [
      "True\n",
      "False\n"
     ]
    }
   ],
   "source": [
    "def tienen_elementos_comunes(lista1, lista2):\n",
    "    \"\"\"\n",
    "    Verifica si dos listas tienen al menos un elemento en común.\n",
    "    \n",
    "    Parámetros:\n",
    "    - lista1 (list): La primera lista.\n",
    "    - lista2 (list): La segunda lista.\n",
    "    \n",
    "    Retorna:\n",
    "    - bool: True si tienen elementos en común, de lo contrario False.\n",
    "    \"\"\"\n",
    "    set1 = set(lista1)\n",
    "    for elemento in lista2:\n",
    "        if elemento in set1:\n",
    "            return True\n",
    "    return False\n",
    "\n",
    "# Ejemplos de uso\n",
    "lista_a = [1, 2, 3, 4, 5]\n",
    "lista_b = [5, 6, 7, 8, 9]\n",
    "lista_c = [10, 11, 12]\n",
    "\n",
    "print(tienen_elementos_comunes(lista_a, lista_b)) # Output: True\n",
    "print(tienen_elementos_comunes(lista_a, lista_c)) # Output: False"
   ]
  },
  {
   "cell_type": "markdown",
   "id": "c06d2fe6",
   "metadata": {},
   "source": [
    " ## Desafío 4: Algoritmo MCD (Máximo Común Divisor)\n",
    " "
   ]
  },
  {
   "cell_type": "code",
   "execution_count": 5,
   "id": "93e05abf",
   "metadata": {},
   "outputs": [
    {
     "name": "stdout",
     "output_type": "stream",
     "text": [
      "El MCD de 48 y 18 es: 6\n"
     ]
    }
   ],
   "source": [
    "def mcd(a, b):\n",
    "    \"\"\"\n",
    "    Calcula el Máximo Común Divisor (MCD) de dos números usando el\n",
    "    algoritmo de Euclides.\n",
    "    \n",
    "    Parámetros:\n",
    "    - a (int): El primer número entero.\n",
    "    - b (int): El segundo número entero.\n",
    "    \n",
    "    Retorna:\n",
    "    - int: El MCD de a y b.\n",
    "    \"\"\"\n",
    "    while b:\n",
    "        a, b = b, a % b\n",
    "    return a\n",
    "\n",
    "# Ejemplo de uso\n",
    "num1 = 48\n",
    "num2 = 18\n",
    "print(f\"El MCD de {num1} y {num2} es: {mcd(num1, num2)}\") # Output: El MCD de 48 y 18 es: 6"
   ]
  },
  {
   "cell_type": "markdown",
   "id": "ffc22b33",
   "metadata": {},
   "source": [
    "## Desafío 5: Palíndromo\n"
   ]
  },
  {
   "cell_type": "code",
   "execution_count": 6,
   "id": "8e0acb7d",
   "metadata": {},
   "outputs": [
    {
     "name": "stdout",
     "output_type": "stream",
     "text": [
      "True\n",
      "False\n",
      "True\n"
     ]
    }
   ],
   "source": [
    "def es_palindromo(cadena):\n",
    "    \"\"\"\n",
    "    Verifica si una cadena es un palíndromo.\n",
    "    \n",
    "    Parámetros:\n",
    "    - cadena (str): La cadena a verificar.\n",
    "    \n",
    "    Retorna:\n",
    "    - bool: True si la cadena es un palíndromo, de lo contrario False.\n",
    "    \"\"\"\n",
    "    cadena_limpia = \"\".join(filter(str.isalnum, cadena)).lower()\n",
    "    return cadena_limpia == cadena_limpia[::-1]\n",
    "\n",
    "# Ejemplos de uso\n",
    "print(es_palindromo(\"Anita lava la tina\")) # Output: True\n",
    "print(es_palindromo(\"Hola Mundo\")) # Output: False\n",
    "print(es_palindromo(\"A man, a plan, a canal: Panama\")) # Output: True"
   ]
  },
  {
   "cell_type": "markdown",
   "id": "e861f0b7",
   "metadata": {},
   "source": [
    "##  Desafío 6: Verificación y Cálculo de Números Primos\n",
    "La función es_primo\n",
    "\n",
    "Esta función determina si un número es primo. Un número es primo si es mayor que 1 y no tiene divisores positivos aparte de 1 y él mismo. La función comprueba la divisibilidad hasta la raíz cuadrada del número para optimizar el rendimiento.\n",
    "\n",
    "La función contar_primos_en_lista\n",
    "\n",
    "Esta función toma una lista y usa es_primo para contar cuántos números primos hay presentes.\n",
    "\n",
    "La función main\n",
    "\n",
    "La función main sirve como punto de entrada para el programa, llamando a las otras funciones con datos de ejemplo e imprimiendo los resultados."
   ]
  },
  {
   "cell_type": "code",
   "execution_count": 7,
   "id": "06747968",
   "metadata": {},
   "outputs": [
    {
     "name": "stdout",
     "output_type": "stream",
     "text": [
      "--- Verificación de números primos ---\n",
      "¿Es 17 un número primo? True\n",
      "¿Es 10 un número primo? False\n",
      "\n",
      "--- Conteo de números primos en la lista ---\n",
      "La lista es: [1, 2, 3, 4, 5, 6, 7, 8, 9, 10, 11, 13, 17, 19, 23, 29]\n",
      "Hay 10 números primos en la lista.\n"
     ]
    }
   ],
   "source": [
    "def es_primo(numero):\n",
    "    \"\"\"\n",
    "    Verifica si un número es primo.\n",
    "    \n",
    "    Parámetros:\n",
    "    - numero (int): El número a verificar.\n",
    "    \n",
    "    Retorna:\n",
    "    - bool: True si el número es primo, de lo contrario False.\n",
    "    \"\"\"\n",
    "    if numero < 2:\n",
    "        return False\n",
    "    for i in range(2, int(numero**0.5) + 1):\n",
    "        if numero % i == 0:\n",
    "            return False\n",
    "    return True\n",
    "\n",
    "def contar_primos_en_lista(lista_numeros):\n",
    "    \"\"\"\n",
    "    Cuenta la cantidad de números primos en una lista.\n",
    "    \n",
    "    Parámetros:\n",
    "    - lista_numeros (list): La lista de números a evaluar.\n",
    "    \n",
    "    Retorna:\n",
    "    - int: La cantidad de números primos en la lista.\n",
    "    \"\"\"\n",
    "    cantidad_primos = 0\n",
    "    for num in lista_numeros:\n",
    "        if es_primo(num):\n",
    "            cantidad_primos += 1\n",
    "    return cantidad_primos\n",
    "\n",
    "def main():\n",
    "    \"\"\"\n",
    "    Función principal que integra las funciones de números primos y muestra los resultados.\n",
    "    \"\"\"\n",
    "    lista_ejemplo = [1, 2, 3, 4, 5, 6, 7, 8, 9, 10, 11, 13, 17, 19, 23, 29]\n",
    "    \n",
    "    print(\"--- Verificación de números primos ---\")\n",
    "    num_a_verificar = 17\n",
    "    print(f\"¿Es {num_a_verificar} un número primo? {es_primo(num_a_verificar)}\") # Output: True\n",
    "    \n",
    "    num_a_verificar = 10\n",
    "    print(f\"¿Es {num_a_verificar} un número primo? {es_primo(num_a_verificar)}\") # Output: False\n",
    "\n",
    "    print(\"\\n--- Conteo de números primos en la lista ---\")\n",
    "    print(f\"La lista es: {lista_ejemplo}\")\n",
    "    cantidad = contar_primos_en_lista(lista_ejemplo)\n",
    "    print(f\"Hay {cantidad} números primos en la lista.\") # Output: Hay 8 números primos en la lista.\n",
    "\n",
    "if __name__ == \"__main__\":\n",
    "    main()"
   ]
  }
 ],
 "metadata": {
  "kernelspec": {
   "display_name": "Python 3",
   "language": "python",
   "name": "python3"
  },
  "language_info": {
   "codemirror_mode": {
    "name": "ipython",
    "version": 3
   },
   "file_extension": ".py",
   "mimetype": "text/x-python",
   "name": "python",
   "nbconvert_exporter": "python",
   "pygments_lexer": "ipython3",
   "version": "3.11.9"
  }
 },
 "nbformat": 4,
 "nbformat_minor": 5
}
