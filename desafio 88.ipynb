{
 "cells": [
  {
   "cell_type": "markdown",
   "id": "82f8efc5",
   "metadata": {},
   "source": [
    "Problemática: Leer un archivo CSV, modificar el valor de un campo (Cantidad) para un libro específico, y reescribir todo el archivo.\n",
    "\n",
    "Esto requiere leer todo el contenido, modificar la lista de datos en memoria, y luego reescribir (\"w\") el archivo completo."
   ]
  },
  {
   "cell_type": "code",
   "execution_count": 1,
   "id": "113f2140",
   "metadata": {},
   "outputs": [
    {
     "name": "stdout",
     "output_type": "stream",
     "text": [
      "✅ Cantidad actualizada: '1984' ahora tiene 7 copias.\n"
     ]
    }
   ],
   "source": [
    "import csv\n",
    "\n",
    "NOMBRE_ARCHIVO_INVENTARIO = \"inventario.csv\"\n",
    "HEADER = [\"Título\", \"Autor\", \"Cantidad\"]\n",
    "\n",
    "# Crear archivo CSV de ejemplo\n",
    "datos_iniciales = [\n",
    "    HEADER,\n",
    "    [\"Cien Años de Soledad\", \"García Márquez\", \"10\"],\n",
    "    [\"1984\", \"George Orwell\", \"5\"],\n",
    "    [\"El Hobbit\", \"J.R.R. Tolkien\", \"12\"]\n",
    "]\n",
    "with open(NOMBRE_ARCHIVO_INVENTARIO, \"w\", newline=\"\") as f:\n",
    "    escritor_csv = csv.writer(f)\n",
    "    escritor_csv.writerows(datos_iniciales)\n",
    "\n",
    "def actualizar_cantidad_csv(nombre_archivo, titulo_libro, nueva_cantidad):\n",
    "    \"\"\"\n",
    "    Lee, modifica la cantidad de un libro y reescribe el archivo CSV.\n",
    "    \"\"\"\n",
    "    filas = []\n",
    "    encontrado = False\n",
    "\n",
    "    # 1. Leer todo el contenido\n",
    "    try:\n",
    "        with open(nombre_archivo, \"r\", newline=\"\") as archivo_csv:\n",
    "            lector_csv = csv.reader(archivo_csv)\n",
    "            for fila in lector_csv:\n",
    "                filas.append(fila)\n",
    "    except FileNotFoundError:\n",
    "        print(f\"❌ Error: El archivo '{nombre_archivo}' no fue encontrado.\")\n",
    "        return\n",
    "\n",
    "    # 2. Modificar el número de copias en memoria\n",
    "    for i, fila in enumerate(filas):\n",
    "        if i > 0 and fila[0].strip().lower() == titulo_libro.strip().lower():\n",
    "            # Asumimos que la Cantidad está en la columna 2 (índice 2)\n",
    "            if len(fila) > 2:\n",
    "                fila[2] = str(nueva_cantidad)\n",
    "                encontrado = True\n",
    "                break\n",
    "    \n",
    "    # 3. Reescribir el archivo solo si hubo modificación\n",
    "    if encontrado:\n",
    "        try:\n",
    "            with open(nombre_archivo, \"w\", newline=\"\") as archivo_csv: # Modo 'w'\n",
    "                escritor_csv = csv.writer(archivo_csv)\n",
    "                escritor_csv.writerows(filas)\n",
    "            print(f\"✅ Cantidad actualizada: '{titulo_libro}' ahora tiene {nueva_cantidad} copias.\")\n",
    "        except Exception as e:\n",
    "            print(f\"❌ Error al reescribir el archivo: {e}\")\n",
    "    else:\n",
    "        print(f\"🔎 Libro '{titulo_libro}' no encontrado en el inventario.\")\n",
    "\n",
    "# Ejemplo de uso:\n",
    "actualizar_cantidad_csv(NOMBRE_ARCHIVO_INVENTARIO, \"1984\", 7)"
   ]
  }
 ],
 "metadata": {
  "kernelspec": {
   "display_name": "Python 3",
   "language": "python",
   "name": "python3"
  },
  "language_info": {
   "codemirror_mode": {
    "name": "ipython",
    "version": 3
   },
   "file_extension": ".py",
   "mimetype": "text/x-python",
   "name": "python",
   "nbconvert_exporter": "python",
   "pygments_lexer": "ipython3",
   "version": "3.11.9"
  }
 },
 "nbformat": 4,
 "nbformat_minor": 5
}
