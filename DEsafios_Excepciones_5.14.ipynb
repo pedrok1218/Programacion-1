{
 "cells": [
  {
   "cell_type": "markdown",
   "id": "71b43759",
   "metadata": {},
   "source": [
    "## Desafío 67: Manejar un ValueError\n",
    "\n",
    "Este desafío te pide manejar un ValueError, que ocurre cuando una función recibe un argumento de tipo correcto, pero con un valor inadecuado. En el contexto de un int(), esto sucede cuando la cadena de texto no puede ser convertida a un número. Usaremos un bloque try...except para capturar este error y mostrar un mensaje amigable al usuario en lugar de que el programa se detenga."
   ]
  },
  {
   "cell_type": "code",
   "execution_count": 1,
   "id": "0047a747",
   "metadata": {},
   "outputs": [
    {
     "name": "stdout",
     "output_type": "stream",
     "text": [
      "El valor '123' se convirtió a entero: 123\n",
      "Error: No se pudo convertir 'hola' a un número entero. Por favor, ingrese un valor válido.\n",
      "Detalles del error: invalid literal for int() with base 10: 'hola'\n"
     ]
    }
   ],
   "source": [
    "def convertir_a_entero(valor):\n",
    "    try:\n",
    "        # Intenta convertir el valor a un entero\n",
    "        numero = int(valor)\n",
    "        print(f\"El valor '{valor}' se convirtió a entero: {numero}\")\n",
    "    except ValueError as e:\n",
    "        # Captura el error si la conversión falla\n",
    "        print(f\"Error: No se pudo convertir '{valor}' a un número entero. Por favor, ingrese un valor válido.\")\n",
    "        print(f\"Detalles del error: {e}\")\n",
    "\n",
    "# Ejemplos de uso\n",
    "convertir_a_entero(\"123\")\n",
    "convertir_a_entero(\"hola\")"
   ]
  },
  {
   "cell_type": "markdown",
   "id": "dc9e0d1a",
   "metadata": {},
   "source": [
    "## Desafío 68: Manejar múltiples excepciones\n",
    "En este desafío, el objetivo es manejar varias excepciones comunes que pueden ocurrir en operaciones matemáticas. Para ello, usaremos múltiples cláusulas except en un solo bloque try. Esto nos permite ejecutar un código específico para cada tipo de error (ZeroDivisionError, TypeError, ValueError), haciendo nuestro programa más preciso"
   ]
  },
  {
   "cell_type": "code",
   "execution_count": 2,
   "id": "a4c6166f",
   "metadata": {},
   "outputs": [
    {
     "name": "stdout",
     "output_type": "stream",
     "text": [
      "El resultado de la división es: 5.0\n",
      "Error: No se puede dividir por cero.\n",
      "Error: Los valores de la lista no son números. Asegúrese de que todos los elementos sean numéricos.\n",
      "El resultado de la suma es: 0\n"
     ]
    }
   ],
   "source": [
    "def realizar_operacion_matematica(numeros, operacion):\n",
    "    try:\n",
    "        if operacion == \"dividir\":\n",
    "            resultado = numeros[0] / numeros[1]\n",
    "            print(f\"El resultado de la división es: {resultado}\")\n",
    "        elif operacion == \"sumar\":\n",
    "            resultado = sum(numeros)\n",
    "            print(f\"El resultado de la suma es: {resultado}\")\n",
    "        else:\n",
    "            print(\"Operación no reconocida.\")\n",
    "\n",
    "    except ZeroDivisionError:\n",
    "        print(\"Error: No se puede dividir por cero.\")\n",
    "    except TypeError:\n",
    "        print(\"Error: Los valores de la lista no son números. Asegúrese de que todos los elementos sean numéricos.\")\n",
    "    except ValueError:\n",
    "        print(\"Error: Valor no es válido. Ocurrió un error en el valor de los datos.\")\n",
    "    except IndexError:\n",
    "        print(\"Error: La lista no tiene suficientes elementos para realizar la operación.\")\n",
    "\n",
    "# Ejemplos de uso\n",
    "realizar_operacion_matematica([10, 2], \"dividir\")\n",
    "realizar_operacion_matematica([10, 0], \"dividir\")\n",
    "realizar_operacion_matematica([10, \"5\"], \"sumar\")\n",
    "realizar_operacion_matematica([], \"sumar\")"
   ]
  },
  {
   "cell_type": "markdown",
   "id": "321d6b55",
   "metadata": {},
   "source": [
    "## Desafío 69: Factorial con manejo de excepciones\n",
    "Para este desafío, crearemos una función que calcula el factorial de un número, pero con una validación rigurosa. Usaremos un if para verificar si el número es negativo o no es un entero. Si es el caso, raise (lanzaremos) un error apropiado. Además, usaremos un bloque try...except para capturar y manejar estos errores."
   ]
  },
  {
   "cell_type": "code",
   "execution_count": 3,
   "id": "47f7f40e",
   "metadata": {},
   "outputs": [
    {
     "name": "stdout",
     "output_type": "stream",
     "text": [
      "El factorial de 5 es: 120\n",
      "Se capturó un error: El factorial solo está definido para números enteros positivos.\n"
     ]
    }
   ],
   "source": [
    "def factorial(n):\n",
    "    # Validaciones iniciales\n",
    "    if not isinstance(n, int):\n",
    "        raise TypeError(\"El factorial solo se puede calcular para números enteros.\")\n",
    "    if n < 0:\n",
    "        raise ValueError(\"El factorial solo está definido para números enteros positivos.\")\n",
    "    if n > 999: # Evita números demasiado grandes que causen problemas de rendimiento\n",
    "        raise OverflowError(\"El número es demasiado grande para calcular su factorial.\")\n",
    "\n",
    "    # Cálculo del factorial\n",
    "    if n == 0:\n",
    "        return 1\n",
    "    else:\n",
    "        return n * factorial(n-1)\n",
    "\n",
    "# Ejemplos de uso\n",
    "try:\n",
    "    print(f\"El factorial de 5 es: {factorial(5)}\")\n",
    "    print(f\"El factorial de -1 es: {factorial(-1)}\")\n",
    "except (TypeError, ValueError, OverflowError) as e:\n",
    "    print(f\"Se capturó un error: {e}\")"
   ]
  },
  {
   "cell_type": "markdown",
   "id": "74e59bbc",
   "metadata": {},
   "source": [
    "## Desafío 70: Excepción personalizada\n",
    " En este desafío, crearemos nuestra propia excepción, NegativeNumberError, que hereda de la clase base Exception. Luego, la dispararemos (raise) cuando se ingrese un número negativo para calcular la raíz cuadrada, proporcionando un mensaje más claro."
   ]
  },
  {
   "cell_type": "code",
   "execution_count": 6,
   "id": "4aa837fd",
   "metadata": {},
   "outputs": [
    {
     "name": "stdout",
     "output_type": "stream",
     "text": [
      "La raíz cuadrada de 20.0 es: 4.47213595499958\n",
      "Error: Entrada inválida. Por favor, ingrese un número.\n"
     ]
    }
   ],
   "source": [
    "import math\n",
    "\n",
    "# Definición de la excepción personalizada\n",
    "class NegativeNumberError(Exception):\n",
    "    def __init__(self, mensaje=\"No se puede calcular la raíz cuadrada de un número negativo.\"):\n",
    "        self.mensaje = mensaje\n",
    "        super().__init__(self.mensaje)\n",
    "\n",
    "def calcular_raiz_cuadrada():\n",
    "    try:\n",
    "        numero = float(input(\"Ingrese un número positivo: \"))\n",
    "        if numero < 0:\n",
    "            raise NegativeNumberError()  # Disparar la excepción personalizada\n",
    "        \n",
    "        resultado = math.sqrt(numero)\n",
    "        print(f\"La raíz cuadrada de {numero} es: {resultado}\")\n",
    "    except NegativeNumberError as e:\n",
    "        print(f\"Error personalizado: {e}\")\n",
    "    except ValueError:\n",
    "        print(\"Error: Entrada inválida. Por favor, ingrese un número.\")\n",
    "\n",
    "# Ejemplo de uso\n",
    "calcular_raiz_cuadrada()\n",
    "calcular_raiz_cuadrada()"
   ]
  },
  {
   "cell_type": "markdown",
   "id": "8a65bc90",
   "metadata": {},
   "source": [
    "## Desafío 71: Manejo de archivos con finally\n",
    "El bloque finally es esencial para garantizar que ciertas operaciones de limpieza se ejecuten siempre, sin importar si ocurre una excepción o no. En este desafío, lo usamos para asegurar que un archivo se cierre correctamente, incluso si ocurre un error como un FileNotFoundError."
   ]
  },
  {
   "cell_type": "code",
   "execution_count": 7,
   "id": "c92753bd",
   "metadata": {},
   "outputs": [
    {
     "name": "stdout",
     "output_type": "stream",
     "text": [
      "Intentando abrir el archivo 'archivo_que_no_existe.txt'...\n",
      "Error: El archivo 'archivo_que_no_existe.txt' no fue encontrado.\n"
     ]
    }
   ],
   "source": [
    "def leer_archivo_seguro(nombre_archivo):\n",
    "    archivo = None\n",
    "    try:\n",
    "        # Intenta abrir el archivo\n",
    "        print(f\"Intentando abrir el archivo '{nombre_archivo}'...\")\n",
    "        archivo = open(nombre_archivo, \"r\")\n",
    "        contenido = archivo.read()\n",
    "        print(\"--- Contenido del archivo ---\")\n",
    "        print(contenido)\n",
    "    except FileNotFoundError:\n",
    "        print(f\"Error: El archivo '{nombre_archivo}' no fue encontrado.\")\n",
    "    except Exception as e:\n",
    "        # Captura cualquier otro error\n",
    "        print(f\"Ocurrió un error inesperado: {e}\")\n",
    "    finally:\n",
    "        # Este bloque se ejecuta siempre\n",
    "        if archivo:\n",
    "            archivo.close()\n",
    "            print(\"El archivo ha sido cerrado exitosamente.\")\n",
    "\n",
    "# Ejemplos de uso\n",
    "# Para este ejemplo, crea un archivo llamado 'mi_archivo.txt' con un poco de texto.\n",
    "# leer_archivo_seguro(\"mi_archivo.txt\")\n",
    "leer_archivo_seguro(\"archivo_que_no_existe.txt\")"
   ]
  }
 ],
 "metadata": {
  "kernelspec": {
   "display_name": "Python 3",
   "language": "python",
   "name": "python3"
  },
  "language_info": {
   "codemirror_mode": {
    "name": "ipython",
    "version": 3
   },
   "file_extension": ".py",
   "mimetype": "text/x-python",
   "name": "python",
   "nbconvert_exporter": "python",
   "pygments_lexer": "ipython3",
   "version": "3.11.9"
  }
 },
 "nbformat": 4,
 "nbformat_minor": 5
}
