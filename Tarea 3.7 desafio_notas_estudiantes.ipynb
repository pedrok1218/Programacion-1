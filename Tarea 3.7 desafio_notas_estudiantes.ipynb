{
 "cells": [
  {
   "cell_type": "markdown",
   "id": "91caf582",
   "metadata": {},
   "source": [
    "# Desafío 4: Control de notas de estudiantes"
   ]
  },
  {
   "cell_type": "code",
   "execution_count": null,
   "id": "cf706b6e",
   "metadata": {},
   "outputs": [],
   "source": [
    "notas = [4, 7, 9, 1, 11, 3]"
   ]
  },
  {
   "cell_type": "markdown",
   "id": "6c459faf",
   "metadata": {},
   "source": [
    "**Pregunta 1: Calcula el promedio de las notas de la clase.**"
   ]
  },
  {
   "cell_type": "code",
   "execution_count": null,
   "id": "d44732a6",
   "metadata": {},
   "outputs": [],
   "source": [
    "promedio = sum(notas) / len(notas)\n",
    "print('Pregunta 1: Promedio de la clase =', promedio)"
   ]
  },
  {
   "cell_type": "markdown",
   "id": "7d634a06",
   "metadata": {},
   "source": [
    "**Pregunta 2: Encuentra la nota más baja y la más alta.**"
   ]
  },
  {
   "cell_type": "code",
   "execution_count": null,
   "id": "37b87481",
   "metadata": {},
   "outputs": [],
   "source": [
    "nota_minima = min(notas)\n",
    "nota_maxima = max(notas)\n",
    "print('Pregunta 2: Nota más baja =', nota_minima)\n",
    "print('Pregunta 2: Nota más alta =', nota_maxima)"
   ]
  }
 ],
 "metadata": {
  "kernelspec": {
   "display_name": "Python 3",
   "name": "python3"
  }
 },
 "nbformat": 4,
 "nbformat_minor": 5
}