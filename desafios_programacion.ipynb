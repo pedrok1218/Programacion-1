{
  "cells": [
    {
      "cell_type": "markdown",
      "metadata": {
        "id": "view-in-github",
        "colab_type": "text"
      },
      "source": [
        "<a href=\"https://colab.research.google.com/github/pedrok1218/Programacion-1/blob/main/desafios_programacion.ipynb\" target=\"_parent\"><img src=\"https://colab.research.google.com/assets/colab-badge.svg\" alt=\"Open In Colab\"/></a>"
      ]
    },
    {
      "cell_type": "markdown",
      "id": "8f4e27e2",
      "metadata": {
        "id": "8f4e27e2"
      },
      "source": [
        "### **Desafío 3: Convertidor de temperaturas**\n",
        "\n",
        "#### **¿Qué pide el enunciado?**\n",
        "El objetivo de este desafío es convertir una temperatura dada en grados Celsius a Fahrenheit y Kelvin, además de verificar si la temperatura es válida (es decir, no menor que el cero absoluto en Kelvin).\n",
        "Para empezar defini la variable celsius = 30.0 con un valor fijo de 30 grados, luego agregue una validacion opcional para a segurarme que la temperatura no sea cero absoluto esta validacion se realizo mediante la condicion (`if`).\n",
        "luego utilize las formulas correspondientes para pasar la tempretura de celsius a fahrenheit y kelvin y por ultimo se imprime los resultados de las conversiones usando la funcion (`print`)\n",
        "\n",
        "#### **¿Qué tipo de datos y operadores utilizaste?**\n",
        "Yo utilize un número decimal (`float`). Los operadores que use fueron suma (`+`) y multiplicación (`*`). Tambien utilize cadenas de texto (`str`) y (`bool`) valor booleano (`El resultado de la comparación celsius < -273.15 es un booleano (True o False`).\n",
        "\n",
        "#### **¿Qué validaciones implementaste o podrías haber hecho?**\n",
        "Implemente que la entrada no esté por debajo del cero absoluto (-273.15 °C), ya que no tendría sentido."
      ]
    },
    {
      "cell_type": "code",
      "execution_count": 11,
      "id": "9cbb61d8",
      "metadata": {
        "colab": {
          "base_uri": "https://localhost:8080/"
        },
        "id": "9cbb61d8",
        "outputId": "3a350646-0a84-4242-af16-0e4580f99e2e"
      },
      "outputs": [
        {
          "output_type": "stream",
          "name": "stdout",
          "text": [
            "30.0 °C equivalen a 86.0 °F\n",
            "30.0 °C equivalen a 303.15 °K\n"
          ]
        }
      ],
      "source": [
        "# Desafío 3: Convertidor de temperaturas\n",
        "\n",
        "# Temperatura fija\n",
        "celsius = 30.0\n",
        "\n",
        "# Validación opcional\n",
        "if celsius < -273.15:\n",
        "    print(\"Error: la temperatura no puede ser menor al cero absoluto.\")\n",
        "else:\n",
        "    # Conversiones\n",
        "    fahrenheit = (celsius * 9/5) + 32\n",
        "    kelvin = celsius + 273.15\n",
        "\n",
        "    # Salida\n",
        "    print(f\"{celsius} °C equivalen a {fahrenheit} °F\")\n",
        "    print(f\"{celsius} °C equivalen a {kelvin} °K\")"
      ]
    },
    {
      "cell_type": "markdown",
      "id": "72b8acd9",
      "metadata": {
        "id": "72b8acd9"
      },
      "source": [
        "### **Desafío 4: Verificar múltiplos de varios números**\n",
        "\n",
        "#### **¿Qué pide el enunciado?**\n",
        "El objetivo de este desafío es verificar si un número dado es múltiplo de varios divisores. El número se verifica contra una lista de divisores y se muestra si es múltiplo o no de cada uno.\n",
        "Primero defini la variable numero = 60 con un valor fijo, que será el número que se verificará si es múltiplo de los divisores.\n",
        "Luego cree una lista divisores = [2, 3, 5, 7, 9, 10, 11] que los utilize para comprobar si el número 60 es múltiplo de alguno de ellos. Despuies utilize un bucle (`for`) para recorrer la lista de los divisores y dentro del bulce aplique el modulo (`%`) para calcular la divison entre numero y divisores si el numero es multiplo del divisor se imprime un mensaje y en caso contrario tambien.\n",
        "\n",
        "#### **¿Qué tipo de datos y operadores utilizaste?**\n",
        "El tipo de dato es entero (`int`), use lista (`list`) para los divisores,use (`str`) cadenas de texto ejemplo (f\"{numero} es múltiplo de {divisor}\") y (`bool`) ejemplo numero % divisor == 0\n",
        "\n",
        " y use el operador módulo (`%`) para verificar si el resto de la división es 0.\n",
        "\n",
        "#### **¿Qué validaciones implementaste o podrías haber hecho?**\n",
        "Podría decir que el número ingresado sea entero y mayor que cero (si se desea trabajar solo con naturales)."
      ]
    },
    {
      "cell_type": "code",
      "execution_count": 12,
      "id": "ee5fb8b5",
      "metadata": {
        "colab": {
          "base_uri": "https://localhost:8080/"
        },
        "id": "ee5fb8b5",
        "outputId": "c84a19b9-ef5d-49bd-d9ea-aa325978a22d"
      },
      "outputs": [
        {
          "output_type": "stream",
          "name": "stdout",
          "text": [
            "60 es múltiplo de 2\n",
            "60 es múltiplo de 3\n",
            "60 es múltiplo de 5\n",
            "60 no es múltiplo de 7\n",
            "60 no es múltiplo de 9\n",
            "60 es múltiplo de 10\n",
            "60 no es múltiplo de 11\n"
          ]
        }
      ],
      "source": [
        "# Desafío 4: Verificar múltiplos\n",
        "\n",
        "# Número fijo\n",
        "numero = 60\n",
        "\n",
        "# Lista de divisores a verificar\n",
        "divisores = [2, 3, 5, 7, 9, 10, 11]\n",
        "\n",
        "\n",
        "# Número fijo\n",
        "numero = 60\n",
        "\n",
        "\n",
        "# Verificaciones\n",
        "for divisor in divisores:\n",
        "    if numero % divisor == 0:\n",
        "        print(f\"{numero} es múltiplo de {divisor}\")\n",
        "    else:\n",
        "        print(f\"{numero} no es múltiplo de {divisor}\")"
      ]
    },
    {
      "cell_type": "markdown",
      "source": [
        "#### **webgrafía utilizada:**\n",
        "https://www.youtube.com/watch?v=FN5cWO1gBYc\n",
        "\n",
        "www.codigopiton.com/convertir-celsius-fahrenheit-kelvin-en-python/#:~:text=Para%20convertir%20de%20grados%20Fahrenheit,temperatura_f%20-%2032)%20%2F%201.8%20.\n",
        "\n",
        "https://micro.recursospython.com/recursos/como-determinar-si-un-numero-es-multiplo-de-otro.html\n",
        "\n",
        "  https://support.zendesk.com/hc/es/articles/4408846544922-Uso-de-Markdown-para-el-formato-de-texto\n",
        "\n",
        "  tambien utilice el material aportado en el curso 2_4_Tipos_de_datos_y_operadores.ipynb"
      ],
      "metadata": {
        "id": "CLuAJMG99jLG"
      },
      "id": "CLuAJMG99jLG"
    }
  ],
  "metadata": {
    "colab": {
      "provenance": [],
      "include_colab_link": true
    },
    "language_info": {
      "name": "python"
    },
    "kernelspec": {
      "name": "python3",
      "display_name": "Python 3"
    }
  },
  "nbformat": 4,
  "nbformat_minor": 5
}