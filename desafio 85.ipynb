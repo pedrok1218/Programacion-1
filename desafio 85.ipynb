{
 "cells": [
  {
   "cell_type": "markdown",
   "id": "268175ea",
   "metadata": {},
   "source": [
    "Problemática: Dado un conjunto de estudiantes y sus promedios, crea un Árbol Binario de Búsqueda (BST) basado en los promedios e implementa un recorrido en inorden para mostrarlos en orden ascendente"
   ]
  },
  {
   "cell_type": "code",
   "execution_count": 1,
   "id": "0eaf1649",
   "metadata": {},
   "outputs": [
    {
     "name": "stdout",
     "output_type": "stream",
     "text": [
      "\n",
      "------------------------------\n",
      "Clasificación por Rendimiento (Recorrido Inorden Ascendente):\n",
      "Nombre: Diana, Promedio: 6.8\n",
      "Nombre: Carlos, Promedio: 7.2\n",
      "Nombre: Ana, Promedio: 8.5\n",
      "Nombre: Beto, Promedio: 9.1\n",
      "Nombre: Elsa, Promedio: 9.5\n"
     ]
    }
   ],
   "source": [
    "# Lista de estudiantes y sus promedios\n",
    "estudiantes_rendimiento = [\n",
    "    {\"nombre\": \"Ana\", \"promedio\": 8.5},\n",
    "    {\"nombre\": \"Carlos\", \"promedio\": 7.2},\n",
    "    {\"nombre\": \"Beto\", \"promedio\": 9.1},\n",
    "    {\"nombre\": \"Diana\", \"promedio\": 6.8},\n",
    "    {\"nombre\": \"Elsa\", \"promedio\": 9.5}\n",
    "]\n",
    "\n",
    "# 1. Definición de la estructura del Nodo para el BST\n",
    "class NodoBST:\n",
    "    def __init__(self, estudiante):\n",
    "        self.estudiante = estudiante\n",
    "        self.izquierda = None\n",
    "        self.derecha = None\n",
    "\n",
    "# 2. Función para construir el BST\n",
    "def insertar(raiz, estudiante):\n",
    "    \"\"\"Inserta un estudiante en el BST basado en su promedio.\"\"\"\n",
    "    \n",
    "    if raiz is None:\n",
    "        return NodoBST(estudiante)\n",
    "\n",
    "    # Criterio de ordenamiento: el promedio\n",
    "    if estudiante[\"promedio\"] < raiz.estudiante[\"promedio\"]:\n",
    "        raiz.izquierda = insertar(raiz.izquierda, estudiante)\n",
    "    elif estudiante[\"promedio\"] > raiz.estudiante[\"promedio\"]:\n",
    "        raiz.derecha = insertar(raiz.derecha, estudiante)\n",
    "    \n",
    "    return raiz\n",
    "\n",
    "# 3. Función para realizar el recorrido en Inorden\n",
    "def recorrido_inorden(raiz):\n",
    "    \"\"\"\n",
    "    Realiza un recorrido en inorden (Izquierda -> Raíz -> Derecha).\n",
    "    En un BST, esto produce un orden ascendente de promedios.\n",
    "    \"\"\"\n",
    "    if raiz:\n",
    "        # 1. Recorrer la izquierda (los menores promedios)\n",
    "        recorrido_inorden(raiz.izquierda)\n",
    "        \n",
    "        # 2. Visitar la Raíz (el promedio intermedio)\n",
    "        print(f\"Nombre: {raiz.estudiante['nombre']}, Promedio: {raiz.estudiante['promedio']}\")\n",
    "        \n",
    "        # 3. Recorrer la derecha (los mayores promedios)\n",
    "        recorrido_inorden(raiz.derecha)\n",
    "\n",
    "# --- Proceso de Ejecución ---\n",
    "raiz_academica = None\n",
    "for estudiante in estudiantes_rendimiento:\n",
    "    raiz_academica = insertar(raiz_academica, estudiante)\n",
    "\n",
    "print(\"\\n\" + \"-\"*30)\n",
    "print(\"Clasificación por Rendimiento (Recorrido Inorden Ascendente):\")\n",
    "recorrido_inorden(raiz_academica)"
   ]
  }
 ],
 "metadata": {
  "kernelspec": {
   "display_name": "Python 3",
   "language": "python",
   "name": "python3"
  },
  "language_info": {
   "codemirror_mode": {
    "name": "ipython",
    "version": 3
   },
   "file_extension": ".py",
   "mimetype": "text/x-python",
   "name": "python",
   "nbconvert_exporter": "python",
   "pygments_lexer": "ipython3",
   "version": "3.11.9"
  }
 },
 "nbformat": 4,
 "nbformat_minor": 5
}
