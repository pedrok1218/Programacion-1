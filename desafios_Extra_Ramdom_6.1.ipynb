{
 "cells": [
  {
   "cell_type": "markdown",
   "id": "c5d1df55",
   "metadata": {},
   "source": [
    "**Desafío 91: Generación de Números de Punto Flotante**\n",
    "\n",
    "Problemática: Generar temperaturas aleatorias de punto flotante en el rango de -10.0 a 40.0 grados Celsius para simular variaciones climáticas, utilizando el método random.uniform(a, b)."
   ]
  },
  {
   "cell_type": "code",
   "execution_count": 1,
   "id": "e8fa7e14",
   "metadata": {},
   "outputs": [
    {
     "name": "stdout",
     "output_type": "stream",
     "text": [
      "--- Simulación de Variaciones Climáticas (15 temperaturas) ---\n",
      "Rango: [-10.0°C, 40.0°C]\n",
      "[23.86, 17.39, 18.1, 30.35, 30.11, 28.38, 20.88, 31.34, 21.09, 17.48, 11.86, 36.79, 38.39, 27.09, 7.47]\n"
     ]
    }
   ],
   "source": [
    "import random\n",
    "\n",
    "def generar_temperaturas_simulacion(cantidad, min_temp, max_temp):\n",
    "    \"\"\"\n",
    "    Genera una lista de temperaturas aleatorias de punto flotante \n",
    "    en un rango especificado usando random.uniform().\n",
    "    \"\"\"\n",
    "    temperaturas = []\n",
    "    for _ in range(cantidad):\n",
    "        # Utiliza uniform(a, b) para generar un float en [a, b]\n",
    "        temp = random.uniform(min_temp, max_temp)\n",
    "        # Redondeamos a 2 decimales para una mejor presentación\n",
    "        temperaturas.append(round(temp, 2))\n",
    "    return temperaturas\n",
    "\n",
    "# --- Parámetros de la simulación ---\n",
    "TEMP_MIN = -10.0\n",
    "TEMP_MAX = 40.0\n",
    "CANTIDAD_TEMPERATURAS = 15\n",
    "\n",
    "# Ejecución\n",
    "datos_climaticos = generar_temperaturas_simulacion(CANTIDAD_TEMPERATURAS, TEMP_MIN, TEMP_MAX)\n",
    "\n",
    "print(\"--- Simulación de Variaciones Climáticas (15 temperaturas) ---\")\n",
    "print(f\"Rango: [{TEMP_MIN}°C, {TEMP_MAX}°C]\")\n",
    "print(datos_climaticos)"
   ]
  },
  {
   "cell_type": "markdown",
   "id": "ff656fba",
   "metadata": {},
   "source": [
    "**Desafío 92: Selección de Múltiples Elementos Únicos**\n",
    "\n",
    "Problemática: Simular un sorteo seleccionando un número determinado de ganadores de un grupo grande de participantes, asegurando que los ganadores sean únicos y aleatorios, utilizando el método random.sample(population, k)."
   ]
  },
  {
   "cell_type": "code",
   "execution_count": 2,
   "id": "65b54459",
   "metadata": {},
   "outputs": [
    {
     "name": "stdout",
     "output_type": "stream",
     "text": [
      "\n",
      "--- Sorteo de Ganadores Únicos ---\n",
      "Total de Participantes: 50\n",
      "Número de Ganadores a seleccionar: 5\n",
      "Lista de IDs de Ganadores Únicos: ['ID_10', 'ID_46', 'ID_15', 'ID_42', 'ID_38']\n"
     ]
    }
   ],
   "source": [
    "import random\n",
    "\n",
    "# Población de participantes (simulando 50 IDs)\n",
    "participantes = [f\"ID_{i+1:02}\" for i in range(50)]\n",
    "NUMERO_GANADORES = 5 # Número de elementos únicos a seleccionar\n",
    "\n",
    "def seleccionar_ganadores_unicos(poblacion, k):\n",
    "    \"\"\"\n",
    "    Selecciona 'k' elementos únicos de la población usando random.sample().\n",
    "    \"\"\"\n",
    "    # Utiliza sample(population, k) para seleccionar una muestra sin reemplazo\n",
    "    ganadores = random.sample(poblacion, k)\n",
    "    return ganadores\n",
    "\n",
    "# Ejecución\n",
    "ganadores_sorteo = seleccionar_ganadores_unicos(participantes, NUMERO_GANADORES)\n",
    "\n",
    "print(\"\\n--- Sorteo de Ganadores Únicos ---\")\n",
    "print(f\"Total de Participantes: {len(participantes)}\")\n",
    "print(f\"Número de Ganadores a seleccionar: {NUMERO_GANADORES}\")\n",
    "print(f\"Lista de IDs de Ganadores Únicos: {ganadores_sorteo}\")"
   ]
  },
  {
   "cell_type": "markdown",
   "id": "588627dc",
   "metadata": {},
   "source": [
    "**Desafío Extra: Simulación de Lanzamiento de Dados**\n",
    "\n",
    "Problemática: Crear un juego de mesa virtual y simular el lanzamiento de dos dados, utilizando el método random.choices(population, weights=k, k=n). La selección debe ser uniforme para simular un lanzamiento justo."
   ]
  },
  {
   "cell_type": "code",
   "execution_count": 3,
   "id": "7b727387",
   "metadata": {},
   "outputs": [
    {
     "name": "stdout",
     "output_type": "stream",
     "text": [
      "\n",
      "--- Simulación de Lanzamiento de Dos Dados ---\n",
      "Resultados individuales del lanzamiento: [3, 2]\n",
      "Suma total obtenida: 5\n"
     ]
    }
   ],
   "source": [
    "import random\n",
    "\n",
    "# La población es el conjunto de resultados posibles de un dado (1 a 6)\n",
    "CARAS_DADO = [1, 2, 3, 4, 5, 6]\n",
    "NUMERO_DE_DADOS = 2\n",
    "\n",
    "def simular_lanzamiento_dados(poblacion, num_dados):\n",
    "    \"\"\"\n",
    "    Simula el lanzamiento de 'num_dados' dados usando random.choices().\n",
    "    Dado que no se especifican 'weights', la selección es uniforme (justa).\n",
    "    \"\"\"\n",
    "    # Utiliza choices(population, k=n) para seleccionar 'n' elementos \n",
    "    # con reemplazo (es decir, el mismo resultado puede salir dos veces)\n",
    "    resultados = random.choices(poblacion, k=num_dados)\n",
    "    return resultados\n",
    "\n",
    "# Ejecución\n",
    "lanzamiento = simular_lanzamiento_dados(CARAS_DADO, NUMERO_DE_DADOS)\n",
    "suma_total = sum(lanzamiento)\n",
    "\n",
    "print(\"\\n--- Simulación de Lanzamiento de Dos Dados ---\")\n",
    "print(f\"Resultados individuales del lanzamiento: {lanzamiento}\")\n",
    "print(f\"Suma total obtenida: {suma_total}\")"
   ]
  }
 ],
 "metadata": {
  "kernelspec": {
   "display_name": "Python 3",
   "language": "python",
   "name": "python3"
  },
  "language_info": {
   "codemirror_mode": {
    "name": "ipython",
    "version": 3
   },
   "file_extension": ".py",
   "mimetype": "text/x-python",
   "name": "python",
   "nbconvert_exporter": "python",
   "pygments_lexer": "ipython3",
   "version": "3.11.9"
  }
 },
 "nbformat": 4,
 "nbformat_minor": 5
}
