{
 "cells": [
  {
   "cell_type": "markdown",
   "id": "238e4851",
   "metadata": {},
   "source": [
    "## Clase Nodo y sus métodos\n",
    "Para construir un árbol, primero necesitamos una clase que represente cada uno de los nodos. Cada nodo contendrá un valor (val) y referencias a sus hijos izquierdo (izq) y derecho (der)."
   ]
  },
  {
   "cell_type": "code",
   "execution_count": 1,
   "id": "9ee5ff1b",
   "metadata": {},
   "outputs": [],
   "source": [
    "class Nodo:\n",
    "    \"\"\"\n",
    "    Clase que representa un nodo en un árbol binario.\n",
    "    \"\"\"\n",
    "    def __init__(self, key):\n",
    "        self.izq = None\n",
    "        self.der = None\n",
    "        self.val = key"
   ]
  },
  {
   "cell_type": "markdown",
   "id": "438bc5cd",
   "metadata": {},
   "source": [
    "# Funciones auxiliares para construir y evaluar el árbol\n",
    "\n",
    "La construcción del árbol es la parte más compleja, ya que requiere seguir las reglas de precedencia. La estrategia es utilizar dos pilas: una para los valores (números) y otra para los operadores.\n",
    "\n",
    "Iterar a través de la expresión.\n",
    "\n",
    "Si el elemento es un número, se añade a la pila de valores.\n",
    "\n",
    "Si es un operador, se compara con los operadores en la pila. Si el operador actual tiene menor o igual precedencia, se sacan los operadores de la pila, se crean nodos y se agregan a la pila de valores. Después, el operador actual se agrega a la pila de operadores.\n",
    "\n",
    "Después de recorrer toda la expresión, se construyen los nodos restantes.\n",
    "\n",
    "La evaluación se realiza con una función recursiva simple. Si el nodo es un número, se devuelve su valor. Si es un operador, se llama a la función recursivamente en sus hijos, se realiza la operación y se devuelve el resultado.\n"
   ]
  },
  {
   "cell_type": "code",
   "execution_count": 2,
   "id": "dbe060fd",
   "metadata": {},
   "outputs": [
    {
     "name": "stdout",
     "output_type": "stream",
     "text": [
      "El resultado de la expresión '5 + 3 * 4' es: 17\n"
     ]
    }
   ],
   "source": [
    "class Nodo:\n",
    "    def __init__(self, key):\n",
    "        self.izq = None\n",
    "        self.der = None\n",
    "        self.val = key\n",
    "\n",
    "def precedencia(op):\n",
    "    \"\"\"Retorna el nivel de precedencia del operador.\"\"\"\n",
    "    if op == '+' or op == '-':\n",
    "        return 1\n",
    "    if op == '*' or op == '/':\n",
    "        return 2\n",
    "    return 0\n",
    "\n",
    "def construir_arbol_expresiones(expresion):\n",
    "    \"\"\"\n",
    "    Construye un árbol de expresiones a partir de una expresión matemática.\n",
    "    \n",
    "    Args:\n",
    "        expresion (str): La expresión matemática en formato de cadena.\n",
    "    \n",
    "    Returns:\n",
    "        Nodo: El nodo raíz del árbol de expresiones.\n",
    "    \"\"\"\n",
    "    valores = []\n",
    "    operadores = []\n",
    "    \n",
    "    # Divide la expresión en tokens (números y operadores)\n",
    "    tokens = expresion.replace(' ', '')\n",
    "    \n",
    "    i = 0\n",
    "    while i < len(tokens):\n",
    "        if tokens[i].isdigit():\n",
    "            num = \"\"\n",
    "            while i < len(tokens) and tokens[i].isdigit():\n",
    "                num += tokens[i]\n",
    "                i += 1\n",
    "            valores.append(Nodo(int(num)))\n",
    "            i -= 1\n",
    "        elif tokens[i] in \"+-*/\":\n",
    "            while (operadores and \n",
    "                   precedencia(operadores[-1]) >= precedencia(tokens[i])):\n",
    "                op_nodo = Nodo(operadores.pop())\n",
    "                op_nodo.der = valores.pop()\n",
    "                op_nodo.izq = valores.pop()\n",
    "                valores.append(op_nodo)\n",
    "            operadores.append(tokens[i])\n",
    "        i += 1\n",
    "    \n",
    "    while operadores:\n",
    "        op_nodo = Nodo(operadores.pop())\n",
    "        op_nodo.der = valores.pop()\n",
    "        op_nodo.izq = valores.pop()\n",
    "        valores.append(op_nodo)\n",
    "        \n",
    "    return valores[0]\n",
    "\n",
    "def evaluar_arbol(nodo):\n",
    "    \"\"\"\n",
    "    Evalúa el árbol de expresiones de forma recursiva.\n",
    "    \n",
    "    Args:\n",
    "        nodo (Nodo): El nodo actual a evaluar.\n",
    "        \n",
    "    Returns:\n",
    "        int: El resultado de la expresión evaluada.\n",
    "    \"\"\"\n",
    "    if not nodo.izq and not nodo.der:\n",
    "        return nodo.val\n",
    "    \n",
    "    izq_val = evaluar_arbol(nodo.izq)\n",
    "    der_val = evaluar_arbol(nodo.der)\n",
    "    \n",
    "    if nodo.val == '+':\n",
    "        return izq_val + der_val\n",
    "    elif nodo.val == '-':\n",
    "        return izq_val - der_val\n",
    "    elif nodo.val == '*':\n",
    "        return izq_val * der_val\n",
    "    elif nodo.val == '/':\n",
    "        return izq_val / der_val\n",
    "\n",
    "# Expresión de prueba\n",
    "expresion_ejemplo = \"5 + 3 * 4\"\n",
    "\n",
    "# Construye el árbol de expresiones\n",
    "raiz_arbol = construir_arbol_expresiones(expresion_ejemplo)\n",
    "\n",
    "# Evalúa el árbol\n",
    "resultado = evaluar_arbol(raiz_arbol)\n",
    "print(f\"El resultado de la expresión '{expresion_ejemplo}' es: {resultado}\")"
   ]
  }
 ],
 "metadata": {
  "kernelspec": {
   "display_name": "Python 3",
   "language": "python",
   "name": "python3"
  },
  "language_info": {
   "codemirror_mode": {
    "name": "ipython",
    "version": 3
   },
   "file_extension": ".py",
   "mimetype": "text/x-python",
   "name": "python",
   "nbconvert_exporter": "python",
   "pygments_lexer": "ipython3",
   "version": "3.11.9"
  }
 },
 "nbformat": 4,
 "nbformat_minor": 5
}
