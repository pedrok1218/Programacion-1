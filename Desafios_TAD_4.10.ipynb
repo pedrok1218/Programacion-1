{
 "cells": [
  {
   "cell_type": "markdown",
   "id": "0d3ca9b5",
   "metadata": {},
   "source": [
    "## Desafío 1: Sistemas con Múltiples Entidades Interconectadas\n",
    "\n",
    "El problema de un sistema de biblioteca es la interconexión entre entidades como Libro, Usuario y Préstamo. Usar TADs separados para cada uno haría que la gestión de las relaciones sea compleja y propensa a errores.\n",
    "\n",
    "La solución ideal es usar clases. Cada clase (Libro, Usuario, Biblioteca) encapsula sus propios datos y las operaciones que se pueden realizar sobre ellos. La clase Biblioteca actúa como un orquestador, gestionando las interacciones entre los objetos Libro y Usuario. Esto asegura que los datos sean coherentes y que las operaciones se realicen de manera segura."
   ]
  },
  {
   "cell_type": "code",
   "execution_count": 1,
   "id": "3cc56f1f",
   "metadata": {},
   "outputs": [
    {
     "name": "stdout",
     "output_type": "stream",
     "text": [
      "Préstamo exitoso: El Quijote a Ana García\n"
     ]
    }
   ],
   "source": [
    "class Libro:\n",
    "    def __init__(self, titulo, autor, isbn):\n",
    "        self.titulo = titulo\n",
    "        self.autor = autor\n",
    "        self.isbn = isbn\n",
    "        self.disponible = True\n",
    "\n",
    "class Usuario:\n",
    "    def __init__(self, nombre, id_usuario):\n",
    "        self.nombre = nombre\n",
    "        self.id_usuario = id_usuario\n",
    "        self.libros_prestados = []\n",
    "\n",
    "class Biblioteca:\n",
    "    def __init__(self):\n",
    "        self.catalogo_libros = {}\n",
    "        self.usuarios = {}\n",
    "\n",
    "    def agregar_libro(self, libro):\n",
    "        self.catalogo_libros[libro.isbn] = libro\n",
    "\n",
    "    def registrar_usuario(self, usuario):\n",
    "        self.usuarios[usuario.id_usuario] = usuario\n",
    "\n",
    "    def prestar_libro(self, id_usuario, isbn_libro):\n",
    "        if id_usuario in self.usuarios and isbn_libro in self.catalogo_libros:\n",
    "            libro = self.catalogo_libros[isbn_libro]\n",
    "            usuario = self.usuarios[id_usuario]\n",
    "            if libro.disponible:\n",
    "                libro.disponible = False\n",
    "                usuario.libros_prestados.append(libro)\n",
    "                print(f\"Préstamo exitoso: {libro.titulo} a {usuario.nombre}\")\n",
    "            else:\n",
    "                print(\"El libro no está disponible.\")\n",
    "        else:\n",
    "            print(\"Usuario o libro no encontrado.\")\n",
    "\n",
    "# Ejemplo de uso\n",
    "mi_biblioteca = Biblioteca()\n",
    "libro1 = Libro(\"El Quijote\", \"Miguel de Cervantes\", \"978-3-16-148410-0\")\n",
    "usuario1 = Usuario(\"Ana García\", \"AG123\")\n",
    "\n",
    "mi_biblioteca.agregar_libro(libro1)\n",
    "mi_biblioteca.registrar_usuario(usuario1)\n",
    "mi_biblioteca.prestar_libro(\"AG123\", \"978-3-16-148410-0\")"
   ]
  },
  {
   "cell_type": "markdown",
   "id": "3da79727",
   "metadata": {},
   "source": [
    "## Desafío 2: Cambio Frecuente en Requisitos\n",
    "\n",
    "En un videojuego, los requerimientos cambian constantemente, por lo que la adición de nuevos personajes, habilidades y objetos es común. Si usas funciones separadas para cada personaje, el código se volvería inmanejable y difícil de actualizar.\n",
    "\n",
    "La solución es utilizar herencia y polimorfismo de la POO. Al crear una clase base Personaje, puedes definir las características y métodos comunes. Luego, puedes crear clases hijas (Guerrero, Mago) que hereden de la clase base y añadan sus propias funcionalidades específicas. Esto hace que el código sea modular, extensible y fácil de mantener.\n",
    "\n",
    "\n"
   ]
  },
  {
   "cell_type": "code",
   "execution_count": 2,
   "id": "19d50614",
   "metadata": {},
   "outputs": [
    {
     "name": "stdout",
     "output_type": "stream",
     "text": [
      "Merlín ataca a Arturo y causa 20 de daño.\n",
      "Merlín lanza un hechizo a Arturo.\n",
      "Arturo levanta su escudo.\n"
     ]
    }
   ],
   "source": [
    "class Personaje:\n",
    "    def __init__(self, nombre, vida, ataque):\n",
    "        self.nombre = nombre\n",
    "        self.vida = vida\n",
    "        self.ataque = ataque\n",
    "\n",
    "    def atacar(self, objetivo):\n",
    "        objetivo.vida -= self.ataque\n",
    "        print(f\"{self.nombre} ataca a {objetivo.nombre} y causa {self.ataque} de daño.\")\n",
    "\n",
    "class Guerrero(Personaje):\n",
    "    def __init__(self, nombre, vida, ataque, defensa):\n",
    "        super().__init__(nombre, vida, ataque)\n",
    "        self.defensa = defensa\n",
    "\n",
    "    def usar_escudo(self):\n",
    "        print(f\"{self.nombre} levanta su escudo.\")\n",
    "\n",
    "class Mago(Personaje):\n",
    "    def __init__(self, nombre, vida, ataque, mana):\n",
    "        super().__init__(nombre, vida, ataque)\n",
    "        self.mana = mana\n",
    "\n",
    "    def lanzar_hechizo(self, objetivo):\n",
    "        if self.mana >= 10:\n",
    "            objetivo.vida -= self.ataque * 1.5\n",
    "            self.mana -= 10\n",
    "            print(f\"{self.nombre} lanza un hechizo a {objetivo.nombre}.\")\n",
    "        else:\n",
    "            print(f\"{self.nombre} no tiene suficiente maná.\")\n",
    "\n",
    "# Ejemplo de uso\n",
    "mago = Mago(\"Merlín\", 100, 20, 50)\n",
    "guerrero = Guerrero(\"Arturo\", 150, 15, 10)\n",
    "\n",
    "mago.atacar(guerrero)\n",
    "mago.lanzar_hechizo(guerrero)\n",
    "guerrero.usar_escudo()"
   ]
  },
  {
   "cell_type": "markdown",
   "id": "7d8c9c82",
   "metadata": {},
   "source": [
    "## Desafío 3: Estructuras de Datos Anidadas\n",
    "\n",
    "Gestionar un sistema de inventario para una cadena de tiendas implica manejar datos de productos, tiendas y transacciones. Si usas TADs simples, las estructuras de datos anidadas podrían volverse ineficientes y difíciles de manejar.\n",
    "\n",
    "La solución es modelar la realidad usando objetos anidados. Por ejemplo, una clase Tienda puede contener una lista o un diccionario de objetos Producto. De esta manera, cada objeto Producto gestiona sus propios datos (nombre, precio, etc.) y la clase Tienda se encarga de las operaciones a nivel de tienda."
   ]
  },
  {
   "cell_type": "code",
   "execution_count": 3,
   "id": "7eedbebc",
   "metadata": {},
   "outputs": [
    {
     "name": "stdout",
     "output_type": "stream",
     "text": [
      "Venta exitosa de 5 unidades de Leche.\n",
      "Producto no disponible o stock insuficiente.\n"
     ]
    }
   ],
   "source": [
    "class Producto:\n",
    "    def __init__(self, nombre, sku, precio, stock):\n",
    "        self.nombre = nombre\n",
    "        self.sku = sku\n",
    "        self.precio = precio\n",
    "        self.stock = stock\n",
    "\n",
    "class Tienda:\n",
    "    def __init__(self, nombre, ciudad):\n",
    "        self.nombre = nombre\n",
    "        self.ciudad = ciudad\n",
    "        self.inventario = {} # Un diccionario para un acceso rápido por SKU\n",
    "\n",
    "    def agregar_producto(self, producto):\n",
    "        self.inventario[producto.sku] = producto\n",
    "\n",
    "    def vender_producto(self, sku, cantidad):\n",
    "        if sku in self.inventario and self.inventario[sku].stock >= cantidad:\n",
    "            self.inventario[sku].stock -= cantidad\n",
    "            print(f\"Venta exitosa de {cantidad} unidades de {self.inventario[sku].nombre}.\")\n",
    "        else:\n",
    "            print(\"Producto no disponible o stock insuficiente.\")\n",
    "\n",
    "# Ejemplo de uso\n",
    "tienda_principal = Tienda(\"La Tienda Principal\", \"Ciudad A\")\n",
    "producto_leche = Producto(\"Leche\", \"L101\", 2.50, 50)\n",
    "producto_pan = Producto(\"Pan\", \"P202\", 1.80, 30)\n",
    "\n",
    "tienda_principal.agregar_producto(producto_leche)\n",
    "tienda_principal.agregar_producto(producto_pan)\n",
    "\n",
    "tienda_principal.vender_producto(\"L101\", 5)\n",
    "tienda_principal.vender_producto(\"P202\", 40) # Esto fallará"
   ]
  }
 ],
 "metadata": {
  "kernelspec": {
   "display_name": "Python 3",
   "language": "python",
   "name": "python3"
  },
  "language_info": {
   "codemirror_mode": {
    "name": "ipython",
    "version": 3
   },
   "file_extension": ".py",
   "mimetype": "text/x-python",
   "name": "python",
   "nbconvert_exporter": "python",
   "pygments_lexer": "ipython3",
   "version": "3.11.9"
  }
 },
 "nbformat": 4,
 "nbformat_minor": 5
}
